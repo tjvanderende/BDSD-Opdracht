{
 "cells": [
  {
   "cell_type": "code",
   "execution_count": 27,
   "metadata": {
    "collapsed": true
   },
   "outputs": [
    {
     "ename": "ModuleNotFoundError",
     "evalue": "No module named 'poli_sitemap_spider'",
     "traceback": [
      "\u001b[0;31m---------------------------------------------------------------------------\u001b[0m",
      "\u001b[0;31mModuleNotFoundError\u001b[0m                       Traceback (most recent call last)",
      "\u001b[0;32m<ipython-input-27-ca1e6f000bf1>\u001b[0m in \u001b[0;36m<module>\u001b[0;34m\u001b[0m\n\u001b[1;32m      8\u001b[0m \u001b[0;32mimport\u001b[0m \u001b[0mos\u001b[0m\u001b[0;34m\u001b[0m\u001b[0;34m\u001b[0m\u001b[0m\n\u001b[1;32m      9\u001b[0m \u001b[0msys\u001b[0m\u001b[0;34m.\u001b[0m\u001b[0mpath\u001b[0m\u001b[0;34m.\u001b[0m\u001b[0mappend\u001b[0m\u001b[0;34m(\u001b[0m\u001b[0;34m'../../../scraper/Sitemap'\u001b[0m\u001b[0;34m)\u001b[0m\u001b[0;34m\u001b[0m\u001b[0;34m\u001b[0m\u001b[0m\n\u001b[0;32m---> 10\u001b[0;31m \u001b[0;32mimport\u001b[0m \u001b[0mpoli_sitemap_spider\u001b[0m \u001b[0;32mas\u001b[0m \u001b[0mpoli\u001b[0m\u001b[0;34m\u001b[0m\u001b[0;34m\u001b[0m\u001b[0m\n\u001b[0m",
      "\u001b[0;31mModuleNotFoundError\u001b[0m: No module named 'poli_sitemap_spider'"
     ],
     "output_type": "error"
    }
   ],
   "source": [
    "from goose3 import Goose\n",
    "import pandas as pd\n",
    "import numpy as np\n",
    "from twisted.internet import reactor\n",
    "from scrapy.crawler import CrawlerProcess\n",
    "import tldextract\n",
    "import sys\n",
    "import os\n",
    "sys.path.append('../../../scraper/Sitemap')\n",
    "import poli_sitemap_spider as poli"
   ]
  },
  {
   "cell_type": "code",
   "execution_count": 28,
   "metadata": {},
   "outputs": [
    {
     "name": "stdout",
     "output_type": "stream",
     "text": [
      "heerenveen.christenunie.nl\nhttps://heerenveen.christenunie.nl\n"
     ]
    }
   ],
   "source": [
    "start_url = \"https://heerenveen.christenunie.nl\"\n",
    "extracted_domain = tldextract.extract(start_url)\n",
    "domain = extracted_domain[0]+'.'+extracted_domain[1]+'.'+extracted_domain[2]\n",
    "print(domain)\n",
    "print(start_url)"
   ]
  },
  {
   "cell_type": "code",
   "execution_count": 20,
   "metadata": {},
   "outputs": [
    {
     "ename": "FileNotFoundError",
     "evalue": "[Errno 2] No such file or directory: 'links.csv'",
     "traceback": [
      "\u001b[0;31m---------------------------------------------------------------------------\u001b[0m",
      "\u001b[0;31mFileNotFoundError\u001b[0m                         Traceback (most recent call last)",
      "\u001b[0;32m<ipython-input-20-bec785653f8e>\u001b[0m in \u001b[0;36m<module>\u001b[0;34m\u001b[0m\n\u001b[0;32m----> 1\u001b[0;31m \u001b[0mos\u001b[0m\u001b[0;34m.\u001b[0m\u001b[0mremove\u001b[0m\u001b[0;34m(\u001b[0m\u001b[0;34m\"links.csv\"\u001b[0m\u001b[0;34m)\u001b[0m\u001b[0;34m\u001b[0m\u001b[0;34m\u001b[0m\u001b[0m\n\u001b[0m\u001b[1;32m      2\u001b[0m process = CrawlerProcess({\n\u001b[1;32m      3\u001b[0m     \u001b[0;34m'FEED_URI'\u001b[0m\u001b[0;34m:\u001b[0m \u001b[0;34m'links.csv'\u001b[0m\u001b[0;34m,\u001b[0m\u001b[0;34m\u001b[0m\u001b[0;34m\u001b[0m\u001b[0m\n\u001b[1;32m      4\u001b[0m     \u001b[0;34m'FEED_FORMAT'\u001b[0m\u001b[0;34m:\u001b[0m \u001b[0;34m'csv'\u001b[0m\u001b[0;34m\u001b[0m\u001b[0;34m\u001b[0m\u001b[0m\n\u001b[1;32m      5\u001b[0m })\n",
      "\u001b[0;31mFileNotFoundError\u001b[0m: [Errno 2] No such file or directory: 'links.csv'"
     ],
     "output_type": "error"
    }
   ],
   "source": [
    "os.remove(\"links.csv\")\n",
    "process = CrawlerProcess({\n",
    "    'FEED_URI': 'links.csv',\n",
    "    'FEED_FORMAT': 'csv'\n",
    "})\n",
    "\n",
    "d = process.crawl(poli.PoliSitemapSpider, start_urls=[start_url], allowed_domains=[domain])\n",
    "d.addBoth(lambda _: reactor.stop())\n",
    "reactor.run() # the script will block here until the crawling is finished\n"
   ]
  },
  {
   "cell_type": "code",
   "execution_count": 4,
   "metadata": {},
   "outputs": [],
   "source": [
    "g = Goose()"
   ]
  },
  {
   "cell_type": "code",
   "execution_count": 5,
   "metadata": {},
   "outputs": [
    {
     "data": {
      "text/plain": [
       "0              https://heerenveen.christenunie.nl/nieuws\n",
       "1      https://heerenveen.christenunie.nl/k/n2531/new...\n",
       "2      https://heerenveen.christenunie.nl/k/n2531/new...\n",
       "3      https://heerenveen.christenunie.nl/k/n2531/new...\n",
       "4      https://heerenveen.christenunie.nl/k/n2531/new...\n",
       "5      https://heerenveen.christenunie.nl/k/n2531/new...\n",
       "6      https://heerenveen.christenunie.nl/k/n2531/new...\n",
       "7      https://heerenveen.christenunie.nl/k/n2531/new...\n",
       "8      https://heerenveen.christenunie.nl/k/n2531/new...\n",
       "9      https://heerenveen.christenunie.nl/k/n2531/new...\n",
       "10     https://heerenveen.christenunie.nl/k/n2531/new...\n",
       "11     https://heerenveen.christenunie.nl/k/n2531/new...\n",
       "12     https://heerenveen.christenunie.nl/k/n2531/new...\n",
       "13     https://heerenveen.christenunie.nl/k/n2531/new...\n",
       "14     https://heerenveen.christenunie.nl/k/n2531/new...\n",
       "15     https://heerenveen.christenunie.nl/k/n2531/new...\n",
       "16     https://heerenveen.christenunie.nl/k/n2531/new...\n",
       "17     https://heerenveen.christenunie.nl/k/n2531/new...\n",
       "18     https://heerenveen.christenunie.nl/k/n2531/new...\n",
       "19     https://heerenveen.christenunie.nl/k/n2531/new...\n",
       "20     https://heerenveen.christenunie.nl/k/n2531/new...\n",
       "21     https://heerenveen.christenunie.nl/k/n2531/new...\n",
       "22     https://heerenveen.christenunie.nl/k/n2531/new...\n",
       "23     https://heerenveen.christenunie.nl/k/n2531/new...\n",
       "24     https://heerenveen.christenunie.nl/k/n2531/new...\n",
       "25     https://heerenveen.christenunie.nl/k/n2531/new...\n",
       "26     https://heerenveen.christenunie.nl/k/n2531/new...\n",
       "27     https://heerenveen.christenunie.nl/k/n2531/new...\n",
       "28     https://heerenveen.christenunie.nl/k/n2531/new...\n",
       "29     https://heerenveen.christenunie.nl/k/n2531/new...\n",
       "                             ...                        \n",
       "328    https://heerenveen.christenunie.nl/k/n2531/new...\n",
       "329    https://heerenveen.christenunie.nl/k/n2531/new...\n",
       "330    https://heerenveen.christenunie.nl/k/n2531/new...\n",
       "331    https://heerenveen.christenunie.nl/k/n2531/new...\n",
       "332    https://heerenveen.christenunie.nl/k/n2531/new...\n",
       "333    https://heerenveen.christenunie.nl/k/n2531/new...\n",
       "334    https://heerenveen.christenunie.nl/k/n2531/new...\n",
       "335    https://heerenveen.christenunie.nl/k/n2531/new...\n",
       "336    https://heerenveen.christenunie.nl/k/n2531/new...\n",
       "337    https://heerenveen.christenunie.nl/k/n2531/new...\n",
       "338    https://heerenveen.christenunie.nl/k/n2531/new...\n",
       "339    https://heerenveen.christenunie.nl/k/n2531/new...\n",
       "340    https://heerenveen.christenunie.nl/k/n2531/new...\n",
       "341    https://heerenveen.christenunie.nl/k/n2531/new...\n",
       "342    https://heerenveen.christenunie.nl/k/n2531/new...\n",
       "343    https://heerenveen.christenunie.nl/k/n2531/new...\n",
       "344    https://heerenveen.christenunie.nl/k/n2531/new...\n",
       "345    https://heerenveen.christenunie.nl/k/n2531/new...\n",
       "346    https://heerenveen.christenunie.nl/k/n2531/new...\n",
       "347    https://heerenveen.christenunie.nl/k/n2531/new...\n",
       "348    https://heerenveen.christenunie.nl/k/n2531/new...\n",
       "349    https://heerenveen.christenunie.nl/k/n2531/new...\n",
       "350    https://heerenveen.christenunie.nl/k/n2531/new...\n",
       "351    https://heerenveen.christenunie.nl/k/n2531/new...\n",
       "352    https://heerenveen.christenunie.nl/k/n2531/new...\n",
       "353    https://heerenveen.christenunie.nl/k/n2531/new...\n",
       "354    https://heerenveen.christenunie.nl/k/n2531/new...\n",
       "355    https://heerenveen.christenunie.nl/k/n2531/new...\n",
       "356    https://heerenveen.christenunie.nl/k/n2531/new...\n",
       "357    https://heerenveen.christenunie.nl/k/n2531/new...\n",
       "Name: url, Length: 358, dtype: object"
      ]
     },
     "execution_count": 5,
     "metadata": {},
     "output_type": "execute_result"
    }
   ],
   "source": [
    "url_list = pd.read_csv('./links.csv')\n",
    "urls = url_list['url']\n",
    "urls"
   ]
  },
  {
   "cell_type": "code",
   "execution_count": 6,
   "metadata": {},
   "outputs": [
    {
     "name": "stderr",
     "output_type": "stream",
     "text": [
      "2019-02-22 10:35:37 [urllib3.connectionpool] DEBUG: Starting new HTTPS connection (1): heerenveen.christenunie.nl:443\n"
     ]
    },
    {
     "name": "stdout",
     "output_type": "stream",
     "text": [
      "start scraping: https://heerenveen.christenunie.nl/nieuws\n"
     ]
    },
    {
     "name": "stderr",
     "output_type": "stream",
     "text": [
      "2019-02-22 10:35:37 [urllib3.connectionpool] DEBUG: https://heerenveen.christenunie.nl:443 \"GET /nieuws HTTP/1.1\" 200 6714\n"
     ]
    },
    {
     "name": "stdout",
     "output_type": "stream",
     "text": [
      "done scraping: https://heerenveen.christenunie.nl/nieuws\n",
      "start scraping: https://heerenveen.christenunie.nl/k/n2531/news/view/1197111/43700/politieke-debatten-in-jubbega-akkrum-en-heerenveen.html\n"
     ]
    },
    {
     "name": "stderr",
     "output_type": "stream",
     "text": [
      "2019-02-22 10:35:38 [urllib3.connectionpool] DEBUG: https://heerenveen.christenunie.nl:443 \"GET /k/n2531/news/view/1197111/43700/politieke-debatten-in-jubbega-akkrum-en-heerenveen.html HTTP/1.1\" 200 6056\n"
     ]
    },
    {
     "name": "stdout",
     "output_type": "stream",
     "text": [
      "done scraping: https://heerenveen.christenunie.nl/k/n2531/news/view/1197111/43700/politieke-debatten-in-jubbega-akkrum-en-heerenveen.html\n",
      "start scraping: https://heerenveen.christenunie.nl/k/n2531/news/view/1193891/43700/gemeenteraadsverkiezingen-21-maart-2018.html\n"
     ]
    },
    {
     "name": "stderr",
     "output_type": "stream",
     "text": [
      "2019-02-22 10:35:39 [urllib3.connectionpool] DEBUG: https://heerenveen.christenunie.nl:443 \"GET /k/n2531/news/view/1193891/43700/gemeenteraadsverkiezingen-21-maart-2018.html HTTP/1.1\" 200 5336\n"
     ]
    },
    {
     "name": "stdout",
     "output_type": "stream",
     "text": [
      "done scraping: https://heerenveen.christenunie.nl/k/n2531/news/view/1193891/43700/gemeenteraadsverkiezingen-21-maart-2018.html\n",
      "start scraping: https://heerenveen.christenunie.nl/k/n2531/news/view/1109980/43700/dank-voor-uw-stem.html\n"
     ]
    },
    {
     "name": "stderr",
     "output_type": "stream",
     "text": [
      "2019-02-22 10:35:39 [urllib3.connectionpool] DEBUG: https://heerenveen.christenunie.nl:443 \"GET /k/n2531/news/view/1109980/43700/dank-voor-uw-stem.html HTTP/1.1\" 200 6022\n"
     ]
    },
    {
     "name": "stdout",
     "output_type": "stream",
     "text": [
      "done scraping: https://heerenveen.christenunie.nl/k/n2531/news/view/1109980/43700/dank-voor-uw-stem.html\n",
      "start scraping: https://heerenveen.christenunie.nl/k/n2531/news/view/1109024/43700/lintjes.html\n"
     ]
    },
    {
     "name": "stderr",
     "output_type": "stream",
     "text": [
      "2019-02-22 10:35:40 [urllib3.connectionpool] DEBUG: https://heerenveen.christenunie.nl:443 \"GET /k/n2531/news/view/1109024/43700/lintjes.html HTTP/1.1\" 200 6089\n"
     ]
    },
    {
     "name": "stdout",
     "output_type": "stream",
     "text": [
      "done scraping: https://heerenveen.christenunie.nl/k/n2531/news/view/1109024/43700/lintjes.html\n",
      "start scraping: https://heerenveen.christenunie.nl/k/n2531/news/view/1106421/43700/christenunie-stelt-kamervragen-over-gaswinning-heerenveen.html\n"
     ]
    },
    {
     "name": "stderr",
     "output_type": "stream",
     "text": [
      "2019-02-22 10:35:40 [urllib3.connectionpool] DEBUG: https://heerenveen.christenunie.nl:443 \"GET /k/n2531/news/view/1106421/43700/christenunie-stelt-kamervragen-over-gaswinning-heerenveen.html HTTP/1.1\" 200 6047\n"
     ]
    },
    {
     "name": "stdout",
     "output_type": "stream",
     "text": [
      "done scraping: https://heerenveen.christenunie.nl/k/n2531/news/view/1106421/43700/christenunie-stelt-kamervragen-over-gaswinning-heerenveen.html\n",
      "start scraping: https://heerenveen.christenunie.nl/k/n2531/news/view/1089391/43700/laat-weten-wat-jouw-school-bijzonder-maakt.html\n"
     ]
    },
    {
     "name": "stderr",
     "output_type": "stream",
     "text": [
      "2019-02-22 10:35:41 [urllib3.connectionpool] DEBUG: https://heerenveen.christenunie.nl:443 \"GET /k/n2531/news/view/1089391/43700/laat-weten-wat-jouw-school-bijzonder-maakt.html HTTP/1.1\" 200 5699\n"
     ]
    },
    {
     "name": "stdout",
     "output_type": "stream",
     "text": [
      "done scraping: https://heerenveen.christenunie.nl/k/n2531/news/view/1089391/43700/laat-weten-wat-jouw-school-bijzonder-maakt.html\n",
      "start scraping: https://heerenveen.christenunie.nl/k/n2531/news/view/1197111/184837/politieke-debatten-in-jubbega-akkrum-en-heerenveen.html\n"
     ]
    },
    {
     "name": "stderr",
     "output_type": "stream",
     "text": [
      "2019-02-22 10:35:42 [urllib3.connectionpool] DEBUG: https://heerenveen.christenunie.nl:443 \"GET /k/n2531/news/view/1197111/184837/politieke-debatten-in-jubbega-akkrum-en-heerenveen.html HTTP/1.1\" 200 6155\n"
     ]
    },
    {
     "name": "stdout",
     "output_type": "stream",
     "text": [
      "done scraping: https://heerenveen.christenunie.nl/k/n2531/news/view/1197111/184837/politieke-debatten-in-jubbega-akkrum-en-heerenveen.html\n",
      "start scraping: https://heerenveen.christenunie.nl/k/n2531/news/view/586306/43700/christenunie-behoudt-2-zetels.html\n"
     ]
    },
    {
     "name": "stderr",
     "output_type": "stream",
     "text": [
      "2019-02-22 10:35:42 [urllib3.connectionpool] DEBUG: https://heerenveen.christenunie.nl:443 \"GET /k/n2531/news/view/586306/43700/christenunie-behoudt-2-zetels.html HTTP/1.1\" 200 6222\n"
     ]
    },
    {
     "name": "stdout",
     "output_type": "stream",
     "text": [
      "done scraping: https://heerenveen.christenunie.nl/k/n2531/news/view/586306/43700/christenunie-behoudt-2-zetels.html\n",
      "start scraping: https://heerenveen.christenunie.nl/k/n2531/news/archive/184837\n"
     ]
    },
    {
     "name": "stderr",
     "output_type": "stream",
     "text": [
      "2019-02-22 10:35:43 [urllib3.connectionpool] DEBUG: https://heerenveen.christenunie.nl:443 \"GET /k/n2531/news/archive/184837 HTTP/1.1\" 200 4913\n"
     ]
    },
    {
     "name": "stdout",
     "output_type": "stream",
     "text": [
      "done scraping: https://heerenveen.christenunie.nl/k/n2531/news/archive/184837\n",
      "start scraping: https://heerenveen.christenunie.nl/k/n2531/news/archive/184837/2018\n"
     ]
    },
    {
     "name": "stderr",
     "output_type": "stream",
     "text": [
      "2019-02-22 10:35:43 [urllib3.connectionpool] DEBUG: https://heerenveen.christenunie.nl:443 \"GET /k/n2531/news/archive/184837/2018 HTTP/1.1\" 200 4882\n"
     ]
    },
    {
     "name": "stdout",
     "output_type": "stream",
     "text": [
      "done scraping: https://heerenveen.christenunie.nl/k/n2531/news/archive/184837/2018\n",
      "start scraping: https://heerenveen.christenunie.nl/k/n2531/news/archive/184837/2018/3\n"
     ]
    },
    {
     "name": "stderr",
     "output_type": "stream",
     "text": [
      "2019-02-22 10:35:44 [urllib3.connectionpool] DEBUG: https://heerenveen.christenunie.nl:443 \"GET /k/n2531/news/archive/184837/2018/3 HTTP/1.1\" 200 5064\n"
     ]
    },
    {
     "name": "stdout",
     "output_type": "stream",
     "text": [
      "done scraping: https://heerenveen.christenunie.nl/k/n2531/news/archive/184837/2018/3\n",
      "start scraping: https://heerenveen.christenunie.nl/k/n2531/news/view/1197110/184837/politiek-debat-in-heerenveen.html\n"
     ]
    },
    {
     "name": "stderr",
     "output_type": "stream",
     "text": [
      "2019-02-22 10:35:45 [urllib3.connectionpool] DEBUG: https://heerenveen.christenunie.nl:443 \"GET /k/n2531/news/view/1197110/184837/politiek-debat-in-heerenveen.html HTTP/1.1\" 200 6517\n"
     ]
    },
    {
     "name": "stdout",
     "output_type": "stream",
     "text": [
      "done scraping: https://heerenveen.christenunie.nl/k/n2531/news/view/1197110/184837/politiek-debat-in-heerenveen.html\n",
      "start scraping: https://heerenveen.christenunie.nl/k/n2531/news/view/1197108/184837/politiek-debat-in-akkrum.html\n"
     ]
    },
    {
     "name": "stderr",
     "output_type": "stream",
     "text": [
      "2019-02-22 10:35:46 [urllib3.connectionpool] DEBUG: https://heerenveen.christenunie.nl:443 \"GET /k/n2531/news/view/1197108/184837/politiek-debat-in-akkrum.html HTTP/1.1\" 200 6618\n"
     ]
    },
    {
     "name": "stdout",
     "output_type": "stream",
     "text": [
      "done scraping: https://heerenveen.christenunie.nl/k/n2531/news/view/1197108/184837/politiek-debat-in-akkrum.html\n",
      "start scraping: https://heerenveen.christenunie.nl/k/n2531/news/view/1197107/184837/politiek-debat-in-jubbega.html\n"
     ]
    },
    {
     "name": "stderr",
     "output_type": "stream",
     "text": [
      "2019-02-22 10:35:47 [urllib3.connectionpool] DEBUG: https://heerenveen.christenunie.nl:443 \"GET /k/n2531/news/view/1197107/184837/politiek-debat-in-jubbega.html HTTP/1.1\" 200 6610\n"
     ]
    },
    {
     "name": "stdout",
     "output_type": "stream",
     "text": [
      "done scraping: https://heerenveen.christenunie.nl/k/n2531/news/view/1197107/184837/politiek-debat-in-jubbega.html\n",
      "start scraping: https://heerenveen.christenunie.nl/k/n2531/news/archive/43700\n"
     ]
    },
    {
     "name": "stderr",
     "output_type": "stream",
     "text": [
      "2019-02-22 10:35:48 [urllib3.connectionpool] DEBUG: https://heerenveen.christenunie.nl:443 \"GET /k/n2531/news/archive/43700 HTTP/1.1\" 200 4914\n"
     ]
    },
    {
     "name": "stdout",
     "output_type": "stream",
     "text": [
      "done scraping: https://heerenveen.christenunie.nl/k/n2531/news/archive/43700\n",
      "start scraping: https://heerenveen.christenunie.nl/k/n2531/news/archive/43700/2017\n"
     ]
    },
    {
     "name": "stderr",
     "output_type": "stream",
     "text": [
      "2019-02-22 10:35:48 [urllib3.connectionpool] DEBUG: https://heerenveen.christenunie.nl:443 \"GET /k/n2531/news/archive/43700/2017 HTTP/1.1\" 200 4872\n"
     ]
    },
    {
     "name": "stdout",
     "output_type": "stream",
     "text": [
      "done scraping: https://heerenveen.christenunie.nl/k/n2531/news/archive/43700/2017\n",
      "start scraping: https://heerenveen.christenunie.nl/k/n2531/news/archive/43700/2017/3\n"
     ]
    },
    {
     "name": "stderr",
     "output_type": "stream",
     "text": [
      "2019-02-22 10:35:49 [urllib3.connectionpool] DEBUG: https://heerenveen.christenunie.nl:443 \"GET /k/n2531/news/archive/43700/2017/3 HTTP/1.1\" 200 5063\n"
     ]
    },
    {
     "name": "stdout",
     "output_type": "stream",
     "text": [
      "done scraping: https://heerenveen.christenunie.nl/k/n2531/news/archive/43700/2017/3\n",
      "start scraping: https://heerenveen.christenunie.nl/k/n2531/news/archive/43700/2013\n"
     ]
    },
    {
     "name": "stderr",
     "output_type": "stream",
     "text": [
      "2019-02-22 10:35:50 [urllib3.connectionpool] DEBUG: https://heerenveen.christenunie.nl:443 \"GET /k/n2531/news/archive/43700/2013 HTTP/1.1\" 200 4921\n"
     ]
    },
    {
     "name": "stdout",
     "output_type": "stream",
     "text": [
      "done scraping: https://heerenveen.christenunie.nl/k/n2531/news/archive/43700/2013\n",
      "start scraping: https://heerenveen.christenunie.nl/k/n2531/news/archive/43700/2013/11\n"
     ]
    },
    {
     "name": "stderr",
     "output_type": "stream",
     "text": [
      "2019-02-22 10:35:50 [urllib3.connectionpool] DEBUG: https://heerenveen.christenunie.nl:443 \"GET /k/n2531/news/archive/43700/2013/11 HTTP/1.1\" 200 5099\n"
     ]
    },
    {
     "name": "stdout",
     "output_type": "stream",
     "text": [
      "done scraping: https://heerenveen.christenunie.nl/k/n2531/news/archive/43700/2013/11\n",
      "start scraping: https://heerenveen.christenunie.nl/k/n2531/news/view/585220/43700/lijsttrekker-christenunie-sluit-dorpenmarathon-af-in-heerenveen.html\n"
     ]
    },
    {
     "name": "stderr",
     "output_type": "stream",
     "text": [
      "2019-02-22 10:35:50 [urllib3.connectionpool] DEBUG: https://heerenveen.christenunie.nl:443 \"GET /k/n2531/news/view/585220/43700/lijsttrekker-christenunie-sluit-dorpenmarathon-af-in-heerenveen.html HTTP/1.1\" 200 6648\n"
     ]
    },
    {
     "name": "stdout",
     "output_type": "stream",
     "text": [
      "done scraping: https://heerenveen.christenunie.nl/k/n2531/news/view/585220/43700/lijsttrekker-christenunie-sluit-dorpenmarathon-af-in-heerenveen.html\n",
      "start scraping: https://heerenveen.christenunie.nl/k/n2531/news/view/579897/43700/christenunie-wil-prostitutiebeleid-op-de-agenda.html\n"
     ]
    },
    {
     "name": "stderr",
     "output_type": "stream",
     "text": [
      "2019-02-22 10:35:51 [urllib3.connectionpool] DEBUG: https://heerenveen.christenunie.nl:443 \"GET /k/n2531/news/view/579897/43700/christenunie-wil-prostitutiebeleid-op-de-agenda.html HTTP/1.1\" 200 6702\n"
     ]
    },
    {
     "name": "stdout",
     "output_type": "stream",
     "text": [
      "done scraping: https://heerenveen.christenunie.nl/k/n2531/news/view/579897/43700/christenunie-wil-prostitutiebeleid-op-de-agenda.html\n",
      "start scraping: https://heerenveen.christenunie.nl/k/n2531/news/archive/43700/2017/2\n"
     ]
    },
    {
     "name": "stderr",
     "output_type": "stream",
     "text": [
      "2019-02-22 10:35:51 [urllib3.connectionpool] DEBUG: https://heerenveen.christenunie.nl:443 \"GET /k/n2531/news/archive/43700/2017/2 HTTP/1.1\" 200 4984\n"
     ]
    },
    {
     "name": "stdout",
     "output_type": "stream",
     "text": [
      "done scraping: https://heerenveen.christenunie.nl/k/n2531/news/archive/43700/2017/2\n",
      "start scraping: https://heerenveen.christenunie.nl/k/n2531/news/archive/43700/2018\n"
     ]
    },
    {
     "name": "stderr",
     "output_type": "stream",
     "text": [
      "2019-02-22 10:35:53 [urllib3.connectionpool] DEBUG: https://heerenveen.christenunie.nl:443 \"GET /k/n2531/news/archive/43700/2018 HTTP/1.1\" 200 4872\n"
     ]
    },
    {
     "name": "stdout",
     "output_type": "stream",
     "text": [
      "done scraping: https://heerenveen.christenunie.nl/k/n2531/news/archive/43700/2018\n",
      "start scraping: https://heerenveen.christenunie.nl/k/n2531/news/archive/43700/2018/2\n"
     ]
    },
    {
     "name": "stderr",
     "output_type": "stream",
     "text": [
      "2019-02-22 10:35:54 [urllib3.connectionpool] DEBUG: https://heerenveen.christenunie.nl:443 \"GET /k/n2531/news/archive/43700/2018/2 HTTP/1.1\" 200 4962\n"
     ]
    },
    {
     "name": "stdout",
     "output_type": "stream",
     "text": [
      "done scraping: https://heerenveen.christenunie.nl/k/n2531/news/archive/43700/2018/2\n",
      "start scraping: https://heerenveen.christenunie.nl/k/n2531/news/archive/43700/2018/3\n"
     ]
    },
    {
     "name": "stderr",
     "output_type": "stream",
     "text": [
      "2019-02-22 10:35:54 [urllib3.connectionpool] DEBUG: https://heerenveen.christenunie.nl:443 \"GET /k/n2531/news/archive/43700/2018/3 HTTP/1.1\" 200 4989\n"
     ]
    },
    {
     "name": "stdout",
     "output_type": "stream",
     "text": [
      "done scraping: https://heerenveen.christenunie.nl/k/n2531/news/archive/43700/2018/3\n",
      "start scraping: https://heerenveen.christenunie.nl/k/n2531/news/archive/184837/2018/03\n"
     ]
    },
    {
     "name": "stderr",
     "output_type": "stream",
     "text": [
      "2019-02-22 10:35:55 [urllib3.connectionpool] DEBUG: https://heerenveen.christenunie.nl:443 \"GET /k/n2531/news/archive/184837/2018/03 HTTP/1.1\" 200 5066\n"
     ]
    },
    {
     "name": "stdout",
     "output_type": "stream",
     "text": [
      "done scraping: https://heerenveen.christenunie.nl/k/n2531/news/archive/184837/2018/03\n",
      "start scraping: https://heerenveen.christenunie.nl/k/n2531/news/archive/184837/2018/02\n"
     ]
    },
    {
     "name": "stderr",
     "output_type": "stream",
     "text": [
      "2019-02-22 10:35:55 [urllib3.connectionpool] DEBUG: https://heerenveen.christenunie.nl:443 \"GET /k/n2531/news/archive/184837/2018/02 HTTP/1.1\" 200 4973\n"
     ]
    },
    {
     "name": "stdout",
     "output_type": "stream",
     "text": [
      "done scraping: https://heerenveen.christenunie.nl/k/n2531/news/archive/184837/2018/02\n",
      "start scraping: https://heerenveen.christenunie.nl/k/n2531/news/archive/184837/2017\n"
     ]
    },
    {
     "name": "stderr",
     "output_type": "stream",
     "text": [
      "2019-02-22 10:35:56 [urllib3.connectionpool] DEBUG: https://heerenveen.christenunie.nl:443 \"GET /k/n2531/news/archive/184837/2017 HTTP/1.1\" 200 4886\n"
     ]
    },
    {
     "name": "stdout",
     "output_type": "stream",
     "text": [
      "done scraping: https://heerenveen.christenunie.nl/k/n2531/news/archive/184837/2017\n",
      "start scraping: https://heerenveen.christenunie.nl/k/n2531/news/archive/184837/2013\n"
     ]
    },
    {
     "name": "stderr",
     "output_type": "stream",
     "text": [
      "2019-02-22 10:35:56 [urllib3.connectionpool] DEBUG: https://heerenveen.christenunie.nl:443 \"GET /k/n2531/news/archive/184837/2013 HTTP/1.1\" 200 4935\n"
     ]
    },
    {
     "name": "stdout",
     "output_type": "stream",
     "text": [
      "done scraping: https://heerenveen.christenunie.nl/k/n2531/news/archive/184837/2013\n",
      "start scraping: https://heerenveen.christenunie.nl/k/n2531/news/archive/184837/2012\n"
     ]
    },
    {
     "name": "stderr",
     "output_type": "stream",
     "text": [
      "2019-02-22 10:35:57 [urllib3.connectionpool] DEBUG: https://heerenveen.christenunie.nl:443 \"GET /k/n2531/news/archive/184837/2012 HTTP/1.1\" 200 4913\n"
     ]
    },
    {
     "name": "stdout",
     "output_type": "stream",
     "text": [
      "done scraping: https://heerenveen.christenunie.nl/k/n2531/news/archive/184837/2012\n",
      "start scraping: https://heerenveen.christenunie.nl/k/n2531/news/archive/184837/2011\n"
     ]
    },
    {
     "name": "stderr",
     "output_type": "stream",
     "text": [
      "2019-02-22 10:35:57 [urllib3.connectionpool] DEBUG: https://heerenveen.christenunie.nl:443 \"GET /k/n2531/news/archive/184837/2011 HTTP/1.1\" 200 4911\n"
     ]
    },
    {
     "name": "stdout",
     "output_type": "stream",
     "text": [
      "done scraping: https://heerenveen.christenunie.nl/k/n2531/news/archive/184837/2011\n",
      "start scraping: https://heerenveen.christenunie.nl/k/n2531/news/archive/184837/2010\n"
     ]
    },
    {
     "name": "stderr",
     "output_type": "stream",
     "text": [
      "2019-02-22 10:35:57 [urllib3.connectionpool] DEBUG: https://heerenveen.christenunie.nl:443 \"GET /k/n2531/news/archive/184837/2010 HTTP/1.1\" 200 4906\n"
     ]
    },
    {
     "name": "stdout",
     "output_type": "stream",
     "text": [
      "done scraping: https://heerenveen.christenunie.nl/k/n2531/news/archive/184837/2010\n",
      "start scraping: https://heerenveen.christenunie.nl/k/n2531/news/archive/184837/2009\n"
     ]
    },
    {
     "name": "stderr",
     "output_type": "stream",
     "text": [
      "2019-02-22 10:35:58 [urllib3.connectionpool] DEBUG: https://heerenveen.christenunie.nl:443 \"GET /k/n2531/news/archive/184837/2009 HTTP/1.1\" 200 4928\n"
     ]
    },
    {
     "name": "stdout",
     "output_type": "stream",
     "text": [
      "done scraping: https://heerenveen.christenunie.nl/k/n2531/news/archive/184837/2009\n",
      "start scraping: https://heerenveen.christenunie.nl/k/n2531/news/archive/184837/2008\n"
     ]
    },
    {
     "name": "stderr",
     "output_type": "stream",
     "text": [
      "2019-02-22 10:35:58 [urllib3.connectionpool] DEBUG: https://heerenveen.christenunie.nl:443 \"GET /k/n2531/news/archive/184837/2008 HTTP/1.1\" 200 4915\n"
     ]
    },
    {
     "name": "stdout",
     "output_type": "stream",
     "text": [
      "done scraping: https://heerenveen.christenunie.nl/k/n2531/news/archive/184837/2008\n",
      "start scraping: https://heerenveen.christenunie.nl/k/n2531/news/archive/184837/2007\n"
     ]
    },
    {
     "name": "stderr",
     "output_type": "stream",
     "text": [
      "2019-02-22 10:35:59 [urllib3.connectionpool] DEBUG: https://heerenveen.christenunie.nl:443 \"GET /k/n2531/news/archive/184837/2007 HTTP/1.1\" 200 4872\n"
     ]
    },
    {
     "name": "stdout",
     "output_type": "stream",
     "text": [
      "done scraping: https://heerenveen.christenunie.nl/k/n2531/news/archive/184837/2007\n",
      "start scraping: https://heerenveen.christenunie.nl/k/n2531/news/archive/184837/2006\n"
     ]
    },
    {
     "name": "stderr",
     "output_type": "stream",
     "text": [
      "2019-02-22 10:36:00 [urllib3.connectionpool] DEBUG: https://heerenveen.christenunie.nl:443 \"GET /k/n2531/news/archive/184837/2006 HTTP/1.1\" 200 4886\n"
     ]
    },
    {
     "name": "stdout",
     "output_type": "stream",
     "text": [
      "done scraping: https://heerenveen.christenunie.nl/k/n2531/news/archive/184837/2006\n",
      "start scraping: https://heerenveen.christenunie.nl/k/n2531/news/archive/184837/2005\n"
     ]
    },
    {
     "name": "stderr",
     "output_type": "stream",
     "text": [
      "2019-02-22 10:36:00 [urllib3.connectionpool] DEBUG: https://heerenveen.christenunie.nl:443 \"GET /k/n2531/news/archive/184837/2005 HTTP/1.1\" 200 4892\n"
     ]
    },
    {
     "name": "stdout",
     "output_type": "stream",
     "text": [
      "done scraping: https://heerenveen.christenunie.nl/k/n2531/news/archive/184837/2005\n",
      "start scraping: https://heerenveen.christenunie.nl/k/n2531/news/archive/184837/2004\n"
     ]
    },
    {
     "name": "stderr",
     "output_type": "stream",
     "text": [
      "2019-02-22 10:36:01 [urllib3.connectionpool] DEBUG: https://heerenveen.christenunie.nl:443 \"GET /k/n2531/news/archive/184837/2004 HTTP/1.1\" 200 4888\n"
     ]
    },
    {
     "name": "stdout",
     "output_type": "stream",
     "text": [
      "done scraping: https://heerenveen.christenunie.nl/k/n2531/news/archive/184837/2004\n",
      "start scraping: https://heerenveen.christenunie.nl/k/n2531/news/archive/43700/2017/03\n"
     ]
    },
    {
     "name": "stderr",
     "output_type": "stream",
     "text": [
      "2019-02-22 10:36:01 [urllib3.connectionpool] DEBUG: https://heerenveen.christenunie.nl:443 \"GET /k/n2531/news/archive/43700/2017/03 HTTP/1.1\" 200 5062\n"
     ]
    },
    {
     "name": "stdout",
     "output_type": "stream",
     "text": [
      "done scraping: https://heerenveen.christenunie.nl/k/n2531/news/archive/43700/2017/03\n",
      "start scraping: https://heerenveen.christenunie.nl/k/n2531/news/archive/43700/2017/02\n"
     ]
    },
    {
     "name": "stderr",
     "output_type": "stream",
     "text": [
      "2019-02-22 10:36:02 [urllib3.connectionpool] DEBUG: https://heerenveen.christenunie.nl:443 \"GET /k/n2531/news/archive/43700/2017/02 HTTP/1.1\" 200 4992\n"
     ]
    },
    {
     "name": "stdout",
     "output_type": "stream",
     "text": [
      "done scraping: https://heerenveen.christenunie.nl/k/n2531/news/archive/43700/2017/02\n",
      "start scraping: https://heerenveen.christenunie.nl/k/n2531/news/archive/43700/2012\n"
     ]
    },
    {
     "name": "stderr",
     "output_type": "stream",
     "text": [
      "2019-02-22 10:36:02 [urllib3.connectionpool] DEBUG: https://heerenveen.christenunie.nl:443 \"GET /k/n2531/news/archive/43700/2012 HTTP/1.1\" 200 4903\n"
     ]
    },
    {
     "name": "stdout",
     "output_type": "stream",
     "text": [
      "done scraping: https://heerenveen.christenunie.nl/k/n2531/news/archive/43700/2012\n",
      "start scraping: https://heerenveen.christenunie.nl/k/n2531/news/archive/43700/2011\n"
     ]
    },
    {
     "name": "stderr",
     "output_type": "stream",
     "text": [
      "2019-02-22 10:36:03 [urllib3.connectionpool] DEBUG: https://heerenveen.christenunie.nl:443 \"GET /k/n2531/news/archive/43700/2011 HTTP/1.1\" 200 4900\n"
     ]
    },
    {
     "name": "stdout",
     "output_type": "stream",
     "text": [
      "done scraping: https://heerenveen.christenunie.nl/k/n2531/news/archive/43700/2011\n",
      "start scraping: https://heerenveen.christenunie.nl/k/n2531/news/archive/43700/2010\n"
     ]
    },
    {
     "name": "stderr",
     "output_type": "stream",
     "text": [
      "2019-02-22 10:36:04 [urllib3.connectionpool] DEBUG: https://heerenveen.christenunie.nl:443 \"GET /k/n2531/news/archive/43700/2010 HTTP/1.1\" 200 4892\n"
     ]
    },
    {
     "name": "stdout",
     "output_type": "stream",
     "text": [
      "done scraping: https://heerenveen.christenunie.nl/k/n2531/news/archive/43700/2010\n",
      "start scraping: https://heerenveen.christenunie.nl/k/n2531/news/archive/43700/2009\n"
     ]
    },
    {
     "name": "stderr",
     "output_type": "stream",
     "text": [
      "2019-02-22 10:36:05 [urllib3.connectionpool] DEBUG: https://heerenveen.christenunie.nl:443 \"GET /k/n2531/news/archive/43700/2009 HTTP/1.1\" 200 4914\n"
     ]
    },
    {
     "name": "stdout",
     "output_type": "stream",
     "text": [
      "done scraping: https://heerenveen.christenunie.nl/k/n2531/news/archive/43700/2009\n",
      "start scraping: https://heerenveen.christenunie.nl/k/n2531/news/archive/43700/2008\n"
     ]
    },
    {
     "name": "stderr",
     "output_type": "stream",
     "text": [
      "2019-02-22 10:36:05 [urllib3.connectionpool] DEBUG: https://heerenveen.christenunie.nl:443 \"GET /k/n2531/news/archive/43700/2008 HTTP/1.1\" 200 4898\n"
     ]
    },
    {
     "name": "stdout",
     "output_type": "stream",
     "text": [
      "done scraping: https://heerenveen.christenunie.nl/k/n2531/news/archive/43700/2008\n",
      "start scraping: https://heerenveen.christenunie.nl/k/n2531/news/archive/43700/2007\n"
     ]
    },
    {
     "name": "stderr",
     "output_type": "stream",
     "text": [
      "2019-02-22 10:36:06 [urllib3.connectionpool] DEBUG: https://heerenveen.christenunie.nl:443 \"GET /k/n2531/news/archive/43700/2007 HTTP/1.1\" 200 4864\n"
     ]
    },
    {
     "name": "stdout",
     "output_type": "stream",
     "text": [
      "done scraping: https://heerenveen.christenunie.nl/k/n2531/news/archive/43700/2007\n",
      "start scraping: https://heerenveen.christenunie.nl/k/n2531/news/archive/43700/2006\n"
     ]
    },
    {
     "name": "stderr",
     "output_type": "stream",
     "text": [
      "2019-02-22 10:36:07 [urllib3.connectionpool] DEBUG: https://heerenveen.christenunie.nl:443 \"GET /k/n2531/news/archive/43700/2006 HTTP/1.1\" 200 4873\n"
     ]
    },
    {
     "name": "stdout",
     "output_type": "stream",
     "text": [
      "done scraping: https://heerenveen.christenunie.nl/k/n2531/news/archive/43700/2006\n",
      "start scraping: https://heerenveen.christenunie.nl/k/n2531/news/archive/43700/2005\n"
     ]
    },
    {
     "name": "stderr",
     "output_type": "stream",
     "text": [
      "2019-02-22 10:36:07 [urllib3.connectionpool] DEBUG: https://heerenveen.christenunie.nl:443 \"GET /k/n2531/news/archive/43700/2005 HTTP/1.1\" 200 4880\n"
     ]
    },
    {
     "name": "stdout",
     "output_type": "stream",
     "text": [
      "done scraping: https://heerenveen.christenunie.nl/k/n2531/news/archive/43700/2005\n",
      "start scraping: https://heerenveen.christenunie.nl/k/n2531/news/archive/43700/2004\n"
     ]
    },
    {
     "name": "stderr",
     "output_type": "stream",
     "text": [
      "2019-02-22 10:36:07 [urllib3.connectionpool] DEBUG: https://heerenveen.christenunie.nl:443 \"GET /k/n2531/news/archive/43700/2004 HTTP/1.1\" 200 4873\n"
     ]
    },
    {
     "name": "stdout",
     "output_type": "stream",
     "text": [
      "done scraping: https://heerenveen.christenunie.nl/k/n2531/news/archive/43700/2004\n",
      "start scraping: https://heerenveen.christenunie.nl/k/n2531/news/archive/43700/2013/10\n"
     ]
    },
    {
     "name": "stderr",
     "output_type": "stream",
     "text": [
      "2019-02-22 10:36:08 [urllib3.connectionpool] DEBUG: https://heerenveen.christenunie.nl:443 \"GET /k/n2531/news/archive/43700/2013/10 HTTP/1.1\" 200 5270\n"
     ]
    },
    {
     "name": "stdout",
     "output_type": "stream",
     "text": [
      "done scraping: https://heerenveen.christenunie.nl/k/n2531/news/archive/43700/2013/10\n",
      "start scraping: https://heerenveen.christenunie.nl/k/n2531/news/archive/43700/2013/09\n"
     ]
    },
    {
     "name": "stderr",
     "output_type": "stream",
     "text": [
      "2019-02-22 10:36:08 [urllib3.connectionpool] DEBUG: https://heerenveen.christenunie.nl:443 \"GET /k/n2531/news/archive/43700/2013/09 HTTP/1.1\" 200 5317\n"
     ]
    },
    {
     "name": "stdout",
     "output_type": "stream",
     "text": [
      "done scraping: https://heerenveen.christenunie.nl/k/n2531/news/archive/43700/2013/09\n",
      "start scraping: https://heerenveen.christenunie.nl/k/n2531/news/archive/43700/2013/08\n"
     ]
    },
    {
     "name": "stderr",
     "output_type": "stream",
     "text": [
      "2019-02-22 10:36:09 [urllib3.connectionpool] DEBUG: https://heerenveen.christenunie.nl:443 \"GET /k/n2531/news/archive/43700/2013/08 HTTP/1.1\" 200 4966\n"
     ]
    },
    {
     "name": "stdout",
     "output_type": "stream",
     "text": [
      "done scraping: https://heerenveen.christenunie.nl/k/n2531/news/archive/43700/2013/08\n",
      "start scraping: https://heerenveen.christenunie.nl/k/n2531/news/archive/43700/2013/06\n"
     ]
    },
    {
     "name": "stderr",
     "output_type": "stream",
     "text": [
      "2019-02-22 10:36:09 [urllib3.connectionpool] DEBUG: https://heerenveen.christenunie.nl:443 \"GET /k/n2531/news/archive/43700/2013/06 HTTP/1.1\" 200 4968\n"
     ]
    },
    {
     "name": "stdout",
     "output_type": "stream",
     "text": [
      "done scraping: https://heerenveen.christenunie.nl/k/n2531/news/archive/43700/2013/06\n",
      "start scraping: https://heerenveen.christenunie.nl/k/n2531/news/archive/43700/2013/03\n"
     ]
    },
    {
     "name": "stderr",
     "output_type": "stream",
     "text": [
      "2019-02-22 10:36:10 [urllib3.connectionpool] DEBUG: https://heerenveen.christenunie.nl:443 \"GET /k/n2531/news/archive/43700/2013/03 HTTP/1.1\" 200 5049\n"
     ]
    },
    {
     "name": "stdout",
     "output_type": "stream",
     "text": [
      "done scraping: https://heerenveen.christenunie.nl/k/n2531/news/archive/43700/2013/03\n",
      "start scraping: https://heerenveen.christenunie.nl/k/n2531/news/archive/43700/2013/02\n"
     ]
    },
    {
     "name": "stderr",
     "output_type": "stream",
     "text": [
      "2019-02-22 10:36:10 [urllib3.connectionpool] DEBUG: https://heerenveen.christenunie.nl:443 \"GET /k/n2531/news/archive/43700/2013/02 HTTP/1.1\" 200 4993\n"
     ]
    },
    {
     "name": "stdout",
     "output_type": "stream",
     "text": [
      "done scraping: https://heerenveen.christenunie.nl/k/n2531/news/archive/43700/2013/02\n",
      "start scraping: https://heerenveen.christenunie.nl/k/n2531/news/archive/43700/2018/03\n"
     ]
    },
    {
     "name": "stderr",
     "output_type": "stream",
     "text": [
      "2019-02-22 10:36:11 [urllib3.connectionpool] DEBUG: https://heerenveen.christenunie.nl:443 \"GET /k/n2531/news/archive/43700/2018/03 HTTP/1.1\" 200 4989\n"
     ]
    },
    {
     "name": "stdout",
     "output_type": "stream",
     "text": [
      "done scraping: https://heerenveen.christenunie.nl/k/n2531/news/archive/43700/2018/03\n",
      "start scraping: https://heerenveen.christenunie.nl/k/n2531/news/archive/43700/2018/02\n"
     ]
    },
    {
     "name": "stderr",
     "output_type": "stream",
     "text": [
      "2019-02-22 10:36:11 [urllib3.connectionpool] DEBUG: https://heerenveen.christenunie.nl:443 \"GET /k/n2531/news/archive/43700/2018/02 HTTP/1.1\" 200 4975\n"
     ]
    },
    {
     "name": "stdout",
     "output_type": "stream",
     "text": [
      "done scraping: https://heerenveen.christenunie.nl/k/n2531/news/archive/43700/2018/02\n",
      "start scraping: https://heerenveen.christenunie.nl/k/n2531/news/archive/184837/2018/2\n"
     ]
    },
    {
     "name": "stderr",
     "output_type": "stream",
     "text": [
      "2019-02-22 10:36:12 [urllib3.connectionpool] DEBUG: https://heerenveen.christenunie.nl:443 \"GET /k/n2531/news/archive/184837/2018/2 HTTP/1.1\" 200 4972\n"
     ]
    },
    {
     "name": "stdout",
     "output_type": "stream",
     "text": [
      "done scraping: https://heerenveen.christenunie.nl/k/n2531/news/archive/184837/2018/2\n",
      "start scraping: https://heerenveen.christenunie.nl/k/n2531/news/view/1193891/184837/gemeenteraadsverkiezingen-21-maart-2018.html\n"
     ]
    },
    {
     "name": "stderr",
     "output_type": "stream",
     "text": [
      "2019-02-22 10:36:12 [urllib3.connectionpool] DEBUG: https://heerenveen.christenunie.nl:443 \"GET /k/n2531/news/view/1193891/184837/gemeenteraadsverkiezingen-21-maart-2018.html HTTP/1.1\" 200 5427\n"
     ]
    },
    {
     "name": "stdout",
     "output_type": "stream",
     "text": [
      "done scraping: https://heerenveen.christenunie.nl/k/n2531/news/view/1193891/184837/gemeenteraadsverkiezingen-21-maart-2018.html\n",
      "start scraping: https://heerenveen.christenunie.nl/k/n2531/news/archive/184837/2004/12\n"
     ]
    },
    {
     "name": "stderr",
     "output_type": "stream",
     "text": [
      "2019-02-22 10:36:13 [urllib3.connectionpool] DEBUG: https://heerenveen.christenunie.nl:443 \"GET /k/n2531/news/archive/184837/2004/12 HTTP/1.1\" 200 5111\n"
     ]
    },
    {
     "name": "stdout",
     "output_type": "stream",
     "text": [
      "done scraping: https://heerenveen.christenunie.nl/k/n2531/news/archive/184837/2004/12\n",
      "start scraping: https://heerenveen.christenunie.nl/k/n2531/news/archive/184837/2004/10\n"
     ]
    },
    {
     "name": "stderr",
     "output_type": "stream",
     "text": [
      "2019-02-22 10:36:13 [urllib3.connectionpool] DEBUG: https://heerenveen.christenunie.nl:443 \"GET /k/n2531/news/archive/184837/2004/10 HTTP/1.1\" 200 5118\n"
     ]
    },
    {
     "name": "stdout",
     "output_type": "stream",
     "text": [
      "done scraping: https://heerenveen.christenunie.nl/k/n2531/news/archive/184837/2004/10\n",
      "start scraping: https://heerenveen.christenunie.nl/k/n2531/news/archive/184837/2006/03\n"
     ]
    },
    {
     "name": "stderr",
     "output_type": "stream",
     "text": [
      "2019-02-22 10:36:13 [urllib3.connectionpool] DEBUG: https://heerenveen.christenunie.nl:443 \"GET /k/n2531/news/archive/184837/2006/03 HTTP/1.1\" 200 4986\n"
     ]
    },
    {
     "name": "stdout",
     "output_type": "stream",
     "text": [
      "done scraping: https://heerenveen.christenunie.nl/k/n2531/news/archive/184837/2006/03\n",
      "start scraping: https://heerenveen.christenunie.nl/k/n2531/news/archive/184837/2006/02\n"
     ]
    },
    {
     "name": "stderr",
     "output_type": "stream",
     "text": [
      "2019-02-22 10:36:14 [urllib3.connectionpool] DEBUG: https://heerenveen.christenunie.nl:443 \"GET /k/n2531/news/archive/184837/2006/02 HTTP/1.1\" 200 5082\n"
     ]
    },
    {
     "name": "stdout",
     "output_type": "stream",
     "text": [
      "done scraping: https://heerenveen.christenunie.nl/k/n2531/news/archive/184837/2006/02\n",
      "start scraping: https://heerenveen.christenunie.nl/k/n2531/news/archive/184837/2005/10\n"
     ]
    },
    {
     "name": "stderr",
     "output_type": "stream",
     "text": [
      "2019-02-22 10:36:14 [urllib3.connectionpool] DEBUG: https://heerenveen.christenunie.nl:443 \"GET /k/n2531/news/archive/184837/2005/10 HTTP/1.1\" 200 5003\n"
     ]
    },
    {
     "name": "stdout",
     "output_type": "stream",
     "text": [
      "done scraping: https://heerenveen.christenunie.nl/k/n2531/news/archive/184837/2005/10\n",
      "start scraping: https://heerenveen.christenunie.nl/k/n2531/news/archive/184837/2005/05\n"
     ]
    },
    {
     "name": "stderr",
     "output_type": "stream",
     "text": [
      "2019-02-22 10:36:15 [urllib3.connectionpool] DEBUG: https://heerenveen.christenunie.nl:443 \"GET /k/n2531/news/archive/184837/2005/05 HTTP/1.1\" 200 5156\n"
     ]
    },
    {
     "name": "stdout",
     "output_type": "stream",
     "text": [
      "done scraping: https://heerenveen.christenunie.nl/k/n2531/news/archive/184837/2005/05\n",
      "start scraping: https://heerenveen.christenunie.nl/k/n2531/news/archive/184837/2005/03\n"
     ]
    },
    {
     "name": "stderr",
     "output_type": "stream",
     "text": [
      "2019-02-22 10:36:17 [urllib3.connectionpool] DEBUG: https://heerenveen.christenunie.nl:443 \"GET /k/n2531/news/archive/184837/2005/03 HTTP/1.1\" 200 5204\n"
     ]
    },
    {
     "name": "stdout",
     "output_type": "stream",
     "text": [
      "done scraping: https://heerenveen.christenunie.nl/k/n2531/news/archive/184837/2005/03\n",
      "start scraping: https://heerenveen.christenunie.nl/k/n2531/news/archive/184837/2007/01\n"
     ]
    },
    {
     "name": "stderr",
     "output_type": "stream",
     "text": [
      "2019-02-22 10:36:17 [urllib3.connectionpool] DEBUG: https://heerenveen.christenunie.nl:443 \"GET /k/n2531/news/archive/184837/2007/01 HTTP/1.1\" 200 5106\n"
     ]
    },
    {
     "name": "stdout",
     "output_type": "stream",
     "text": [
      "done scraping: https://heerenveen.christenunie.nl/k/n2531/news/archive/184837/2007/01\n",
      "start scraping: https://heerenveen.christenunie.nl/k/n2531/news/archive/184837/2010/11\n"
     ]
    },
    {
     "name": "stderr",
     "output_type": "stream",
     "text": [
      "2019-02-22 10:36:18 [urllib3.connectionpool] DEBUG: https://heerenveen.christenunie.nl:443 \"GET /k/n2531/news/archive/184837/2010/11 HTTP/1.1\" 200 4993\n"
     ]
    },
    {
     "name": "stdout",
     "output_type": "stream",
     "text": [
      "done scraping: https://heerenveen.christenunie.nl/k/n2531/news/archive/184837/2010/11\n",
      "start scraping: https://heerenveen.christenunie.nl/k/n2531/news/archive/184837/2010/10\n"
     ]
    },
    {
     "name": "stderr",
     "output_type": "stream",
     "text": [
      "2019-02-22 10:36:18 [urllib3.connectionpool] DEBUG: https://heerenveen.christenunie.nl:443 \"GET /k/n2531/news/archive/184837/2010/10 HTTP/1.1\" 200 4966\n"
     ]
    },
    {
     "name": "stdout",
     "output_type": "stream",
     "text": [
      "done scraping: https://heerenveen.christenunie.nl/k/n2531/news/archive/184837/2010/10\n",
      "start scraping: https://heerenveen.christenunie.nl/k/n2531/news/archive/184837/2010/02\n"
     ]
    },
    {
     "name": "stderr",
     "output_type": "stream",
     "text": [
      "2019-02-22 10:36:19 [urllib3.connectionpool] DEBUG: https://heerenveen.christenunie.nl:443 \"GET /k/n2531/news/archive/184837/2010/02 HTTP/1.1\" 200 5113\n"
     ]
    },
    {
     "name": "stdout",
     "output_type": "stream",
     "text": [
      "done scraping: https://heerenveen.christenunie.nl/k/n2531/news/archive/184837/2010/02\n",
      "start scraping: https://heerenveen.christenunie.nl/k/n2531/news/archive/184837/2010/01\n"
     ]
    },
    {
     "name": "stderr",
     "output_type": "stream",
     "text": [
      "2019-02-22 10:36:19 [urllib3.connectionpool] DEBUG: https://heerenveen.christenunie.nl:443 \"GET /k/n2531/news/archive/184837/2010/01 HTTP/1.1\" 200 5173\n"
     ]
    },
    {
     "name": "stdout",
     "output_type": "stream",
     "text": [
      "done scraping: https://heerenveen.christenunie.nl/k/n2531/news/archive/184837/2010/01\n",
      "start scraping: https://heerenveen.christenunie.nl/k/n2531/news/archive/184837/2011/12\n"
     ]
    },
    {
     "name": "stderr",
     "output_type": "stream",
     "text": [
      "2019-02-22 10:36:19 [urllib3.connectionpool] DEBUG: https://heerenveen.christenunie.nl:443 \"GET /k/n2531/news/archive/184837/2011/12 HTTP/1.1\" 200 4994\n"
     ]
    },
    {
     "name": "stdout",
     "output_type": "stream",
     "text": [
      "done scraping: https://heerenveen.christenunie.nl/k/n2531/news/archive/184837/2011/12\n",
      "start scraping: https://heerenveen.christenunie.nl/k/n2531/news/archive/184837/2011/11\n"
     ]
    },
    {
     "name": "stderr",
     "output_type": "stream",
     "text": [
      "2019-02-22 10:36:20 [urllib3.connectionpool] DEBUG: https://heerenveen.christenunie.nl:443 \"GET /k/n2531/news/archive/184837/2011/11 HTTP/1.1\" 200 4995\n"
     ]
    },
    {
     "name": "stdout",
     "output_type": "stream",
     "text": [
      "done scraping: https://heerenveen.christenunie.nl/k/n2531/news/archive/184837/2011/11\n",
      "start scraping: https://heerenveen.christenunie.nl/k/n2531/news/archive/184837/2011/10\n"
     ]
    },
    {
     "name": "stderr",
     "output_type": "stream",
     "text": [
      "2019-02-22 10:36:22 [urllib3.connectionpool] DEBUG: https://heerenveen.christenunie.nl:443 \"GET /k/n2531/news/archive/184837/2011/10 HTTP/1.1\" 200 5004\n"
     ]
    },
    {
     "name": "stdout",
     "output_type": "stream",
     "text": [
      "done scraping: https://heerenveen.christenunie.nl/k/n2531/news/archive/184837/2011/10\n",
      "start scraping: https://heerenveen.christenunie.nl/k/n2531/news/archive/184837/2011/09\n"
     ]
    },
    {
     "name": "stderr",
     "output_type": "stream",
     "text": [
      "2019-02-22 10:36:22 [urllib3.connectionpool] DEBUG: https://heerenveen.christenunie.nl:443 \"GET /k/n2531/news/archive/184837/2011/09 HTTP/1.1\" 200 4981\n"
     ]
    },
    {
     "name": "stdout",
     "output_type": "stream",
     "text": [
      "done scraping: https://heerenveen.christenunie.nl/k/n2531/news/archive/184837/2011/09\n",
      "start scraping: https://heerenveen.christenunie.nl/k/n2531/news/archive/184837/2011/01\n"
     ]
    },
    {
     "name": "stderr",
     "output_type": "stream",
     "text": [
      "2019-02-22 10:36:23 [urllib3.connectionpool] DEBUG: https://heerenveen.christenunie.nl:443 \"GET /k/n2531/news/archive/184837/2011/01 HTTP/1.1\" 200 5038\n"
     ]
    },
    {
     "name": "stdout",
     "output_type": "stream",
     "text": [
      "done scraping: https://heerenveen.christenunie.nl/k/n2531/news/archive/184837/2011/01\n",
      "start scraping: https://heerenveen.christenunie.nl/k/n2531/news/archive/43700/2013/2\n"
     ]
    },
    {
     "name": "stderr",
     "output_type": "stream",
     "text": [
      "2019-02-22 10:36:23 [urllib3.connectionpool] DEBUG: https://heerenveen.christenunie.nl:443 \"GET /k/n2531/news/archive/43700/2013/2 HTTP/1.1\" 200 4981\n"
     ]
    },
    {
     "name": "stdout",
     "output_type": "stream",
     "text": [
      "done scraping: https://heerenveen.christenunie.nl/k/n2531/news/archive/43700/2013/2\n",
      "start scraping: https://heerenveen.christenunie.nl/k/n2531/news/view/549952/43700/plaatselijk-belangen-wijkraden-en-eigen-initiatieven.html\n"
     ]
    },
    {
     "name": "stderr",
     "output_type": "stream",
     "text": [
      "2019-02-22 10:36:24 [urllib3.connectionpool] DEBUG: https://heerenveen.christenunie.nl:443 \"GET /k/n2531/news/view/549952/43700/plaatselijk-belangen-wijkraden-en-eigen-initiatieven.html HTTP/1.1\" 200 5914\n"
     ]
    },
    {
     "name": "stdout",
     "output_type": "stream",
     "text": [
      "done scraping: https://heerenveen.christenunie.nl/k/n2531/news/view/549952/43700/plaatselijk-belangen-wijkraden-en-eigen-initiatieven.html\n",
      "start scraping: https://heerenveen.christenunie.nl/k/n2531/news/archive/184837/2008/11\n"
     ]
    },
    {
     "name": "stderr",
     "output_type": "stream",
     "text": [
      "2019-02-22 10:36:25 [urllib3.connectionpool] DEBUG: https://heerenveen.christenunie.nl:443 \"GET /k/n2531/news/archive/184837/2008/11 HTTP/1.1\" 200 4976\n"
     ]
    },
    {
     "name": "stdout",
     "output_type": "stream",
     "text": [
      "done scraping: https://heerenveen.christenunie.nl/k/n2531/news/archive/184837/2008/11\n",
      "start scraping: https://heerenveen.christenunie.nl/k/n2531/news/archive/184837/2008/09\n"
     ]
    },
    {
     "name": "stderr",
     "output_type": "stream",
     "text": [
      "2019-02-22 10:36:26 [urllib3.connectionpool] DEBUG: https://heerenveen.christenunie.nl:443 \"GET /k/n2531/news/archive/184837/2008/09 HTTP/1.1\" 200 5090\n"
     ]
    },
    {
     "name": "stdout",
     "output_type": "stream",
     "text": [
      "done scraping: https://heerenveen.christenunie.nl/k/n2531/news/archive/184837/2008/09\n",
      "start scraping: https://heerenveen.christenunie.nl/k/n2531/news/archive/184837/2008/05\n"
     ]
    },
    {
     "name": "stderr",
     "output_type": "stream",
     "text": [
      "2019-02-22 10:36:27 [urllib3.connectionpool] DEBUG: https://heerenveen.christenunie.nl:443 \"GET /k/n2531/news/archive/184837/2008/05 HTTP/1.1\" 200 4985\n"
     ]
    },
    {
     "name": "stdout",
     "output_type": "stream",
     "text": [
      "done scraping: https://heerenveen.christenunie.nl/k/n2531/news/archive/184837/2008/05\n",
      "start scraping: https://heerenveen.christenunie.nl/k/n2531/news/archive/184837/2008/03\n"
     ]
    },
    {
     "name": "stderr",
     "output_type": "stream",
     "text": [
      "2019-02-22 10:36:27 [urllib3.connectionpool] DEBUG: https://heerenveen.christenunie.nl:443 \"GET /k/n2531/news/archive/184837/2008/03 HTTP/1.1\" 200 4972\n"
     ]
    },
    {
     "name": "stdout",
     "output_type": "stream",
     "text": [
      "done scraping: https://heerenveen.christenunie.nl/k/n2531/news/archive/184837/2008/03\n",
      "start scraping: https://heerenveen.christenunie.nl/k/n2531/news/archive/184837/2008/01\n"
     ]
    },
    {
     "name": "stderr",
     "output_type": "stream",
     "text": [
      "2019-02-22 10:36:28 [urllib3.connectionpool] DEBUG: https://heerenveen.christenunie.nl:443 \"GET /k/n2531/news/archive/184837/2008/01 HTTP/1.1\" 200 5136\n"
     ]
    },
    {
     "name": "stdout",
     "output_type": "stream",
     "text": [
      "done scraping: https://heerenveen.christenunie.nl/k/n2531/news/archive/184837/2008/01\n",
      "start scraping: https://heerenveen.christenunie.nl/k/n2531/news/archive/184837/2009/12\n"
     ]
    },
    {
     "name": "stderr",
     "output_type": "stream",
     "text": [
      "2019-02-22 10:36:28 [urllib3.connectionpool] DEBUG: https://heerenveen.christenunie.nl:443 \"GET /k/n2531/news/archive/184837/2009/12 HTTP/1.1\" 200 5135\n"
     ]
    },
    {
     "name": "stdout",
     "output_type": "stream",
     "text": [
      "done scraping: https://heerenveen.christenunie.nl/k/n2531/news/archive/184837/2009/12\n",
      "start scraping: https://heerenveen.christenunie.nl/k/n2531/news/archive/184837/2009/11\n"
     ]
    },
    {
     "name": "stderr",
     "output_type": "stream",
     "text": [
      "2019-02-22 10:36:29 [urllib3.connectionpool] DEBUG: https://heerenveen.christenunie.nl:443 \"GET /k/n2531/news/archive/184837/2009/11 HTTP/1.1\" 200 4981\n"
     ]
    },
    {
     "name": "stdout",
     "output_type": "stream",
     "text": [
      "done scraping: https://heerenveen.christenunie.nl/k/n2531/news/archive/184837/2009/11\n",
      "start scraping: https://heerenveen.christenunie.nl/k/n2531/news/archive/184837/2009/10\n"
     ]
    },
    {
     "name": "stderr",
     "output_type": "stream",
     "text": [
      "2019-02-22 10:36:29 [urllib3.connectionpool] DEBUG: https://heerenveen.christenunie.nl:443 \"GET /k/n2531/news/archive/184837/2009/10 HTTP/1.1\" 200 5064\n"
     ]
    },
    {
     "name": "stdout",
     "output_type": "stream",
     "text": [
      "done scraping: https://heerenveen.christenunie.nl/k/n2531/news/archive/184837/2009/10\n",
      "start scraping: https://heerenveen.christenunie.nl/k/n2531/news/archive/184837/2009/06\n"
     ]
    },
    {
     "name": "stderr",
     "output_type": "stream",
     "text": [
      "2019-02-22 10:36:30 [urllib3.connectionpool] DEBUG: https://heerenveen.christenunie.nl:443 \"GET /k/n2531/news/archive/184837/2009/06 HTTP/1.1\" 200 4960\n"
     ]
    },
    {
     "name": "stdout",
     "output_type": "stream",
     "text": [
      "done scraping: https://heerenveen.christenunie.nl/k/n2531/news/archive/184837/2009/06\n",
      "start scraping: https://heerenveen.christenunie.nl/k/n2531/news/archive/184837/2009/05\n"
     ]
    },
    {
     "name": "stderr",
     "output_type": "stream",
     "text": [
      "2019-02-22 10:36:30 [urllib3.connectionpool] DEBUG: https://heerenveen.christenunie.nl:443 \"GET /k/n2531/news/archive/184837/2009/05 HTTP/1.1\" 200 4981\n"
     ]
    },
    {
     "name": "stdout",
     "output_type": "stream",
     "text": [
      "done scraping: https://heerenveen.christenunie.nl/k/n2531/news/archive/184837/2009/05\n",
      "start scraping: https://heerenveen.christenunie.nl/k/n2531/news/archive/184837/2009/04\n"
     ]
    },
    {
     "name": "stderr",
     "output_type": "stream",
     "text": [
      "2019-02-22 10:36:31 [urllib3.connectionpool] DEBUG: https://heerenveen.christenunie.nl:443 \"GET /k/n2531/news/archive/184837/2009/04 HTTP/1.1\" 200 5037\n"
     ]
    },
    {
     "name": "stdout",
     "output_type": "stream",
     "text": [
      "done scraping: https://heerenveen.christenunie.nl/k/n2531/news/archive/184837/2009/04\n",
      "start scraping: https://heerenveen.christenunie.nl/k/n2531/news/archive/184837/2009/03\n"
     ]
    },
    {
     "name": "stderr",
     "output_type": "stream",
     "text": [
      "2019-02-22 10:36:31 [urllib3.connectionpool] DEBUG: https://heerenveen.christenunie.nl:443 \"GET /k/n2531/news/archive/184837/2009/03 HTTP/1.1\" 200 4975\n"
     ]
    },
    {
     "name": "stdout",
     "output_type": "stream",
     "text": [
      "done scraping: https://heerenveen.christenunie.nl/k/n2531/news/archive/184837/2009/03\n",
      "start scraping: https://heerenveen.christenunie.nl/k/n2531/news/archive/43700/2013/3\n"
     ]
    },
    {
     "name": "stderr",
     "output_type": "stream",
     "text": [
      "2019-02-22 10:36:33 [urllib3.connectionpool] DEBUG: https://heerenveen.christenunie.nl:443 \"GET /k/n2531/news/archive/43700/2013/3 HTTP/1.1\" 200 5051\n"
     ]
    },
    {
     "name": "stdout",
     "output_type": "stream",
     "text": [
      "done scraping: https://heerenveen.christenunie.nl/k/n2531/news/archive/43700/2013/3\n",
      "start scraping: https://heerenveen.christenunie.nl/k/n2531/news/view/552700/43700/fractie-in-actie-op-zorgboerderij-boerenblij.html\n"
     ]
    },
    {
     "name": "stderr",
     "output_type": "stream",
     "text": [
      "2019-02-22 10:36:34 [urllib3.connectionpool] DEBUG: https://heerenveen.christenunie.nl:443 \"GET /k/n2531/news/view/552700/43700/fractie-in-actie-op-zorgboerderij-boerenblij.html HTTP/1.1\" 200 6374\n"
     ]
    },
    {
     "name": "stdout",
     "output_type": "stream",
     "text": [
      "done scraping: https://heerenveen.christenunie.nl/k/n2531/news/view/552700/43700/fractie-in-actie-op-zorgboerderij-boerenblij.html\n",
      "start scraping: https://heerenveen.christenunie.nl/k/n2531/news/view/551475/43700/christenunie-en-cda-komen-op-voor-kleine-scholen.html\n"
     ]
    },
    {
     "name": "stderr",
     "output_type": "stream",
     "text": [
      "2019-02-22 10:36:34 [urllib3.connectionpool] DEBUG: https://heerenveen.christenunie.nl:443 \"GET /k/n2531/news/view/551475/43700/christenunie-en-cda-komen-op-voor-kleine-scholen.html HTTP/1.1\" 200 6314\n"
     ]
    },
    {
     "name": "stdout",
     "output_type": "stream",
     "text": [
      "done scraping: https://heerenveen.christenunie.nl/k/n2531/news/view/551475/43700/christenunie-en-cda-komen-op-voor-kleine-scholen.html\n",
      "start scraping: https://heerenveen.christenunie.nl/k/n2531/news/archive/43700/2013/6\n"
     ]
    },
    {
     "name": "stderr",
     "output_type": "stream",
     "text": [
      "2019-02-22 10:36:34 [urllib3.connectionpool] DEBUG: https://heerenveen.christenunie.nl:443 \"GET /k/n2531/news/archive/43700/2013/6 HTTP/1.1\" 200 4967\n"
     ]
    },
    {
     "name": "stdout",
     "output_type": "stream",
     "text": [
      "done scraping: https://heerenveen.christenunie.nl/k/n2531/news/archive/43700/2013/6\n",
      "start scraping: https://heerenveen.christenunie.nl/k/n2531/news/view/560240/43700/leijendekker-lijsttrekker-christenunie.html\n"
     ]
    },
    {
     "name": "stderr",
     "output_type": "stream",
     "text": [
      "2019-02-22 10:36:35 [urllib3.connectionpool] DEBUG: https://heerenveen.christenunie.nl:443 \"GET /k/n2531/news/view/560240/43700/leijendekker-lijsttrekker-christenunie.html HTTP/1.1\" 200 6027\n"
     ]
    },
    {
     "name": "stdout",
     "output_type": "stream",
     "text": [
      "done scraping: https://heerenveen.christenunie.nl/k/n2531/news/view/560240/43700/leijendekker-lijsttrekker-christenunie.html\n",
      "start scraping: https://heerenveen.christenunie.nl/k/n2531/news/archive/43700/2013/8\n"
     ]
    },
    {
     "name": "stderr",
     "output_type": "stream",
     "text": [
      "2019-02-22 10:36:35 [urllib3.connectionpool] DEBUG: https://heerenveen.christenunie.nl:443 \"GET /k/n2531/news/archive/43700/2013/8 HTTP/1.1\" 200 4972\n"
     ]
    },
    {
     "name": "stdout",
     "output_type": "stream",
     "text": [
      "done scraping: https://heerenveen.christenunie.nl/k/n2531/news/archive/43700/2013/8\n",
      "start scraping: https://heerenveen.christenunie.nl/k/n2531/news/view/566740/43700/het-is-bijna-zover.html\n"
     ]
    },
    {
     "name": "stderr",
     "output_type": "stream",
     "text": [
      "2019-02-22 10:36:36 [urllib3.connectionpool] DEBUG: https://heerenveen.christenunie.nl:443 \"GET /k/n2531/news/view/566740/43700/het-is-bijna-zover.html HTTP/1.1\" 200 5830\n"
     ]
    },
    {
     "name": "stdout",
     "output_type": "stream",
     "text": [
      "done scraping: https://heerenveen.christenunie.nl/k/n2531/news/view/566740/43700/het-is-bijna-zover.html\n",
      "start scraping: https://heerenveen.christenunie.nl/k/n2531/news/archive/43700/2013/9\n"
     ]
    },
    {
     "name": "stderr",
     "output_type": "stream",
     "text": [
      "2019-02-22 10:36:36 [urllib3.connectionpool] DEBUG: https://heerenveen.christenunie.nl:443 \"GET /k/n2531/news/archive/43700/2013/9 HTTP/1.1\" 200 5313\n"
     ]
    },
    {
     "name": "stdout",
     "output_type": "stream",
     "text": [
      "done scraping: https://heerenveen.christenunie.nl/k/n2531/news/archive/43700/2013/9\n",
      "start scraping: https://heerenveen.christenunie.nl/k/n2531/news/view/573833/43700/lijsttrekker-christenunie-rennend-door-heerenveense-dorpen.html\n"
     ]
    },
    {
     "name": "stderr",
     "output_type": "stream",
     "text": [
      "2019-02-22 10:36:37 [urllib3.connectionpool] DEBUG: https://heerenveen.christenunie.nl:443 \"GET /k/n2531/news/view/573833/43700/lijsttrekker-christenunie-rennend-door-heerenveense-dorpen.html HTTP/1.1\" 200 6788\n",
      "2019-02-22 10:36:37 [urllib3.connectionpool] DEBUG: Resetting dropped connection: heerenveen.christenunie.nl\n"
     ]
    },
    {
     "name": "stdout",
     "output_type": "stream",
     "text": [
      "done scraping: https://heerenveen.christenunie.nl/k/n2531/news/view/573833/43700/lijsttrekker-christenunie-rennend-door-heerenveense-dorpen.html\n",
      "start scraping: https://heerenveen.christenunie.nl/k/n2531/news/view/572961/43700/lia-de-heij-nummer-2-van-de-kanditatenlijst-stelt-zich-voor.html\n"
     ]
    },
    {
     "name": "stderr",
     "output_type": "stream",
     "text": [
      "2019-02-22 10:36:37 [urllib3.connectionpool] DEBUG: https://heerenveen.christenunie.nl:443 \"GET /k/n2531/news/view/572961/43700/lia-de-heij-nummer-2-van-de-kanditatenlijst-stelt-zich-voor.html HTTP/1.1\" 200 6207\n"
     ]
    },
    {
     "name": "stdout",
     "output_type": "stream",
     "text": [
      "done scraping: https://heerenveen.christenunie.nl/k/n2531/news/view/572961/43700/lia-de-heij-nummer-2-van-de-kanditatenlijst-stelt-zich-voor.html\n",
      "start scraping: https://heerenveen.christenunie.nl/k/n2531/news/view/572064/43700/interview-lijstrekker-aris-leijendekker-met-jongerensite-ondertussen-nl.html\n"
     ]
    },
    {
     "name": "stderr",
     "output_type": "stream",
     "text": [
      "2019-02-22 10:36:38 [urllib3.connectionpool] DEBUG: https://heerenveen.christenunie.nl:443 \"GET /k/n2531/news/view/572064/43700/interview-lijstrekker-aris-leijendekker-met-jongerensite-ondertussen-nl.html HTTP/1.1\" 200 6026\n"
     ]
    },
    {
     "name": "stdout",
     "output_type": "stream",
     "text": [
      "done scraping: https://heerenveen.christenunie.nl/k/n2531/news/view/572064/43700/interview-lijstrekker-aris-leijendekker-met-jongerensite-ondertussen-nl.html\n",
      "start scraping: https://heerenveen.christenunie.nl/k/n2531/news/view/571076/43700/de-kandidatenlijst-voor-de-gemeenteraadsverkiezingen-op-13-november-2013.html\n"
     ]
    },
    {
     "name": "stderr",
     "output_type": "stream",
     "text": [
      "2019-02-22 10:36:38 [urllib3.connectionpool] DEBUG: https://heerenveen.christenunie.nl:443 \"GET /k/n2531/news/view/571076/43700/de-kandidatenlijst-voor-de-gemeenteraadsverkiezingen-op-13-november-2013.html HTTP/1.1\" 200 6366\n"
     ]
    },
    {
     "name": "stdout",
     "output_type": "stream",
     "text": [
      "done scraping: https://heerenveen.christenunie.nl/k/n2531/news/view/571076/43700/de-kandidatenlijst-voor-de-gemeenteraadsverkiezingen-op-13-november-2013.html\n",
      "start scraping: https://heerenveen.christenunie.nl/k/n2531/news/view/570601/43700/zaterdag-14-september-speed-d(eb)ate-met-aris-leijendekker.html\n"
     ]
    },
    {
     "name": "stderr",
     "output_type": "stream",
     "text": [
      "2019-02-22 10:36:39 [urllib3.connectionpool] DEBUG: https://heerenveen.christenunie.nl:443 \"GET /k/n2531/news/view/570601/43700/zaterdag-14-september-speed-d(eb)ate-met-aris-leijendekker.html HTTP/1.1\" 200 6077\n"
     ]
    },
    {
     "name": "stdout",
     "output_type": "stream",
     "text": [
      "done scraping: https://heerenveen.christenunie.nl/k/n2531/news/view/570601/43700/zaterdag-14-september-speed-d(eb)ate-met-aris-leijendekker.html\n",
      "start scraping: https://heerenveen.christenunie.nl/k/n2531/news/archive/184837/2006/2\n"
     ]
    },
    {
     "name": "stderr",
     "output_type": "stream",
     "text": [
      "2019-02-22 10:36:40 [urllib3.connectionpool] DEBUG: https://heerenveen.christenunie.nl:443 \"GET /k/n2531/news/archive/184837/2006/2 HTTP/1.1\" 200 5085\n"
     ]
    },
    {
     "name": "stdout",
     "output_type": "stream",
     "text": [
      "done scraping: https://heerenveen.christenunie.nl/k/n2531/news/archive/184837/2006/2\n",
      "start scraping: https://heerenveen.christenunie.nl/k/n2531/news/view/36889/184837/liever-wij-dan-ik.html\n"
     ]
    },
    {
     "name": "stderr",
     "output_type": "stream",
     "text": [
      "2019-02-22 10:36:40 [urllib3.connectionpool] DEBUG: https://heerenveen.christenunie.nl:443 \"GET /k/n2531/news/view/36889/184837/liever-wij-dan-ik.html HTTP/1.1\" 200 6197\n"
     ]
    },
    {
     "name": "stdout",
     "output_type": "stream",
     "text": [
      "done scraping: https://heerenveen.christenunie.nl/k/n2531/news/view/36889/184837/liever-wij-dan-ik.html\n",
      "start scraping: https://heerenveen.christenunie.nl/k/n2531/news/view/45851/184837/kandidaten-bezoeken-aanloophuis.html\n"
     ]
    },
    {
     "name": "stderr",
     "output_type": "stream",
     "text": [
      "2019-02-22 10:36:41 [urllib3.connectionpool] DEBUG: https://heerenveen.christenunie.nl:443 \"GET /k/n2531/news/view/45851/184837/kandidaten-bezoeken-aanloophuis.html HTTP/1.1\" 200 6971\n"
     ]
    },
    {
     "name": "stdout",
     "output_type": "stream",
     "text": [
      "done scraping: https://heerenveen.christenunie.nl/k/n2531/news/view/45851/184837/kandidaten-bezoeken-aanloophuis.html\n",
      "start scraping: https://heerenveen.christenunie.nl/k/n2531/news/view/36891/184837/kerken-heerenveen-en-christenunie-in-overleg-over-wmo.html\n"
     ]
    },
    {
     "name": "stderr",
     "output_type": "stream",
     "text": [
      "2019-02-22 10:36:43 [urllib3.connectionpool] DEBUG: https://heerenveen.christenunie.nl:443 \"GET /k/n2531/news/view/36891/184837/kerken-heerenveen-en-christenunie-in-overleg-over-wmo.html HTTP/1.1\" 200 7165\n"
     ]
    },
    {
     "name": "stdout",
     "output_type": "stream",
     "text": [
      "done scraping: https://heerenveen.christenunie.nl/k/n2531/news/view/36891/184837/kerken-heerenveen-en-christenunie-in-overleg-over-wmo.html\n",
      "start scraping: https://heerenveen.christenunie.nl/k/n2531/news/view/36878/184837/iraakse-familie-voorlopig-nog-onderdak.html\n"
     ]
    },
    {
     "name": "stderr",
     "output_type": "stream",
     "text": [
      "2019-02-22 10:36:44 [urllib3.connectionpool] DEBUG: https://heerenveen.christenunie.nl:443 \"GET /k/n2531/news/view/36878/184837/iraakse-familie-voorlopig-nog-onderdak.html HTTP/1.1\" 200 6034\n"
     ]
    },
    {
     "name": "stdout",
     "output_type": "stream",
     "text": [
      "done scraping: https://heerenveen.christenunie.nl/k/n2531/news/view/36878/184837/iraakse-familie-voorlopig-nog-onderdak.html\n",
      "start scraping: https://heerenveen.christenunie.nl/k/n2531/news/view/36877/184837/gemeentelijke-lasten-mogen-in-2006-niet-omhoog.html\n"
     ]
    },
    {
     "name": "stderr",
     "output_type": "stream",
     "text": [
      "2019-02-22 10:36:44 [urllib3.connectionpool] DEBUG: https://heerenveen.christenunie.nl:443 \"GET /k/n2531/news/view/36877/184837/gemeentelijke-lasten-mogen-in-2006-niet-omhoog.html HTTP/1.1\" 200 5913\n"
     ]
    },
    {
     "name": "stdout",
     "output_type": "stream",
     "text": [
      "done scraping: https://heerenveen.christenunie.nl/k/n2531/news/view/36877/184837/gemeentelijke-lasten-mogen-in-2006-niet-omhoog.html\n",
      "start scraping: https://heerenveen.christenunie.nl/k/n2531/news/view/36876/184837/burgemeester-goed-in-gesprek-met-moslims.html\n"
     ]
    },
    {
     "name": "stderr",
     "output_type": "stream",
     "text": [
      "2019-02-22 10:36:45 [urllib3.connectionpool] DEBUG: https://heerenveen.christenunie.nl:443 \"GET /k/n2531/news/view/36876/184837/burgemeester-goed-in-gesprek-met-moslims.html HTTP/1.1\" 200 5869\n"
     ]
    },
    {
     "name": "stdout",
     "output_type": "stream",
     "text": [
      "done scraping: https://heerenveen.christenunie.nl/k/n2531/news/view/36876/184837/burgemeester-goed-in-gesprek-met-moslims.html\n",
      "start scraping: https://heerenveen.christenunie.nl/k/n2531/news/archive/184837/2007/1\n"
     ]
    },
    {
     "name": "stderr",
     "output_type": "stream",
     "text": [
      "2019-02-22 10:36:46 [urllib3.connectionpool] DEBUG: https://heerenveen.christenunie.nl:443 \"GET /k/n2531/news/archive/184837/2007/1 HTTP/1.1\" 200 5105\n"
     ]
    },
    {
     "name": "stdout",
     "output_type": "stream",
     "text": [
      "done scraping: https://heerenveen.christenunie.nl/k/n2531/news/archive/184837/2007/1\n",
      "start scraping: https://heerenveen.christenunie.nl/k/n2531/news/view/148114/184837/betere-samenwerking-met-clientenraad-sociale-zaken.html\n"
     ]
    },
    {
     "name": "stderr",
     "output_type": "stream",
     "text": [
      "2019-02-22 10:36:47 [urllib3.connectionpool] DEBUG: https://heerenveen.christenunie.nl:443 \"GET /k/n2531/news/view/148114/184837/betere-samenwerking-met-clientenraad-sociale-zaken.html HTTP/1.1\" 200 6284\n"
     ]
    },
    {
     "name": "stdout",
     "output_type": "stream",
     "text": [
      "done scraping: https://heerenveen.christenunie.nl/k/n2531/news/view/148114/184837/betere-samenwerking-met-clientenraad-sociale-zaken.html\n",
      "start scraping: https://heerenveen.christenunie.nl/k/n2531/news/view/148115/184837/huishoudboekje-begrijpelijker-maken.html\n"
     ]
    },
    {
     "name": "stderr",
     "output_type": "stream",
     "text": [
      "2019-02-22 10:36:48 [urllib3.connectionpool] DEBUG: https://heerenveen.christenunie.nl:443 \"GET /k/n2531/news/view/148115/184837/huishoudboekje-begrijpelijker-maken.html HTTP/1.1\" 200 6533\n"
     ]
    },
    {
     "name": "stdout",
     "output_type": "stream",
     "text": [
      "done scraping: https://heerenveen.christenunie.nl/k/n2531/news/view/148115/184837/huishoudboekje-begrijpelijker-maken.html\n",
      "start scraping: https://heerenveen.christenunie.nl/k/n2531/news/view/148113/184837/christenunie-feliciteert-vrijwilligers-aanloophuis.html\n"
     ]
    },
    {
     "name": "stderr",
     "output_type": "stream",
     "text": [
      "2019-02-22 10:36:48 [urllib3.connectionpool] DEBUG: https://heerenveen.christenunie.nl:443 \"GET /k/n2531/news/view/148113/184837/christenunie-feliciteert-vrijwilligers-aanloophuis.html HTTP/1.1\" 200 6066\n"
     ]
    },
    {
     "name": "stdout",
     "output_type": "stream",
     "text": [
      "done scraping: https://heerenveen.christenunie.nl/k/n2531/news/view/148113/184837/christenunie-feliciteert-vrijwilligers-aanloophuis.html\n",
      "start scraping: https://heerenveen.christenunie.nl/k/n2531/news/view/36875/184837/begroting-voor-het-eerst-in-nieuwe-opzet.html\n"
     ]
    },
    {
     "name": "stderr",
     "output_type": "stream",
     "text": [
      "2019-02-22 10:36:49 [urllib3.connectionpool] DEBUG: https://heerenveen.christenunie.nl:443 \"GET /k/n2531/news/view/36875/184837/begroting-voor-het-eerst-in-nieuwe-opzet.html HTTP/1.1\" 200 5811\n"
     ]
    },
    {
     "name": "stdout",
     "output_type": "stream",
     "text": [
      "done scraping: https://heerenveen.christenunie.nl/k/n2531/news/view/36875/184837/begroting-voor-het-eerst-in-nieuwe-opzet.html\n",
      "start scraping: https://heerenveen.christenunie.nl/k/n2531/news/view/36874/184837/motie-om-onderzoek-naar-aanpassing-tunnel-aangenomen.html\n"
     ]
    },
    {
     "name": "stderr",
     "output_type": "stream",
     "text": [
      "2019-02-22 10:36:50 [urllib3.connectionpool] DEBUG: https://heerenveen.christenunie.nl:443 \"GET /k/n2531/news/view/36874/184837/motie-om-onderzoek-naar-aanpassing-tunnel-aangenomen.html HTTP/1.1\" 200 6301\n"
     ]
    },
    {
     "name": "stdout",
     "output_type": "stream",
     "text": [
      "done scraping: https://heerenveen.christenunie.nl/k/n2531/news/view/36874/184837/motie-om-onderzoek-naar-aanpassing-tunnel-aangenomen.html\n",
      "start scraping: https://heerenveen.christenunie.nl/k/n2531/news/view/36873/184837/geen-steun-aan-motie-van-wantrouwen.html\n"
     ]
    },
    {
     "name": "stderr",
     "output_type": "stream",
     "text": [
      "2019-02-22 10:36:51 [urllib3.connectionpool] DEBUG: https://heerenveen.christenunie.nl:443 \"GET /k/n2531/news/view/36873/184837/geen-steun-aan-motie-van-wantrouwen.html HTTP/1.1\" 200 6270\n"
     ]
    },
    {
     "name": "stdout",
     "output_type": "stream",
     "text": [
      "done scraping: https://heerenveen.christenunie.nl/k/n2531/news/view/36873/184837/geen-steun-aan-motie-van-wantrouwen.html\n",
      "start scraping: https://heerenveen.christenunie.nl/k/n2531/news/archive/184837/2005/3\n"
     ]
    },
    {
     "name": "stderr",
     "output_type": "stream",
     "text": [
      "2019-02-22 10:36:52 [urllib3.connectionpool] DEBUG: https://heerenveen.christenunie.nl:443 \"GET /k/n2531/news/archive/184837/2005/3 HTTP/1.1\" 200 5204\n"
     ]
    },
    {
     "name": "stdout",
     "output_type": "stream",
     "text": [
      "done scraping: https://heerenveen.christenunie.nl/k/n2531/news/archive/184837/2005/3\n",
      "start scraping: https://heerenveen.christenunie.nl/k/n2531/news/view/36883/184837/onze-prioriteiten-in-heerenveen.html\n"
     ]
    },
    {
     "name": "stderr",
     "output_type": "stream",
     "text": [
      "2019-02-22 10:36:53 [urllib3.connectionpool] DEBUG: https://heerenveen.christenunie.nl:443 \"GET /k/n2531/news/view/36883/184837/onze-prioriteiten-in-heerenveen.html HTTP/1.1\" 200 6249\n"
     ]
    },
    {
     "name": "stdout",
     "output_type": "stream",
     "text": [
      "done scraping: https://heerenveen.christenunie.nl/k/n2531/news/view/36883/184837/onze-prioriteiten-in-heerenveen.html\n",
      "start scraping: https://heerenveen.christenunie.nl/k/n2531/news/view/36882/184837/holland-casino-in-heerenveen-niet-doen.html\n"
     ]
    },
    {
     "name": "stderr",
     "output_type": "stream",
     "text": [
      "2019-02-22 10:36:55 [urllib3.connectionpool] DEBUG: https://heerenveen.christenunie.nl:443 \"GET /k/n2531/news/view/36882/184837/holland-casino-in-heerenveen-niet-doen.html HTTP/1.1\" 200 6391\n"
     ]
    },
    {
     "name": "stdout",
     "output_type": "stream",
     "text": [
      "done scraping: https://heerenveen.christenunie.nl/k/n2531/news/view/36882/184837/holland-casino-in-heerenveen-niet-doen.html\n",
      "start scraping: https://heerenveen.christenunie.nl/k/n2531/news/view/36881/184837/helder-beleid-voor-windenergie.html\n"
     ]
    },
    {
     "name": "stderr",
     "output_type": "stream",
     "text": [
      "2019-02-22 10:36:55 [urllib3.connectionpool] DEBUG: https://heerenveen.christenunie.nl:443 \"GET /k/n2531/news/view/36881/184837/helder-beleid-voor-windenergie.html HTTP/1.1\" 200 6134\n"
     ]
    },
    {
     "name": "stdout",
     "output_type": "stream",
     "text": [
      "done scraping: https://heerenveen.christenunie.nl/k/n2531/news/view/36881/184837/helder-beleid-voor-windenergie.html\n",
      "start scraping: https://heerenveen.christenunie.nl/k/n2531/news/view/36880/184837/college-blijft-vaag-over-financiering-bijzonder-basisonderwijs.html\n"
     ]
    },
    {
     "name": "stderr",
     "output_type": "stream",
     "text": [
      "2019-02-22 10:36:56 [urllib3.connectionpool] DEBUG: https://heerenveen.christenunie.nl:443 \"GET /k/n2531/news/view/36880/184837/college-blijft-vaag-over-financiering-bijzonder-basisonderwijs.html HTTP/1.1\" 200 6253\n"
     ]
    },
    {
     "name": "stdout",
     "output_type": "stream",
     "text": [
      "done scraping: https://heerenveen.christenunie.nl/k/n2531/news/view/36880/184837/college-blijft-vaag-over-financiering-bijzonder-basisonderwijs.html\n",
      "start scraping: https://heerenveen.christenunie.nl/k/n2531/news/view/36879/184837/ruim-baan-voor-woonzorgcomplexen-in-dorpen.html\n"
     ]
    },
    {
     "name": "stderr",
     "output_type": "stream",
     "text": [
      "2019-02-22 10:36:57 [urllib3.connectionpool] DEBUG: https://heerenveen.christenunie.nl:443 \"GET /k/n2531/news/view/36879/184837/ruim-baan-voor-woonzorgcomplexen-in-dorpen.html HTTP/1.1\" 200 5989\n"
     ]
    },
    {
     "name": "stdout",
     "output_type": "stream",
     "text": [
      "done scraping: https://heerenveen.christenunie.nl/k/n2531/news/view/36879/184837/ruim-baan-voor-woonzorgcomplexen-in-dorpen.html\n",
      "start scraping: https://heerenveen.christenunie.nl/k/n2531/news/archive/184837/2005/5\n"
     ]
    },
    {
     "name": "stderr",
     "output_type": "stream",
     "text": [
      "2019-02-22 10:36:57 [urllib3.connectionpool] DEBUG: https://heerenveen.christenunie.nl:443 \"GET /k/n2531/news/archive/184837/2005/5 HTTP/1.1\" 200 5157\n"
     ]
    },
    {
     "name": "stdout",
     "output_type": "stream",
     "text": [
      "done scraping: https://heerenveen.christenunie.nl/k/n2531/news/archive/184837/2005/5\n",
      "start scraping: https://heerenveen.christenunie.nl/k/n2531/news/view/36887/184837/wethouder-toont-zich-slechte-verliezer.html\n"
     ]
    },
    {
     "name": "stderr",
     "output_type": "stream",
     "text": [
      "2019-02-22 10:36:58 [urllib3.connectionpool] DEBUG: https://heerenveen.christenunie.nl:443 \"GET /k/n2531/news/view/36887/184837/wethouder-toont-zich-slechte-verliezer.html HTTP/1.1\" 200 6238\n"
     ]
    },
    {
     "name": "stdout",
     "output_type": "stream",
     "text": [
      "done scraping: https://heerenveen.christenunie.nl/k/n2531/news/view/36887/184837/wethouder-toont-zich-slechte-verliezer.html\n",
      "start scraping: https://heerenveen.christenunie.nl/k/n2531/news/view/36886/184837/wegomlegging-bontebok-eerst-mensen-dan-bomen.html\n"
     ]
    },
    {
     "name": "stderr",
     "output_type": "stream",
     "text": [
      "2019-02-22 10:36:58 [urllib3.connectionpool] DEBUG: https://heerenveen.christenunie.nl:443 \"GET /k/n2531/news/view/36886/184837/wegomlegging-bontebok-eerst-mensen-dan-bomen.html HTTP/1.1\" 200 6216\n"
     ]
    },
    {
     "name": "stdout",
     "output_type": "stream",
     "text": [
      "done scraping: https://heerenveen.christenunie.nl/k/n2531/news/view/36886/184837/wegomlegging-bontebok-eerst-mensen-dan-bomen.html\n",
      "start scraping: https://heerenveen.christenunie.nl/k/n2531/news/view/36885/184837/holland-casino-in-heerenveen-gelukkig-niet.html\n"
     ]
    },
    {
     "name": "stderr",
     "output_type": "stream",
     "text": [
      "2019-02-22 10:36:59 [urllib3.connectionpool] DEBUG: https://heerenveen.christenunie.nl:443 \"GET /k/n2531/news/view/36885/184837/holland-casino-in-heerenveen-gelukkig-niet.html HTTP/1.1\" 200 5983\n"
     ]
    },
    {
     "name": "stdout",
     "output_type": "stream",
     "text": [
      "done scraping: https://heerenveen.christenunie.nl/k/n2531/news/view/36885/184837/holland-casino-in-heerenveen-gelukkig-niet.html\n",
      "start scraping: https://heerenveen.christenunie.nl/k/n2531/news/view/36884/184837/ontsluitingsweg-te-duur.html\n"
     ]
    },
    {
     "name": "stderr",
     "output_type": "stream",
     "text": [
      "2019-02-22 10:37:01 [urllib3.connectionpool] DEBUG: https://heerenveen.christenunie.nl:443 \"GET /k/n2531/news/view/36884/184837/ontsluitingsweg-te-duur.html HTTP/1.1\" 200 6312\n"
     ]
    },
    {
     "name": "stdout",
     "output_type": "stream",
     "text": [
      "done scraping: https://heerenveen.christenunie.nl/k/n2531/news/view/36884/184837/ontsluitingsweg-te-duur.html\n",
      "start scraping: https://heerenveen.christenunie.nl/k/n2531/news/view/36888/184837/feestelijke-presentatie-nieuwe-lijsttrekker-en-verkiezingsprogramma.html\n"
     ]
    },
    {
     "name": "stderr",
     "output_type": "stream",
     "text": [
      "2019-02-22 10:37:02 [urllib3.connectionpool] DEBUG: https://heerenveen.christenunie.nl:443 \"GET /k/n2531/news/view/36888/184837/feestelijke-presentatie-nieuwe-lijsttrekker-en-verkiezingsprogramma.html HTTP/1.1\" 200 6423\n"
     ]
    },
    {
     "name": "stdout",
     "output_type": "stream",
     "text": [
      "done scraping: https://heerenveen.christenunie.nl/k/n2531/news/view/36888/184837/feestelijke-presentatie-nieuwe-lijsttrekker-en-verkiezingsprogramma.html\n",
      "start scraping: https://heerenveen.christenunie.nl/k/n2531/news/archive/184837/2006/3\n"
     ]
    },
    {
     "name": "stderr",
     "output_type": "stream",
     "text": [
      "2019-02-22 10:37:02 [urllib3.connectionpool] DEBUG: https://heerenveen.christenunie.nl:443 \"GET /k/n2531/news/archive/184837/2006/3 HTTP/1.1\" 200 4986\n"
     ]
    },
    {
     "name": "stdout",
     "output_type": "stream",
     "text": [
      "done scraping: https://heerenveen.christenunie.nl/k/n2531/news/archive/184837/2006/3\n",
      "start scraping: https://heerenveen.christenunie.nl/k/n2531/news/view/68086/184837/niet-wesseling-maar-boven-in-de-raad.html\n"
     ]
    },
    {
     "name": "stderr",
     "output_type": "stream",
     "text": [
      "2019-02-22 10:37:03 [urllib3.connectionpool] DEBUG: https://heerenveen.christenunie.nl:443 \"GET /k/n2531/news/view/68086/184837/niet-wesseling-maar-boven-in-de-raad.html HTTP/1.1\" 200 6006\n"
     ]
    },
    {
     "name": "stdout",
     "output_type": "stream",
     "text": [
      "done scraping: https://heerenveen.christenunie.nl/k/n2531/news/view/68086/184837/niet-wesseling-maar-boven-in-de-raad.html\n",
      "start scraping: https://heerenveen.christenunie.nl/k/n2531/news/archive/184837/2008/1\n"
     ]
    },
    {
     "name": "stderr",
     "output_type": "stream",
     "text": [
      "2019-02-22 10:37:04 [urllib3.connectionpool] DEBUG: https://heerenveen.christenunie.nl:443 \"GET /k/n2531/news/archive/184837/2008/1 HTTP/1.1\" 200 5134\n"
     ]
    },
    {
     "name": "stdout",
     "output_type": "stream",
     "text": [
      "done scraping: https://heerenveen.christenunie.nl/k/n2531/news/archive/184837/2008/1\n",
      "start scraping: https://heerenveen.christenunie.nl/k/n2531/news/view/194053/184837/werkgroep-millenniumgemeente.html\n"
     ]
    },
    {
     "name": "stderr",
     "output_type": "stream",
     "text": [
      "2019-02-22 10:37:05 [urllib3.connectionpool] DEBUG: https://heerenveen.christenunie.nl:443 \"GET /k/n2531/news/view/194053/184837/werkgroep-millenniumgemeente.html HTTP/1.1\" 200 7242\n"
     ]
    },
    {
     "name": "stdout",
     "output_type": "stream",
     "text": [
      "done scraping: https://heerenveen.christenunie.nl/k/n2531/news/view/194053/184837/werkgroep-millenniumgemeente.html\n",
      "start scraping: https://heerenveen.christenunie.nl/k/n2531/news/view/194055/184837/impressie-van-de-ledenvergadering.html\n"
     ]
    },
    {
     "name": "stderr",
     "output_type": "stream",
     "text": [
      "2019-02-22 10:37:06 [urllib3.connectionpool] DEBUG: https://heerenveen.christenunie.nl:443 \"GET /k/n2531/news/view/194055/184837/impressie-van-de-ledenvergadering.html HTTP/1.1\" 200 6746\n"
     ]
    },
    {
     "name": "stdout",
     "output_type": "stream",
     "text": [
      "done scraping: https://heerenveen.christenunie.nl/k/n2531/news/view/194055/184837/impressie-van-de-ledenvergadering.html\n",
      "start scraping: https://heerenveen.christenunie.nl/k/n2531/news/view/194054/184837/rouvoet-wie-geloof-en-politiek-wil-scheiden-heeft-van-beide-niets-begrepen.html\n"
     ]
    },
    {
     "name": "stderr",
     "output_type": "stream",
     "text": [
      "2019-02-22 10:37:06 [urllib3.connectionpool] DEBUG: https://heerenveen.christenunie.nl:443 \"GET /k/n2531/news/view/194054/184837/rouvoet-wie-geloof-en-politiek-wil-scheiden-heeft-van-beide-niets-begrepen.html HTTP/1.1\" 200 7939\n"
     ]
    },
    {
     "name": "stdout",
     "output_type": "stream",
     "text": [
      "done scraping: https://heerenveen.christenunie.nl/k/n2531/news/view/194054/184837/rouvoet-wie-geloof-en-politiek-wil-scheiden-heeft-van-beide-niets-begrepen.html\n",
      "start scraping: https://heerenveen.christenunie.nl/k/n2531/news/archive/184837/2010/1\n"
     ]
    },
    {
     "name": "stderr",
     "output_type": "stream",
     "text": [
      "2019-02-22 10:37:07 [urllib3.connectionpool] DEBUG: https://heerenveen.christenunie.nl:443 \"GET /k/n2531/news/archive/184837/2010/1 HTTP/1.1\" 200 5172\n"
     ]
    },
    {
     "name": "stdout",
     "output_type": "stream",
     "text": [
      "done scraping: https://heerenveen.christenunie.nl/k/n2531/news/archive/184837/2010/1\n",
      "start scraping: https://heerenveen.christenunie.nl/k/n2531/news/view/403979/184837/werkbezoek-stichting-mee.html\n"
     ]
    },
    {
     "name": "stderr",
     "output_type": "stream",
     "text": [
      "2019-02-22 10:37:08 [urllib3.connectionpool] DEBUG: https://heerenveen.christenunie.nl:443 \"GET /k/n2531/news/view/403979/184837/werkbezoek-stichting-mee.html HTTP/1.1\" 200 6672\n"
     ]
    },
    {
     "name": "stdout",
     "output_type": "stream",
     "text": [
      "done scraping: https://heerenveen.christenunie.nl/k/n2531/news/view/403979/184837/werkbezoek-stichting-mee.html\n",
      "start scraping: https://heerenveen.christenunie.nl/k/n2531/news/view/400828/184837/wat-houdt-de-meeste-mensen-in-heerenveen-bezig.html\n"
     ]
    },
    {
     "name": "stderr",
     "output_type": "stream",
     "text": [
      "2019-02-22 10:37:09 [urllib3.connectionpool] DEBUG: https://heerenveen.christenunie.nl:443 \"GET /k/n2531/news/view/400828/184837/wat-houdt-de-meeste-mensen-in-heerenveen-bezig.html HTTP/1.1\" 200 6600\n"
     ]
    },
    {
     "name": "stdout",
     "output_type": "stream",
     "text": [
      "done scraping: https://heerenveen.christenunie.nl/k/n2531/news/view/400828/184837/wat-houdt-de-meeste-mensen-in-heerenveen-bezig.html\n",
      "start scraping: https://heerenveen.christenunie.nl/k/n2531/news/view/400820/184837/geld-oppotten-en-omtinkers-aanstellen.html\n"
     ]
    },
    {
     "name": "stderr",
     "output_type": "stream",
     "text": [
      "2019-02-22 10:37:10 [urllib3.connectionpool] DEBUG: https://heerenveen.christenunie.nl:443 \"GET /k/n2531/news/view/400820/184837/geld-oppotten-en-omtinkers-aanstellen.html HTTP/1.1\" 200 6672\n"
     ]
    },
    {
     "name": "stdout",
     "output_type": "stream",
     "text": [
      "done scraping: https://heerenveen.christenunie.nl/k/n2531/news/view/400820/184837/geld-oppotten-en-omtinkers-aanstellen.html\n",
      "start scraping: https://heerenveen.christenunie.nl/k/n2531/news/view/399092/184837/grondaankoop-tjalleberter-krite-dure-misser.html\n"
     ]
    },
    {
     "name": "stderr",
     "output_type": "stream",
     "text": [
      "2019-02-22 10:37:11 [urllib3.connectionpool] DEBUG: https://heerenveen.christenunie.nl:443 \"GET /k/n2531/news/view/399092/184837/grondaankoop-tjalleberter-krite-dure-misser.html HTTP/1.1\" 200 6789\n"
     ]
    },
    {
     "name": "stdout",
     "output_type": "stream",
     "text": [
      "done scraping: https://heerenveen.christenunie.nl/k/n2531/news/view/399092/184837/grondaankoop-tjalleberter-krite-dure-misser.html\n",
      "start scraping: https://heerenveen.christenunie.nl/k/n2531/news/archive/184837/2008/3\n"
     ]
    },
    {
     "name": "stderr",
     "output_type": "stream",
     "text": [
      "2019-02-22 10:37:11 [urllib3.connectionpool] DEBUG: https://heerenveen.christenunie.nl:443 \"GET /k/n2531/news/archive/184837/2008/3 HTTP/1.1\" 200 4971\n"
     ]
    },
    {
     "name": "stdout",
     "output_type": "stream",
     "text": [
      "done scraping: https://heerenveen.christenunie.nl/k/n2531/news/archive/184837/2008/3\n",
      "start scraping: https://heerenveen.christenunie.nl/k/n2531/news/view/199554/184837/wisseling-in-de-fractie.html\n"
     ]
    },
    {
     "name": "stderr",
     "output_type": "stream",
     "text": [
      "2019-02-22 10:37:12 [urllib3.connectionpool] DEBUG: https://heerenveen.christenunie.nl:443 \"GET /k/n2531/news/view/199554/184837/wisseling-in-de-fractie.html HTTP/1.1\" 200 6470\n"
     ]
    },
    {
     "name": "stdout",
     "output_type": "stream",
     "text": [
      "done scraping: https://heerenveen.christenunie.nl/k/n2531/news/view/199554/184837/wisseling-in-de-fractie.html\n",
      "start scraping: https://heerenveen.christenunie.nl/k/n2531/news/archive/184837/2011/1\n"
     ]
    },
    {
     "name": "stderr",
     "output_type": "stream",
     "text": [
      "2019-02-22 10:37:13 [urllib3.connectionpool] DEBUG: https://heerenveen.christenunie.nl:443 \"GET /k/n2531/news/archive/184837/2011/1 HTTP/1.1\" 200 5043\n"
     ]
    },
    {
     "name": "stdout",
     "output_type": "stream",
     "text": [
      "done scraping: https://heerenveen.christenunie.nl/k/n2531/news/archive/184837/2011/1\n",
      "start scraping: https://heerenveen.christenunie.nl/k/n2531/news/view/466709/184837/pre-mediation-in-gemeente-heerenveen-voor-betere-dienstverlening.html\n"
     ]
    },
    {
     "name": "stderr",
     "output_type": "stream",
     "text": [
      "2019-02-22 10:37:13 [urllib3.connectionpool] DEBUG: https://heerenveen.christenunie.nl:443 \"GET /k/n2531/news/view/466709/184837/pre-mediation-in-gemeente-heerenveen-voor-betere-dienstverlening.html HTTP/1.1\" 200 6291\n"
     ]
    },
    {
     "name": "stdout",
     "output_type": "stream",
     "text": [
      "done scraping: https://heerenveen.christenunie.nl/k/n2531/news/view/466709/184837/pre-mediation-in-gemeente-heerenveen-voor-betere-dienstverlening.html\n",
      "start scraping: https://heerenveen.christenunie.nl/k/n2531/news/view/464609/184837/ziektevervanging.html\n"
     ]
    },
    {
     "name": "stderr",
     "output_type": "stream",
     "text": [
      "2019-02-22 10:37:14 [urllib3.connectionpool] DEBUG: https://heerenveen.christenunie.nl:443 \"GET /k/n2531/news/view/464609/184837/ziektevervanging.html HTTP/1.1\" 200 6163\n"
     ]
    },
    {
     "name": "stdout",
     "output_type": "stream",
     "text": [
      "done scraping: https://heerenveen.christenunie.nl/k/n2531/news/view/464609/184837/ziektevervanging.html\n",
      "start scraping: https://heerenveen.christenunie.nl/k/n2531/news/archive/184837/2009/4\n"
     ]
    },
    {
     "name": "stderr",
     "output_type": "stream",
     "text": [
      "2019-02-22 10:37:14 [urllib3.connectionpool] DEBUG: https://heerenveen.christenunie.nl:443 \"GET /k/n2531/news/archive/184837/2009/4 HTTP/1.1\" 200 5034\n"
     ]
    },
    {
     "name": "stdout",
     "output_type": "stream",
     "text": [
      "done scraping: https://heerenveen.christenunie.nl/k/n2531/news/archive/184837/2009/4\n",
      "start scraping: https://heerenveen.christenunie.nl/k/n2531/news/view/347048/184837/christenunie-gaat-voor-tweedehands.html\n"
     ]
    },
    {
     "name": "stderr",
     "output_type": "stream",
     "text": [
      "2019-02-22 10:37:15 [urllib3.connectionpool] DEBUG: https://heerenveen.christenunie.nl:443 \"GET /k/n2531/news/view/347048/184837/christenunie-gaat-voor-tweedehands.html HTTP/1.1\" 200 6345\n"
     ]
    },
    {
     "name": "stdout",
     "output_type": "stream",
     "text": [
      "done scraping: https://heerenveen.christenunie.nl/k/n2531/news/view/347048/184837/christenunie-gaat-voor-tweedehands.html\n",
      "start scraping: https://heerenveen.christenunie.nl/k/n2531/news/view/346614/184837/centrum-jeugd-en-gezin-heerenveen.html\n"
     ]
    },
    {
     "name": "stderr",
     "output_type": "stream",
     "text": [
      "2019-02-22 10:37:16 [urllib3.connectionpool] DEBUG: https://heerenveen.christenunie.nl:443 \"GET /k/n2531/news/view/346614/184837/centrum-jeugd-en-gezin-heerenveen.html HTTP/1.1\" 200 6412\n"
     ]
    },
    {
     "name": "stdout",
     "output_type": "stream",
     "text": [
      "done scraping: https://heerenveen.christenunie.nl/k/n2531/news/view/346614/184837/centrum-jeugd-en-gezin-heerenveen.html\n",
      "start scraping: https://heerenveen.christenunie.nl/k/n2531/news/view/370318/184837/centrum-voor-de-kunsten-a7.html\n"
     ]
    },
    {
     "name": "stderr",
     "output_type": "stream",
     "text": [
      "2019-02-22 10:37:17 [urllib3.connectionpool] DEBUG: https://heerenveen.christenunie.nl:443 \"GET /k/n2531/news/view/370318/184837/centrum-voor-de-kunsten-a7.html HTTP/1.1\" 200 6594\n"
     ]
    },
    {
     "name": "stdout",
     "output_type": "stream",
     "text": [
      "done scraping: https://heerenveen.christenunie.nl/k/n2531/news/view/370318/184837/centrum-voor-de-kunsten-a7.html\n",
      "start scraping: https://heerenveen.christenunie.nl/k/n2531/news/view/368793/184837/thialf-discovery.html\n"
     ]
    },
    {
     "name": "stderr",
     "output_type": "stream",
     "text": [
      "2019-02-22 10:37:18 [urllib3.connectionpool] DEBUG: https://heerenveen.christenunie.nl:443 \"GET /k/n2531/news/view/368793/184837/thialf-discovery.html HTTP/1.1\" 200 6579\n"
     ]
    },
    {
     "name": "stdout",
     "output_type": "stream",
     "text": [
      "done scraping: https://heerenveen.christenunie.nl/k/n2531/news/view/368793/184837/thialf-discovery.html\n",
      "start scraping: https://heerenveen.christenunie.nl/k/n2531/news/view/368788/184837/ondernemersfonds-voor-het-centrum.html\n"
     ]
    },
    {
     "name": "stderr",
     "output_type": "stream",
     "text": [
      "2019-02-22 10:37:19 [urllib3.connectionpool] DEBUG: https://heerenveen.christenunie.nl:443 \"GET /k/n2531/news/view/368788/184837/ondernemersfonds-voor-het-centrum.html HTTP/1.1\" 200 6805\n"
     ]
    },
    {
     "name": "stdout",
     "output_type": "stream",
     "text": [
      "done scraping: https://heerenveen.christenunie.nl/k/n2531/news/view/368788/184837/ondernemersfonds-voor-het-centrum.html\n",
      "start scraping: https://heerenveen.christenunie.nl/k/n2531/news/archive/184837/2009/6\n"
     ]
    },
    {
     "name": "stderr",
     "output_type": "stream",
     "text": [
      "2019-02-22 10:37:20 [urllib3.connectionpool] DEBUG: https://heerenveen.christenunie.nl:443 \"GET /k/n2531/news/archive/184837/2009/6 HTTP/1.1\" 200 4962\n"
     ]
    },
    {
     "name": "stdout",
     "output_type": "stream",
     "text": [
      "done scraping: https://heerenveen.christenunie.nl/k/n2531/news/archive/184837/2009/6\n",
      "start scraping: https://heerenveen.christenunie.nl/k/n2531/news/view/354449/184837/nieuws-cu-heerenveen.html\n"
     ]
    },
    {
     "name": "stderr",
     "output_type": "stream",
     "text": [
      "2019-02-22 10:37:20 [urllib3.connectionpool] DEBUG: https://heerenveen.christenunie.nl:443 \"GET /k/n2531/news/view/354449/184837/nieuws-cu-heerenveen.html HTTP/1.1\" 200 8634\n"
     ]
    },
    {
     "name": "stdout",
     "output_type": "stream",
     "text": [
      "done scraping: https://heerenveen.christenunie.nl/k/n2531/news/view/354449/184837/nieuws-cu-heerenveen.html\n",
      "start scraping: https://heerenveen.christenunie.nl/k/n2531/news/archive/184837/2009/3\n"
     ]
    },
    {
     "name": "stderr",
     "output_type": "stream",
     "text": [
      "2019-02-22 10:37:21 [urllib3.connectionpool] DEBUG: https://heerenveen.christenunie.nl:443 \"GET /k/n2531/news/archive/184837/2009/3 HTTP/1.1\" 200 4974\n"
     ]
    },
    {
     "name": "stdout",
     "output_type": "stream",
     "text": [
      "done scraping: https://heerenveen.christenunie.nl/k/n2531/news/archive/184837/2009/3\n",
      "start scraping: https://heerenveen.christenunie.nl/k/n2531/news/view/340709/184837/stichting-present-heerenveen.html\n"
     ]
    },
    {
     "name": "stderr",
     "output_type": "stream",
     "text": [
      "2019-02-22 10:37:24 [urllib3.connectionpool] DEBUG: https://heerenveen.christenunie.nl:443 \"GET /k/n2531/news/view/340709/184837/stichting-present-heerenveen.html HTTP/1.1\" 200 6137\n"
     ]
    },
    {
     "name": "stdout",
     "output_type": "stream",
     "text": [
      "done scraping: https://heerenveen.christenunie.nl/k/n2531/news/view/340709/184837/stichting-present-heerenveen.html\n",
      "start scraping: https://heerenveen.christenunie.nl/k/n2531/news/archive/184837/2009/5\n"
     ]
    },
    {
     "name": "stderr",
     "output_type": "stream",
     "text": [
      "2019-02-22 10:37:24 [urllib3.connectionpool] DEBUG: https://heerenveen.christenunie.nl:443 \"GET /k/n2531/news/archive/184837/2009/5 HTTP/1.1\" 200 4979\n"
     ]
    },
    {
     "name": "stdout",
     "output_type": "stream",
     "text": [
      "done scraping: https://heerenveen.christenunie.nl/k/n2531/news/archive/184837/2009/5\n",
      "start scraping: https://heerenveen.christenunie.nl/k/n2531/news/view/347655/184837/van-europa-naar-friesland.html\n"
     ]
    },
    {
     "name": "stderr",
     "output_type": "stream",
     "text": [
      "2019-02-22 10:37:26 [urllib3.connectionpool] DEBUG: https://heerenveen.christenunie.nl:443 \"GET /k/n2531/news/view/347655/184837/van-europa-naar-friesland.html HTTP/1.1\" 200 6421\n"
     ]
    },
    {
     "name": "stdout",
     "output_type": "stream",
     "text": [
      "done scraping: https://heerenveen.christenunie.nl/k/n2531/news/view/347655/184837/van-europa-naar-friesland.html\n",
      "start scraping: https://heerenveen.christenunie.nl/k/n2531/news/view/373340/184837/fusie-eerst-naar-de-burgers.html\n"
     ]
    },
    {
     "name": "stderr",
     "output_type": "stream",
     "text": [
      "2019-02-22 10:37:26 [urllib3.connectionpool] DEBUG: https://heerenveen.christenunie.nl:443 \"GET /k/n2531/news/view/373340/184837/fusie-eerst-naar-de-burgers.html HTTP/1.1\" 200 6478\n"
     ]
    },
    {
     "name": "stdout",
     "output_type": "stream",
     "text": [
      "done scraping: https://heerenveen.christenunie.nl/k/n2531/news/view/373340/184837/fusie-eerst-naar-de-burgers.html\n",
      "start scraping: https://heerenveen.christenunie.nl/k/n2531/news/view/388109/184837/tryntsje-dijkstra-opnieuw-lijsttrekker-christenunie-heerenveen.html\n"
     ]
    },
    {
     "name": "stderr",
     "output_type": "stream",
     "text": [
      "2019-02-22 10:37:27 [urllib3.connectionpool] DEBUG: https://heerenveen.christenunie.nl:443 \"GET /k/n2531/news/view/388109/184837/tryntsje-dijkstra-opnieuw-lijsttrekker-christenunie-heerenveen.html HTTP/1.1\" 200 6809\n"
     ]
    },
    {
     "name": "stdout",
     "output_type": "stream",
     "text": [
      "done scraping: https://heerenveen.christenunie.nl/k/n2531/news/view/388109/184837/tryntsje-dijkstra-opnieuw-lijsttrekker-christenunie-heerenveen.html\n",
      "start scraping: https://heerenveen.christenunie.nl/k/n2531/news/view/388108/184837/tien-belangrijke-boodschappen-van-de-christenunie-voor-heerenveen-in-2010.html\n"
     ]
    },
    {
     "name": "stderr",
     "output_type": "stream",
     "text": [
      "2019-02-22 10:37:30 [urllib3.connectionpool] DEBUG: https://heerenveen.christenunie.nl:443 \"GET /k/n2531/news/view/388108/184837/tien-belangrijke-boodschappen-van-de-christenunie-voor-heerenveen-in-2010.html HTTP/1.1\" 200 10924\n"
     ]
    },
    {
     "name": "stdout",
     "output_type": "stream",
     "text": [
      "done scraping: https://heerenveen.christenunie.nl/k/n2531/news/view/388108/184837/tien-belangrijke-boodschappen-van-de-christenunie-voor-heerenveen-in-2010.html\n",
      "start scraping: https://heerenveen.christenunie.nl/k/n2531/news/view/385643/184837/jan-boven-ontvangt-zilveren-speld.html\n"
     ]
    },
    {
     "name": "stderr",
     "output_type": "stream",
     "text": [
      "2019-02-22 10:37:31 [urllib3.connectionpool] DEBUG: https://heerenveen.christenunie.nl:443 \"GET /k/n2531/news/view/385643/184837/jan-boven-ontvangt-zilveren-speld.html HTTP/1.1\" 200 6365\n"
     ]
    },
    {
     "name": "stdout",
     "output_type": "stream",
     "text": [
      "done scraping: https://heerenveen.christenunie.nl/k/n2531/news/view/385643/184837/jan-boven-ontvangt-zilveren-speld.html\n",
      "start scraping: https://heerenveen.christenunie.nl/k/n2531/news/view/316462/184837/heerenveen-stad-van-sport.html\n"
     ]
    },
    {
     "name": "stderr",
     "output_type": "stream",
     "text": [
      "2019-02-22 10:37:32 [urllib3.connectionpool] DEBUG: https://heerenveen.christenunie.nl:443 \"GET /k/n2531/news/view/316462/184837/heerenveen-stad-van-sport.html HTTP/1.1\" 200 7022\n"
     ]
    },
    {
     "name": "stdout",
     "output_type": "stream",
     "text": [
      "done scraping: https://heerenveen.christenunie.nl/k/n2531/news/view/316462/184837/heerenveen-stad-van-sport.html\n",
      "start scraping: https://heerenveen.christenunie.nl/k/n2531/news/archive/184837/2008/5\n"
     ]
    },
    {
     "name": "stderr",
     "output_type": "stream",
     "text": [
      "2019-02-22 10:37:33 [urllib3.connectionpool] DEBUG: https://heerenveen.christenunie.nl:443 \"GET /k/n2531/news/archive/184837/2008/5 HTTP/1.1\" 200 4988\n"
     ]
    },
    {
     "name": "stdout",
     "output_type": "stream",
     "text": [
      "done scraping: https://heerenveen.christenunie.nl/k/n2531/news/archive/184837/2008/5\n",
      "start scraping: https://heerenveen.christenunie.nl/k/n2531/news/view/289766/184837/beediging-aris-leijendekker.html\n"
     ]
    },
    {
     "name": "stderr",
     "output_type": "stream",
     "text": [
      "2019-02-22 10:37:34 [urllib3.connectionpool] DEBUG: https://heerenveen.christenunie.nl:443 \"GET /k/n2531/news/view/289766/184837/beediging-aris-leijendekker.html HTTP/1.1\" 200 5617\n"
     ]
    },
    {
     "name": "stdout",
     "output_type": "stream",
     "text": [
      "done scraping: https://heerenveen.christenunie.nl/k/n2531/news/view/289766/184837/beediging-aris-leijendekker.html\n",
      "start scraping: https://heerenveen.christenunie.nl/k/n2531/news/archive/184837/2008/9\n"
     ]
    },
    {
     "name": "stderr",
     "output_type": "stream",
     "text": [
      "2019-02-22 10:37:36 [urllib3.connectionpool] DEBUG: https://heerenveen.christenunie.nl:443 \"GET /k/n2531/news/archive/184837/2008/9 HTTP/1.1\" 200 5092\n"
     ]
    },
    {
     "name": "stdout",
     "output_type": "stream",
     "text": [
      "done scraping: https://heerenveen.christenunie.nl/k/n2531/news/archive/184837/2008/9\n",
      "start scraping: https://heerenveen.christenunie.nl/k/n2531/news/view/306300/184837/nog-geen-streep-onder-slepende-kwestie.html\n"
     ]
    },
    {
     "name": "stderr",
     "output_type": "stream",
     "text": [
      "2019-02-22 10:37:37 [urllib3.connectionpool] DEBUG: https://heerenveen.christenunie.nl:443 \"GET /k/n2531/news/view/306300/184837/nog-geen-streep-onder-slepende-kwestie.html HTTP/1.1\" 200 6451\n"
     ]
    },
    {
     "name": "stdout",
     "output_type": "stream",
     "text": [
      "done scraping: https://heerenveen.christenunie.nl/k/n2531/news/view/306300/184837/nog-geen-streep-onder-slepende-kwestie.html\n",
      "start scraping: https://heerenveen.christenunie.nl/k/n2531/news/view/302646/184837/vluchtelingenwerk-druk-met-coaching-van-de-pardonners.html\n"
     ]
    },
    {
     "name": "stderr",
     "output_type": "stream",
     "text": [
      "2019-02-22 10:37:38 [urllib3.connectionpool] DEBUG: https://heerenveen.christenunie.nl:443 \"GET /k/n2531/news/view/302646/184837/vluchtelingenwerk-druk-met-coaching-van-de-pardonners.html HTTP/1.1\" 200 7195\n"
     ]
    },
    {
     "name": "stdout",
     "output_type": "stream",
     "text": [
      "done scraping: https://heerenveen.christenunie.nl/k/n2531/news/view/302646/184837/vluchtelingenwerk-druk-met-coaching-van-de-pardonners.html\n",
      "start scraping: https://heerenveen.christenunie.nl/k/n2531/news/archive/184837/2011/9\n"
     ]
    },
    {
     "name": "stderr",
     "output_type": "stream",
     "text": [
      "2019-02-22 10:37:38 [urllib3.connectionpool] DEBUG: https://heerenveen.christenunie.nl:443 \"GET /k/n2531/news/archive/184837/2011/9 HTTP/1.1\" 200 4983\n"
     ]
    },
    {
     "name": "stdout",
     "output_type": "stream",
     "text": [
      "done scraping: https://heerenveen.christenunie.nl/k/n2531/news/archive/184837/2011/9\n",
      "start scraping: https://heerenveen.christenunie.nl/k/n2531/news/view/493749/184837/christenunie-heerenveen-start-nieuw-politiek-seizoen.html\n"
     ]
    },
    {
     "name": "stderr",
     "output_type": "stream",
     "text": [
      "2019-02-22 10:37:39 [urllib3.connectionpool] DEBUG: https://heerenveen.christenunie.nl:443 \"GET /k/n2531/news/view/493749/184837/christenunie-heerenveen-start-nieuw-politiek-seizoen.html HTTP/1.1\" 200 5879\n"
     ]
    },
    {
     "name": "stdout",
     "output_type": "stream",
     "text": [
      "done scraping: https://heerenveen.christenunie.nl/k/n2531/news/view/493749/184837/christenunie-heerenveen-start-nieuw-politiek-seizoen.html\n",
      "start scraping: https://heerenveen.christenunie.nl/k/n2531/news/view/493622/184837/belevenissen-als-tijdelijk-raadslid-van-lia-de-heij.html\n"
     ]
    },
    {
     "name": "stderr",
     "output_type": "stream",
     "text": [
      "2019-02-22 10:37:40 [urllib3.connectionpool] DEBUG: https://heerenveen.christenunie.nl:443 \"GET /k/n2531/news/view/493622/184837/belevenissen-als-tijdelijk-raadslid-van-lia-de-heij.html HTTP/1.1\" 200 7144\n"
     ]
    },
    {
     "name": "stdout",
     "output_type": "stream",
     "text": [
      "done scraping: https://heerenveen.christenunie.nl/k/n2531/news/view/493622/184837/belevenissen-als-tijdelijk-raadslid-van-lia-de-heij.html\n",
      "start scraping: https://heerenveen.christenunie.nl/k/n2531/news/view/498825/184837/verslag-van-de-jaarlijkse-ledenvergadering.html\n"
     ]
    },
    {
     "name": "stderr",
     "output_type": "stream",
     "text": [
      "2019-02-22 10:37:41 [urllib3.connectionpool] DEBUG: https://heerenveen.christenunie.nl:443 \"GET /k/n2531/news/view/498825/184837/verslag-van-de-jaarlijkse-ledenvergadering.html HTTP/1.1\" 200 7131\n"
     ]
    },
    {
     "name": "stdout",
     "output_type": "stream",
     "text": [
      "done scraping: https://heerenveen.christenunie.nl/k/n2531/news/view/498825/184837/verslag-van-de-jaarlijkse-ledenvergadering.html\n",
      "start scraping: https://heerenveen.christenunie.nl/k/n2531/news/view/498974/184837/betoog-bestuursrapportage-2011-en-themabegroting-2012.html\n"
     ]
    },
    {
     "name": "stderr",
     "output_type": "stream",
     "text": [
      "2019-02-22 10:37:41 [urllib3.connectionpool] DEBUG: https://heerenveen.christenunie.nl:443 \"GET /k/n2531/news/view/498974/184837/betoog-bestuursrapportage-2011-en-themabegroting-2012.html HTTP/1.1\" 200 8965\n"
     ]
    },
    {
     "name": "stdout",
     "output_type": "stream",
     "text": [
      "done scraping: https://heerenveen.christenunie.nl/k/n2531/news/view/498974/184837/betoog-bestuursrapportage-2011-en-themabegroting-2012.html\n",
      "start scraping: https://heerenveen.christenunie.nl/k/n2531/news/archive/184837/2010/2\n"
     ]
    },
    {
     "name": "stderr",
     "output_type": "stream",
     "text": [
      "2019-02-22 10:37:43 [urllib3.connectionpool] DEBUG: https://heerenveen.christenunie.nl:443 \"GET /k/n2531/news/archive/184837/2010/2 HTTP/1.1\" 200 5112\n"
     ]
    },
    {
     "name": "stdout",
     "output_type": "stream",
     "text": [
      "done scraping: https://heerenveen.christenunie.nl/k/n2531/news/archive/184837/2010/2\n",
      "start scraping: https://heerenveen.christenunie.nl/k/n2531/news/view/415664/184837/christenunie-steekt-de-handen-uit-de-mouwen.html\n"
     ]
    },
    {
     "name": "stderr",
     "output_type": "stream",
     "text": [
      "2019-02-22 10:37:44 [urllib3.connectionpool] DEBUG: https://heerenveen.christenunie.nl:443 \"GET /k/n2531/news/view/415664/184837/christenunie-steekt-de-handen-uit-de-mouwen.html HTTP/1.1\" 200 6349\n"
     ]
    },
    {
     "name": "stdout",
     "output_type": "stream",
     "text": [
      "done scraping: https://heerenveen.christenunie.nl/k/n2531/news/view/415664/184837/christenunie-steekt-de-handen-uit-de-mouwen.html\n",
      "start scraping: https://heerenveen.christenunie.nl/k/n2531/news/view/409870/184837/christenunie-wil-meebesturen-in-heerenveen.html\n"
     ]
    },
    {
     "name": "stderr",
     "output_type": "stream",
     "text": [
      "2019-02-22 10:37:46 [urllib3.connectionpool] DEBUG: https://heerenveen.christenunie.nl:443 \"GET /k/n2531/news/view/409870/184837/christenunie-wil-meebesturen-in-heerenveen.html HTTP/1.1\" 200 6675\n"
     ]
    },
    {
     "name": "stdout",
     "output_type": "stream",
     "text": [
      "done scraping: https://heerenveen.christenunie.nl/k/n2531/news/view/409870/184837/christenunie-wil-meebesturen-in-heerenveen.html\n",
      "start scraping: https://heerenveen.christenunie.nl/k/n2531/news/view/406213/184837/heerenveen-stad-van-sport-wie-let-er-op-de-kleintjes.html\n"
     ]
    },
    {
     "name": "stderr",
     "output_type": "stream",
     "text": [
      "2019-02-22 10:37:46 [urllib3.connectionpool] DEBUG: https://heerenveen.christenunie.nl:443 \"GET /k/n2531/news/view/406213/184837/heerenveen-stad-van-sport-wie-let-er-op-de-kleintjes.html HTTP/1.1\" 200 6948\n"
     ]
    },
    {
     "name": "stdout",
     "output_type": "stream",
     "text": [
      "done scraping: https://heerenveen.christenunie.nl/k/n2531/news/view/406213/184837/heerenveen-stad-van-sport-wie-let-er-op-de-kleintjes.html\n",
      "start scraping: https://heerenveen.christenunie.nl/k/n2531/news/view/454425/184837/ziekte-fractievoorzitter.html\n"
     ]
    },
    {
     "name": "stderr",
     "output_type": "stream",
     "text": [
      "2019-02-22 10:37:47 [urllib3.connectionpool] DEBUG: https://heerenveen.christenunie.nl:443 \"GET /k/n2531/news/view/454425/184837/ziekte-fractievoorzitter.html HTTP/1.1\" 200 5638\n"
     ]
    },
    {
     "name": "stdout",
     "output_type": "stream",
     "text": [
      "done scraping: https://heerenveen.christenunie.nl/k/n2531/news/view/454425/184837/ziekte-fractievoorzitter.html\n",
      "start scraping: https://heerenveen.christenunie.nl/k/n2531/news/view/457328/184837/een-kat-in-het-nauw-maakt-rare-sprongen.html\n"
     ]
    },
    {
     "name": "stderr",
     "output_type": "stream",
     "text": [
      "2019-02-22 10:37:48 [urllib3.connectionpool] DEBUG: https://heerenveen.christenunie.nl:443 \"GET /k/n2531/news/view/457328/184837/een-kat-in-het-nauw-maakt-rare-sprongen.html HTTP/1.1\" 200 5754\n"
     ]
    },
    {
     "name": "stdout",
     "output_type": "stream",
     "text": [
      "done scraping: https://heerenveen.christenunie.nl/k/n2531/news/view/457328/184837/een-kat-in-het-nauw-maakt-rare-sprongen.html\n",
      "start scraping: https://heerenveen.christenunie.nl/k/n2531/news/view/577728/43700/campagnevoeren-met-snelheid.html\n"
     ]
    },
    {
     "name": "stderr",
     "output_type": "stream",
     "text": [
      "2019-02-22 10:37:48 [urllib3.connectionpool] DEBUG: https://heerenveen.christenunie.nl:443 \"GET /k/n2531/news/view/577728/43700/campagnevoeren-met-snelheid.html HTTP/1.1\" 200 6842\n"
     ]
    },
    {
     "name": "stdout",
     "output_type": "stream",
     "text": [
      "done scraping: https://heerenveen.christenunie.nl/k/n2531/news/view/577728/43700/campagnevoeren-met-snelheid.html\n",
      "start scraping: https://heerenveen.christenunie.nl/k/n2531/news/view/577173/43700/joukje-akkerman-de-jong-stelt-zich-voor.html\n"
     ]
    },
    {
     "name": "stderr",
     "output_type": "stream",
     "text": [
      "2019-02-22 10:37:49 [urllib3.connectionpool] DEBUG: https://heerenveen.christenunie.nl:443 \"GET /k/n2531/news/view/577173/43700/joukje-akkerman-de-jong-stelt-zich-voor.html HTTP/1.1\" 200 6287\n"
     ]
    },
    {
     "name": "stdout",
     "output_type": "stream",
     "text": [
      "done scraping: https://heerenveen.christenunie.nl/k/n2531/news/view/577173/43700/joukje-akkerman-de-jong-stelt-zich-voor.html\n",
      "start scraping: https://heerenveen.christenunie.nl/k/n2531/news/view/576622/43700/bijzonder-goede-inzet-van-vrijwilligers-in-de-dorpen-valt-op-bij-de-derde-loop.html\n"
     ]
    },
    {
     "name": "stderr",
     "output_type": "stream",
     "text": [
      "2019-02-22 10:37:49 [urllib3.connectionpool] DEBUG: https://heerenveen.christenunie.nl:443 \"GET /k/n2531/news/view/576622/43700/bijzonder-goede-inzet-van-vrijwilligers-in-de-dorpen-valt-op-bij-de-derde-loop.html HTTP/1.1\" 200 6150\n"
     ]
    },
    {
     "name": "stdout",
     "output_type": "stream",
     "text": [
      "done scraping: https://heerenveen.christenunie.nl/k/n2531/news/view/576622/43700/bijzonder-goede-inzet-van-vrijwilligers-in-de-dorpen-valt-op-bij-de-derde-loop.html\n",
      "start scraping: https://heerenveen.christenunie.nl/k/n2531/news/view/574865/43700/start-campagne-christenunie-heerenveen.html\n"
     ]
    },
    {
     "name": "stderr",
     "output_type": "stream",
     "text": [
      "2019-02-22 10:37:50 [urllib3.connectionpool] DEBUG: https://heerenveen.christenunie.nl:443 \"GET /k/n2531/news/view/574865/43700/start-campagne-christenunie-heerenveen.html HTTP/1.1\" 200 6111\n"
     ]
    },
    {
     "name": "stdout",
     "output_type": "stream",
     "text": [
      "done scraping: https://heerenveen.christenunie.nl/k/n2531/news/view/574865/43700/start-campagne-christenunie-heerenveen.html\n",
      "start scraping: https://heerenveen.christenunie.nl/k/n2531/news/view/574156/43700/nummer-3-van-de-kandidatenlijst-klaas-pieter-derks-stelt-zich-voor.html\n"
     ]
    },
    {
     "name": "stderr",
     "output_type": "stream",
     "text": [
      "2019-02-22 10:37:50 [urllib3.connectionpool] DEBUG: https://heerenveen.christenunie.nl:443 \"GET /k/n2531/news/view/574156/43700/nummer-3-van-de-kandidatenlijst-klaas-pieter-derks-stelt-zich-voor.html HTTP/1.1\" 200 6476\n"
     ]
    },
    {
     "name": "stdout",
     "output_type": "stream",
     "text": [
      "done scraping: https://heerenveen.christenunie.nl/k/n2531/news/view/574156/43700/nummer-3-van-de-kandidatenlijst-klaas-pieter-derks-stelt-zich-voor.html\n",
      "start scraping: https://heerenveen.christenunie.nl/k/n2531/news/archive/43700/2004/12\n"
     ]
    },
    {
     "name": "stderr",
     "output_type": "stream",
     "text": [
      "2019-02-22 10:37:51 [urllib3.connectionpool] DEBUG: https://heerenveen.christenunie.nl:443 \"GET /k/n2531/news/archive/43700/2004/12 HTTP/1.1\" 200 5105\n"
     ]
    },
    {
     "name": "stdout",
     "output_type": "stream",
     "text": [
      "done scraping: https://heerenveen.christenunie.nl/k/n2531/news/archive/43700/2004/12\n",
      "start scraping: https://heerenveen.christenunie.nl/k/n2531/news/archive/43700/2004/10\n"
     ]
    },
    {
     "name": "stderr",
     "output_type": "stream",
     "text": [
      "2019-02-22 10:37:51 [urllib3.connectionpool] DEBUG: https://heerenveen.christenunie.nl:443 \"GET /k/n2531/news/archive/43700/2004/10 HTTP/1.1\" 200 5110\n"
     ]
    },
    {
     "name": "stdout",
     "output_type": "stream",
     "text": [
      "done scraping: https://heerenveen.christenunie.nl/k/n2531/news/archive/43700/2004/10\n",
      "start scraping: https://heerenveen.christenunie.nl/k/n2531/news/archive/43700/2006/03\n"
     ]
    },
    {
     "name": "stderr",
     "output_type": "stream",
     "text": [
      "2019-02-22 10:37:52 [urllib3.connectionpool] DEBUG: https://heerenveen.christenunie.nl:443 \"GET /k/n2531/news/archive/43700/2006/03 HTTP/1.1\" 200 4987\n"
     ]
    },
    {
     "name": "stdout",
     "output_type": "stream",
     "text": [
      "done scraping: https://heerenveen.christenunie.nl/k/n2531/news/archive/43700/2006/03\n",
      "start scraping: https://heerenveen.christenunie.nl/k/n2531/news/archive/43700/2006/02\n"
     ]
    },
    {
     "name": "stderr",
     "output_type": "stream",
     "text": [
      "2019-02-22 10:37:52 [urllib3.connectionpool] DEBUG: https://heerenveen.christenunie.nl:443 \"GET /k/n2531/news/archive/43700/2006/02 HTTP/1.1\" 200 5076\n"
     ]
    },
    {
     "name": "stdout",
     "output_type": "stream",
     "text": [
      "done scraping: https://heerenveen.christenunie.nl/k/n2531/news/archive/43700/2006/02\n",
      "start scraping: https://heerenveen.christenunie.nl/k/n2531/news/archive/43700/2005/10\n"
     ]
    },
    {
     "name": "stderr",
     "output_type": "stream",
     "text": [
      "2019-02-22 10:37:52 [urllib3.connectionpool] DEBUG: https://heerenveen.christenunie.nl:443 \"GET /k/n2531/news/archive/43700/2005/10 HTTP/1.1\" 200 4994\n"
     ]
    },
    {
     "name": "stdout",
     "output_type": "stream",
     "text": [
      "done scraping: https://heerenveen.christenunie.nl/k/n2531/news/archive/43700/2005/10\n",
      "start scraping: https://heerenveen.christenunie.nl/k/n2531/news/archive/43700/2005/05\n"
     ]
    },
    {
     "name": "stderr",
     "output_type": "stream",
     "text": [
      "2019-02-22 10:37:53 [urllib3.connectionpool] DEBUG: https://heerenveen.christenunie.nl:443 \"GET /k/n2531/news/archive/43700/2005/05 HTTP/1.1\" 200 5146\n"
     ]
    },
    {
     "name": "stdout",
     "output_type": "stream",
     "text": [
      "done scraping: https://heerenveen.christenunie.nl/k/n2531/news/archive/43700/2005/05\n",
      "start scraping: https://heerenveen.christenunie.nl/k/n2531/news/archive/43700/2005/03\n"
     ]
    },
    {
     "name": "stderr",
     "output_type": "stream",
     "text": [
      "2019-02-22 10:37:53 [urllib3.connectionpool] DEBUG: https://heerenveen.christenunie.nl:443 \"GET /k/n2531/news/archive/43700/2005/03 HTTP/1.1\" 200 5202\n"
     ]
    },
    {
     "name": "stdout",
     "output_type": "stream",
     "text": [
      "done scraping: https://heerenveen.christenunie.nl/k/n2531/news/archive/43700/2005/03\n",
      "start scraping: https://heerenveen.christenunie.nl/k/n2531/news/archive/43700/2007/01\n"
     ]
    },
    {
     "name": "stderr",
     "output_type": "stream",
     "text": [
      "2019-02-22 10:37:54 [urllib3.connectionpool] DEBUG: https://heerenveen.christenunie.nl:443 \"GET /k/n2531/news/archive/43700/2007/01 HTTP/1.1\" 200 5102\n"
     ]
    },
    {
     "name": "stdout",
     "output_type": "stream",
     "text": [
      "done scraping: https://heerenveen.christenunie.nl/k/n2531/news/archive/43700/2007/01\n",
      "start scraping: https://heerenveen.christenunie.nl/k/n2531/news/archive/43700/2008/11\n"
     ]
    },
    {
     "name": "stderr",
     "output_type": "stream",
     "text": [
      "2019-02-22 10:37:54 [urllib3.connectionpool] DEBUG: https://heerenveen.christenunie.nl:443 \"GET /k/n2531/news/archive/43700/2008/11 HTTP/1.1\" 200 4969\n"
     ]
    },
    {
     "name": "stdout",
     "output_type": "stream",
     "text": [
      "done scraping: https://heerenveen.christenunie.nl/k/n2531/news/archive/43700/2008/11\n",
      "start scraping: https://heerenveen.christenunie.nl/k/n2531/news/archive/43700/2008/09\n"
     ]
    },
    {
     "name": "stderr",
     "output_type": "stream",
     "text": [
      "2019-02-22 10:37:55 [urllib3.connectionpool] DEBUG: https://heerenveen.christenunie.nl:443 \"GET /k/n2531/news/archive/43700/2008/09 HTTP/1.1\" 200 5086\n"
     ]
    },
    {
     "name": "stdout",
     "output_type": "stream",
     "text": [
      "done scraping: https://heerenveen.christenunie.nl/k/n2531/news/archive/43700/2008/09\n",
      "start scraping: https://heerenveen.christenunie.nl/k/n2531/news/archive/43700/2008/05\n"
     ]
    },
    {
     "name": "stderr",
     "output_type": "stream",
     "text": [
      "2019-02-22 10:37:55 [urllib3.connectionpool] DEBUG: https://heerenveen.christenunie.nl:443 \"GET /k/n2531/news/archive/43700/2008/05 HTTP/1.1\" 200 4977\n"
     ]
    },
    {
     "name": "stdout",
     "output_type": "stream",
     "text": [
      "done scraping: https://heerenveen.christenunie.nl/k/n2531/news/archive/43700/2008/05\n",
      "start scraping: https://heerenveen.christenunie.nl/k/n2531/news/archive/43700/2008/03\n"
     ]
    },
    {
     "name": "stderr",
     "output_type": "stream",
     "text": [
      "2019-02-22 10:37:56 [urllib3.connectionpool] DEBUG: https://heerenveen.christenunie.nl:443 \"GET /k/n2531/news/archive/43700/2008/03 HTTP/1.1\" 200 4965\n"
     ]
    },
    {
     "name": "stdout",
     "output_type": "stream",
     "text": [
      "done scraping: https://heerenveen.christenunie.nl/k/n2531/news/archive/43700/2008/03\n",
      "start scraping: https://heerenveen.christenunie.nl/k/n2531/news/archive/43700/2008/01\n"
     ]
    },
    {
     "name": "stderr",
     "output_type": "stream",
     "text": [
      "2019-02-22 10:37:57 [urllib3.connectionpool] DEBUG: https://heerenveen.christenunie.nl:443 \"GET /k/n2531/news/archive/43700/2008/01 HTTP/1.1\" 200 5125\n"
     ]
    },
    {
     "name": "stdout",
     "output_type": "stream",
     "text": [
      "done scraping: https://heerenveen.christenunie.nl/k/n2531/news/archive/43700/2008/01\n",
      "start scraping: https://heerenveen.christenunie.nl/k/n2531/news/archive/43700/2010/11\n"
     ]
    },
    {
     "name": "stderr",
     "output_type": "stream",
     "text": [
      "2019-02-22 10:37:57 [urllib3.connectionpool] DEBUG: https://heerenveen.christenunie.nl:443 \"GET /k/n2531/news/archive/43700/2010/11 HTTP/1.1\" 200 4993\n"
     ]
    },
    {
     "name": "stdout",
     "output_type": "stream",
     "text": [
      "done scraping: https://heerenveen.christenunie.nl/k/n2531/news/archive/43700/2010/11\n",
      "start scraping: https://heerenveen.christenunie.nl/k/n2531/news/archive/43700/2010/10\n"
     ]
    },
    {
     "name": "stderr",
     "output_type": "stream",
     "text": [
      "2019-02-22 10:37:58 [urllib3.connectionpool] DEBUG: https://heerenveen.christenunie.nl:443 \"GET /k/n2531/news/archive/43700/2010/10 HTTP/1.1\" 200 4966\n"
     ]
    },
    {
     "name": "stdout",
     "output_type": "stream",
     "text": [
      "done scraping: https://heerenveen.christenunie.nl/k/n2531/news/archive/43700/2010/10\n",
      "start scraping: https://heerenveen.christenunie.nl/k/n2531/news/archive/43700/2010/02\n"
     ]
    },
    {
     "name": "stderr",
     "output_type": "stream",
     "text": [
      "2019-02-22 10:37:58 [urllib3.connectionpool] DEBUG: https://heerenveen.christenunie.nl:443 \"GET /k/n2531/news/archive/43700/2010/02 HTTP/1.1\" 200 5107\n",
      "2019-02-22 10:37:58 [urllib3.connectionpool] DEBUG: Resetting dropped connection: heerenveen.christenunie.nl\n"
     ]
    },
    {
     "name": "stdout",
     "output_type": "stream",
     "text": [
      "done scraping: https://heerenveen.christenunie.nl/k/n2531/news/archive/43700/2010/02\n",
      "start scraping: https://heerenveen.christenunie.nl/k/n2531/news/archive/43700/2010/01\n"
     ]
    },
    {
     "name": "stderr",
     "output_type": "stream",
     "text": [
      "2019-02-22 10:37:59 [urllib3.connectionpool] DEBUG: https://heerenveen.christenunie.nl:443 \"GET /k/n2531/news/archive/43700/2010/01 HTTP/1.1\" 200 5166\n"
     ]
    },
    {
     "name": "stdout",
     "output_type": "stream",
     "text": [
      "done scraping: https://heerenveen.christenunie.nl/k/n2531/news/archive/43700/2010/01\n",
      "start scraping: https://heerenveen.christenunie.nl/k/n2531/news/archive/43700/2009/12\n"
     ]
    },
    {
     "name": "stderr",
     "output_type": "stream",
     "text": [
      "2019-02-22 10:38:00 [urllib3.connectionpool] DEBUG: https://heerenveen.christenunie.nl:443 \"GET /k/n2531/news/archive/43700/2009/12 HTTP/1.1\" 200 5125\n"
     ]
    },
    {
     "name": "stdout",
     "output_type": "stream",
     "text": [
      "done scraping: https://heerenveen.christenunie.nl/k/n2531/news/archive/43700/2009/12\n",
      "start scraping: https://heerenveen.christenunie.nl/k/n2531/news/archive/43700/2009/11\n"
     ]
    },
    {
     "name": "stderr",
     "output_type": "stream",
     "text": [
      "2019-02-22 10:38:00 [urllib3.connectionpool] DEBUG: https://heerenveen.christenunie.nl:443 \"GET /k/n2531/news/archive/43700/2009/11 HTTP/1.1\" 200 4975\n"
     ]
    },
    {
     "name": "stdout",
     "output_type": "stream",
     "text": [
      "done scraping: https://heerenveen.christenunie.nl/k/n2531/news/archive/43700/2009/11\n",
      "start scraping: https://heerenveen.christenunie.nl/k/n2531/news/archive/43700/2009/10\n"
     ]
    },
    {
     "name": "stderr",
     "output_type": "stream",
     "text": [
      "2019-02-22 10:38:01 [urllib3.connectionpool] DEBUG: https://heerenveen.christenunie.nl:443 \"GET /k/n2531/news/archive/43700/2009/10 HTTP/1.1\" 200 5059\n"
     ]
    },
    {
     "name": "stdout",
     "output_type": "stream",
     "text": [
      "done scraping: https://heerenveen.christenunie.nl/k/n2531/news/archive/43700/2009/10\n",
      "start scraping: https://heerenveen.christenunie.nl/k/n2531/news/archive/43700/2009/06\n"
     ]
    },
    {
     "name": "stderr",
     "output_type": "stream",
     "text": [
      "2019-02-22 10:38:01 [urllib3.connectionpool] DEBUG: https://heerenveen.christenunie.nl:443 \"GET /k/n2531/news/archive/43700/2009/06 HTTP/1.1\" 200 4957\n"
     ]
    },
    {
     "name": "stdout",
     "output_type": "stream",
     "text": [
      "done scraping: https://heerenveen.christenunie.nl/k/n2531/news/archive/43700/2009/06\n",
      "start scraping: https://heerenveen.christenunie.nl/k/n2531/news/archive/43700/2009/05\n"
     ]
    },
    {
     "name": "stderr",
     "output_type": "stream",
     "text": [
      "2019-02-22 10:38:03 [urllib3.connectionpool] DEBUG: https://heerenveen.christenunie.nl:443 \"GET /k/n2531/news/archive/43700/2009/05 HTTP/1.1\" 200 4973\n"
     ]
    },
    {
     "name": "stdout",
     "output_type": "stream",
     "text": [
      "done scraping: https://heerenveen.christenunie.nl/k/n2531/news/archive/43700/2009/05\n",
      "start scraping: https://heerenveen.christenunie.nl/k/n2531/news/archive/43700/2009/04\n"
     ]
    },
    {
     "name": "stderr",
     "output_type": "stream",
     "text": [
      "2019-02-22 10:38:04 [urllib3.connectionpool] DEBUG: https://heerenveen.christenunie.nl:443 \"GET /k/n2531/news/archive/43700/2009/04 HTTP/1.1\" 200 5027\n"
     ]
    },
    {
     "name": "stdout",
     "output_type": "stream",
     "text": [
      "done scraping: https://heerenveen.christenunie.nl/k/n2531/news/archive/43700/2009/04\n",
      "start scraping: https://heerenveen.christenunie.nl/k/n2531/news/archive/43700/2009/03\n"
     ]
    },
    {
     "name": "stderr",
     "output_type": "stream",
     "text": [
      "2019-02-22 10:38:05 [urllib3.connectionpool] DEBUG: https://heerenveen.christenunie.nl:443 \"GET /k/n2531/news/archive/43700/2009/03 HTTP/1.1\" 200 4972\n"
     ]
    },
    {
     "name": "stdout",
     "output_type": "stream",
     "text": [
      "done scraping: https://heerenveen.christenunie.nl/k/n2531/news/archive/43700/2009/03\n",
      "start scraping: https://heerenveen.christenunie.nl/k/n2531/news/archive/43700/2011/12\n"
     ]
    },
    {
     "name": "stderr",
     "output_type": "stream",
     "text": [
      "2019-02-22 10:38:06 [urllib3.connectionpool] DEBUG: https://heerenveen.christenunie.nl:443 \"GET /k/n2531/news/archive/43700/2011/12 HTTP/1.1\" 200 4986\n"
     ]
    },
    {
     "name": "stdout",
     "output_type": "stream",
     "text": [
      "done scraping: https://heerenveen.christenunie.nl/k/n2531/news/archive/43700/2011/12\n",
      "start scraping: https://heerenveen.christenunie.nl/k/n2531/news/archive/43700/2011/11\n"
     ]
    },
    {
     "name": "stderr",
     "output_type": "stream",
     "text": [
      "2019-02-22 10:38:07 [urllib3.connectionpool] DEBUG: https://heerenveen.christenunie.nl:443 \"GET /k/n2531/news/archive/43700/2011/11 HTTP/1.1\" 200 4994\n"
     ]
    },
    {
     "name": "stdout",
     "output_type": "stream",
     "text": [
      "done scraping: https://heerenveen.christenunie.nl/k/n2531/news/archive/43700/2011/11\n",
      "start scraping: https://heerenveen.christenunie.nl/k/n2531/news/archive/43700/2011/10\n"
     ]
    },
    {
     "name": "stderr",
     "output_type": "stream",
     "text": [
      "2019-02-22 10:38:08 [urllib3.connectionpool] DEBUG: https://heerenveen.christenunie.nl:443 \"GET /k/n2531/news/archive/43700/2011/10 HTTP/1.1\" 200 5001\n"
     ]
    },
    {
     "name": "stdout",
     "output_type": "stream",
     "text": [
      "done scraping: https://heerenveen.christenunie.nl/k/n2531/news/archive/43700/2011/10\n",
      "start scraping: https://heerenveen.christenunie.nl/k/n2531/news/archive/43700/2011/09\n"
     ]
    },
    {
     "name": "stderr",
     "output_type": "stream",
     "text": [
      "2019-02-22 10:38:08 [urllib3.connectionpool] DEBUG: https://heerenveen.christenunie.nl:443 \"GET /k/n2531/news/archive/43700/2011/09 HTTP/1.1\" 200 4985\n"
     ]
    },
    {
     "name": "stdout",
     "output_type": "stream",
     "text": [
      "done scraping: https://heerenveen.christenunie.nl/k/n2531/news/archive/43700/2011/09\n",
      "start scraping: https://heerenveen.christenunie.nl/k/n2531/news/archive/43700/2011/01\n"
     ]
    },
    {
     "name": "stderr",
     "output_type": "stream",
     "text": [
      "2019-02-22 10:38:09 [urllib3.connectionpool] DEBUG: https://heerenveen.christenunie.nl:443 \"GET /k/n2531/news/archive/43700/2011/01 HTTP/1.1\" 200 5040\n"
     ]
    },
    {
     "name": "stdout",
     "output_type": "stream",
     "text": [
      "done scraping: https://heerenveen.christenunie.nl/k/n2531/news/archive/43700/2011/01\n",
      "start scraping: https://heerenveen.christenunie.nl/k/n2531/news/archive/43700/2012/06\n"
     ]
    },
    {
     "name": "stderr",
     "output_type": "stream",
     "text": [
      "2019-02-22 10:38:09 [urllib3.connectionpool] DEBUG: https://heerenveen.christenunie.nl:443 \"GET /k/n2531/news/archive/43700/2012/06 HTTP/1.1\" 200 4982\n"
     ]
    },
    {
     "name": "stdout",
     "output_type": "stream",
     "text": [
      "done scraping: https://heerenveen.christenunie.nl/k/n2531/news/archive/43700/2012/06\n",
      "start scraping: https://heerenveen.christenunie.nl/k/n2531/news/archive/43700/2012/04\n"
     ]
    },
    {
     "name": "stderr",
     "output_type": "stream",
     "text": [
      "2019-02-22 10:38:10 [urllib3.connectionpool] DEBUG: https://heerenveen.christenunie.nl:443 \"GET /k/n2531/news/archive/43700/2012/04 HTTP/1.1\" 200 5009\n"
     ]
    },
    {
     "name": "stdout",
     "output_type": "stream",
     "text": [
      "done scraping: https://heerenveen.christenunie.nl/k/n2531/news/archive/43700/2012/04\n",
      "start scraping: https://heerenveen.christenunie.nl/k/n2531/news/archive/43700/2012/03\n"
     ]
    },
    {
     "name": "stderr",
     "output_type": "stream",
     "text": [
      "2019-02-22 10:38:10 [urllib3.connectionpool] DEBUG: https://heerenveen.christenunie.nl:443 \"GET /k/n2531/news/archive/43700/2012/03 HTTP/1.1\" 200 4999\n"
     ]
    },
    {
     "name": "stdout",
     "output_type": "stream",
     "text": [
      "done scraping: https://heerenveen.christenunie.nl/k/n2531/news/archive/43700/2012/03\n",
      "start scraping: https://heerenveen.christenunie.nl/k/n2531/news/archive/43700/2012/02\n"
     ]
    },
    {
     "name": "stderr",
     "output_type": "stream",
     "text": [
      "2019-02-22 10:38:11 [urllib3.connectionpool] DEBUG: https://heerenveen.christenunie.nl:443 \"GET /k/n2531/news/archive/43700/2012/02 HTTP/1.1\" 200 5067\n"
     ]
    },
    {
     "name": "stdout",
     "output_type": "stream",
     "text": [
      "done scraping: https://heerenveen.christenunie.nl/k/n2531/news/archive/43700/2012/02\n",
      "start scraping: https://heerenveen.christenunie.nl/k/n2531/news/archive/43700/2012/01\n"
     ]
    },
    {
     "name": "stderr",
     "output_type": "stream",
     "text": [
      "2019-02-22 10:38:11 [urllib3.connectionpool] DEBUG: https://heerenveen.christenunie.nl:443 \"GET /k/n2531/news/archive/43700/2012/01 HTTP/1.1\" 200 4992\n"
     ]
    },
    {
     "name": "stdout",
     "output_type": "stream",
     "text": [
      "done scraping: https://heerenveen.christenunie.nl/k/n2531/news/archive/43700/2012/01\n",
      "start scraping: https://heerenveen.christenunie.nl/k/n2531/news/archive/184837/2012/06\n"
     ]
    },
    {
     "name": "stderr",
     "output_type": "stream",
     "text": [
      "2019-02-22 10:38:12 [urllib3.connectionpool] DEBUG: https://heerenveen.christenunie.nl:443 \"GET /k/n2531/news/archive/184837/2012/06 HTTP/1.1\" 200 4979\n"
     ]
    },
    {
     "name": "stdout",
     "output_type": "stream",
     "text": [
      "done scraping: https://heerenveen.christenunie.nl/k/n2531/news/archive/184837/2012/06\n",
      "start scraping: https://heerenveen.christenunie.nl/k/n2531/news/archive/184837/2012/04\n"
     ]
    },
    {
     "name": "stderr",
     "output_type": "stream",
     "text": [
      "2019-02-22 10:38:13 [urllib3.connectionpool] DEBUG: https://heerenveen.christenunie.nl:443 \"GET /k/n2531/news/archive/184837/2012/04 HTTP/1.1\" 200 5011\n"
     ]
    },
    {
     "name": "stdout",
     "output_type": "stream",
     "text": [
      "done scraping: https://heerenveen.christenunie.nl/k/n2531/news/archive/184837/2012/04\n",
      "start scraping: https://heerenveen.christenunie.nl/k/n2531/news/archive/184837/2012/03\n"
     ]
    },
    {
     "name": "stderr",
     "output_type": "stream",
     "text": [
      "2019-02-22 10:38:15 [urllib3.connectionpool] DEBUG: https://heerenveen.christenunie.nl:443 \"GET /k/n2531/news/archive/184837/2012/03 HTTP/1.1\" 200 4999\n"
     ]
    },
    {
     "name": "stdout",
     "output_type": "stream",
     "text": [
      "done scraping: https://heerenveen.christenunie.nl/k/n2531/news/archive/184837/2012/03\n",
      "start scraping: https://heerenveen.christenunie.nl/k/n2531/news/archive/184837/2012/02\n"
     ]
    },
    {
     "name": "stderr",
     "output_type": "stream",
     "text": [
      "2019-02-22 10:38:15 [urllib3.connectionpool] DEBUG: https://heerenveen.christenunie.nl:443 \"GET /k/n2531/news/archive/184837/2012/02 HTTP/1.1\" 200 5063\n"
     ]
    },
    {
     "name": "stdout",
     "output_type": "stream",
     "text": [
      "done scraping: https://heerenveen.christenunie.nl/k/n2531/news/archive/184837/2012/02\n",
      "start scraping: https://heerenveen.christenunie.nl/k/n2531/news/archive/184837/2012/01\n"
     ]
    },
    {
     "name": "stderr",
     "output_type": "stream",
     "text": [
      "2019-02-22 10:38:16 [urllib3.connectionpool] DEBUG: https://heerenveen.christenunie.nl:443 \"GET /k/n2531/news/archive/184837/2012/01 HTTP/1.1\" 200 4988\n"
     ]
    },
    {
     "name": "stdout",
     "output_type": "stream",
     "text": [
      "done scraping: https://heerenveen.christenunie.nl/k/n2531/news/archive/184837/2012/01\n",
      "start scraping: https://heerenveen.christenunie.nl/k/n2531/news/archive/184837/2013/11\n"
     ]
    },
    {
     "name": "stderr",
     "output_type": "stream",
     "text": [
      "2019-02-22 10:38:16 [urllib3.connectionpool] DEBUG: https://heerenveen.christenunie.nl:443 \"GET /k/n2531/news/archive/184837/2013/11 HTTP/1.1\" 200 5099\n"
     ]
    },
    {
     "name": "stdout",
     "output_type": "stream",
     "text": [
      "done scraping: https://heerenveen.christenunie.nl/k/n2531/news/archive/184837/2013/11\n",
      "start scraping: https://heerenveen.christenunie.nl/k/n2531/news/archive/184837/2013/10\n"
     ]
    },
    {
     "name": "stderr",
     "output_type": "stream",
     "text": [
      "2019-02-22 10:38:17 [urllib3.connectionpool] DEBUG: https://heerenveen.christenunie.nl:443 \"GET /k/n2531/news/archive/184837/2013/10 HTTP/1.1\" 200 5268\n"
     ]
    },
    {
     "name": "stdout",
     "output_type": "stream",
     "text": [
      "done scraping: https://heerenveen.christenunie.nl/k/n2531/news/archive/184837/2013/10\n",
      "start scraping: https://heerenveen.christenunie.nl/k/n2531/news/archive/184837/2013/09\n"
     ]
    },
    {
     "name": "stderr",
     "output_type": "stream",
     "text": [
      "2019-02-22 10:38:17 [urllib3.connectionpool] DEBUG: https://heerenveen.christenunie.nl:443 \"GET /k/n2531/news/archive/184837/2013/09 HTTP/1.1\" 200 5314\n"
     ]
    },
    {
     "name": "stdout",
     "output_type": "stream",
     "text": [
      "done scraping: https://heerenveen.christenunie.nl/k/n2531/news/archive/184837/2013/09\n",
      "start scraping: https://heerenveen.christenunie.nl/k/n2531/news/archive/184837/2013/08\n"
     ]
    },
    {
     "name": "stderr",
     "output_type": "stream",
     "text": [
      "2019-02-22 10:38:19 [urllib3.connectionpool] DEBUG: https://heerenveen.christenunie.nl:443 \"GET /k/n2531/news/archive/184837/2013/08 HTTP/1.1\" 200 4970\n"
     ]
    },
    {
     "name": "stdout",
     "output_type": "stream",
     "text": [
      "done scraping: https://heerenveen.christenunie.nl/k/n2531/news/archive/184837/2013/08\n",
      "start scraping: https://heerenveen.christenunie.nl/k/n2531/news/archive/184837/2013/06\n"
     ]
    },
    {
     "name": "stderr",
     "output_type": "stream",
     "text": [
      "2019-02-22 10:38:20 [urllib3.connectionpool] DEBUG: https://heerenveen.christenunie.nl:443 \"GET /k/n2531/news/archive/184837/2013/06 HTTP/1.1\" 200 4967\n"
     ]
    },
    {
     "name": "stdout",
     "output_type": "stream",
     "text": [
      "done scraping: https://heerenveen.christenunie.nl/k/n2531/news/archive/184837/2013/06\n",
      "start scraping: https://heerenveen.christenunie.nl/k/n2531/news/archive/184837/2013/03\n"
     ]
    },
    {
     "name": "stderr",
     "output_type": "stream",
     "text": [
      "2019-02-22 10:38:20 [urllib3.connectionpool] DEBUG: https://heerenveen.christenunie.nl:443 \"GET /k/n2531/news/archive/184837/2013/03 HTTP/1.1\" 200 5055\n"
     ]
    },
    {
     "name": "stdout",
     "output_type": "stream",
     "text": [
      "done scraping: https://heerenveen.christenunie.nl/k/n2531/news/archive/184837/2013/03\n",
      "start scraping: https://heerenveen.christenunie.nl/k/n2531/news/archive/184837/2013/02\n"
     ]
    },
    {
     "name": "stderr",
     "output_type": "stream",
     "text": [
      "2019-02-22 10:38:21 [urllib3.connectionpool] DEBUG: https://heerenveen.christenunie.nl:443 \"GET /k/n2531/news/archive/184837/2013/02 HTTP/1.1\" 200 4992\n"
     ]
    },
    {
     "name": "stdout",
     "output_type": "stream",
     "text": [
      "done scraping: https://heerenveen.christenunie.nl/k/n2531/news/archive/184837/2013/02\n",
      "start scraping: https://heerenveen.christenunie.nl/k/n2531/news/archive/184837/2017/03\n"
     ]
    },
    {
     "name": "stderr",
     "output_type": "stream",
     "text": [
      "2019-02-22 10:38:21 [urllib3.connectionpool] DEBUG: https://heerenveen.christenunie.nl:443 \"GET /k/n2531/news/archive/184837/2017/03 HTTP/1.1\" 200 5062\n"
     ]
    },
    {
     "name": "stdout",
     "output_type": "stream",
     "text": [
      "done scraping: https://heerenveen.christenunie.nl/k/n2531/news/archive/184837/2017/03\n",
      "start scraping: https://heerenveen.christenunie.nl/k/n2531/news/archive/184837/2017/02\n"
     ]
    },
    {
     "name": "stderr",
     "output_type": "stream",
     "text": [
      "2019-02-22 10:38:21 [urllib3.connectionpool] DEBUG: https://heerenveen.christenunie.nl:443 \"GET /k/n2531/news/archive/184837/2017/02 HTTP/1.1\" 200 4993\n"
     ]
    },
    {
     "name": "stdout",
     "output_type": "stream",
     "text": [
      "done scraping: https://heerenveen.christenunie.nl/k/n2531/news/archive/184837/2017/02\n",
      "start scraping: https://heerenveen.christenunie.nl/k/n2531/news/archive/43700/2005/3\n"
     ]
    },
    {
     "name": "stderr",
     "output_type": "stream",
     "text": [
      "2019-02-22 10:38:22 [urllib3.connectionpool] DEBUG: https://heerenveen.christenunie.nl:443 \"GET /k/n2531/news/archive/43700/2005/3 HTTP/1.1\" 200 5195\n"
     ]
    },
    {
     "name": "stdout",
     "output_type": "stream",
     "text": [
      "done scraping: https://heerenveen.christenunie.nl/k/n2531/news/archive/43700/2005/3\n",
      "start scraping: https://heerenveen.christenunie.nl/k/n2531/news/view/36883/43700/onze-prioriteiten-in-heerenveen.html\n"
     ]
    },
    {
     "name": "stderr",
     "output_type": "stream",
     "text": [
      "2019-02-22 10:38:22 [urllib3.connectionpool] DEBUG: https://heerenveen.christenunie.nl:443 \"GET /k/n2531/news/view/36883/43700/onze-prioriteiten-in-heerenveen.html HTTP/1.1\" 200 5906\n"
     ]
    },
    {
     "name": "stdout",
     "output_type": "stream",
     "text": [
      "done scraping: https://heerenveen.christenunie.nl/k/n2531/news/view/36883/43700/onze-prioriteiten-in-heerenveen.html\n",
      "start scraping: https://heerenveen.christenunie.nl/k/n2531/news/view/36882/43700/holland-casino-in-heerenveen-niet-doen.html\n"
     ]
    },
    {
     "name": "stderr",
     "output_type": "stream",
     "text": [
      "2019-02-22 10:38:23 [urllib3.connectionpool] DEBUG: https://heerenveen.christenunie.nl:443 \"GET /k/n2531/news/view/36882/43700/holland-casino-in-heerenveen-niet-doen.html HTTP/1.1\" 200 6048\n"
     ]
    },
    {
     "name": "stdout",
     "output_type": "stream",
     "text": [
      "done scraping: https://heerenveen.christenunie.nl/k/n2531/news/view/36882/43700/holland-casino-in-heerenveen-niet-doen.html\n",
      "start scraping: https://heerenveen.christenunie.nl/k/n2531/news/view/36881/43700/helder-beleid-voor-windenergie.html\n"
     ]
    },
    {
     "name": "stderr",
     "output_type": "stream",
     "text": [
      "2019-02-22 10:38:24 [urllib3.connectionpool] DEBUG: https://heerenveen.christenunie.nl:443 \"GET /k/n2531/news/view/36881/43700/helder-beleid-voor-windenergie.html HTTP/1.1\" 200 5794\n"
     ]
    },
    {
     "name": "stdout",
     "output_type": "stream",
     "text": [
      "done scraping: https://heerenveen.christenunie.nl/k/n2531/news/view/36881/43700/helder-beleid-voor-windenergie.html\n",
      "start scraping: https://heerenveen.christenunie.nl/k/n2531/news/view/36880/43700/college-blijft-vaag-over-financiering-bijzonder-basisonderwijs.html\n"
     ]
    },
    {
     "name": "stderr",
     "output_type": "stream",
     "text": [
      "2019-02-22 10:38:24 [urllib3.connectionpool] DEBUG: https://heerenveen.christenunie.nl:443 \"GET /k/n2531/news/view/36880/43700/college-blijft-vaag-over-financiering-bijzonder-basisonderwijs.html HTTP/1.1\" 200 5917\n"
     ]
    },
    {
     "name": "stdout",
     "output_type": "stream",
     "text": [
      "done scraping: https://heerenveen.christenunie.nl/k/n2531/news/view/36880/43700/college-blijft-vaag-over-financiering-bijzonder-basisonderwijs.html\n",
      "start scraping: https://heerenveen.christenunie.nl/k/n2531/news/view/36879/43700/ruim-baan-voor-woonzorgcomplexen-in-dorpen.html\n"
     ]
    },
    {
     "name": "stderr",
     "output_type": "stream",
     "text": [
      "2019-02-22 10:38:25 [urllib3.connectionpool] DEBUG: https://heerenveen.christenunie.nl:443 \"GET /k/n2531/news/view/36879/43700/ruim-baan-voor-woonzorgcomplexen-in-dorpen.html HTTP/1.1\" 200 5644\n"
     ]
    },
    {
     "name": "stdout",
     "output_type": "stream",
     "text": [
      "done scraping: https://heerenveen.christenunie.nl/k/n2531/news/view/36879/43700/ruim-baan-voor-woonzorgcomplexen-in-dorpen.html\n",
      "start scraping: https://heerenveen.christenunie.nl/k/n2531/news/archive/43700/2005/5\n"
     ]
    },
    {
     "name": "stderr",
     "output_type": "stream",
     "text": [
      "2019-02-22 10:38:25 [urllib3.connectionpool] DEBUG: https://heerenveen.christenunie.nl:443 \"GET /k/n2531/news/archive/43700/2005/5 HTTP/1.1\" 200 5149\n"
     ]
    },
    {
     "name": "stdout",
     "output_type": "stream",
     "text": [
      "done scraping: https://heerenveen.christenunie.nl/k/n2531/news/archive/43700/2005/5\n",
      "start scraping: https://heerenveen.christenunie.nl/k/n2531/news/view/36887/43700/wethouder-toont-zich-slechte-verliezer.html\n"
     ]
    },
    {
     "name": "stderr",
     "output_type": "stream",
     "text": [
      "2019-02-22 10:38:26 [urllib3.connectionpool] DEBUG: https://heerenveen.christenunie.nl:443 \"GET /k/n2531/news/view/36887/43700/wethouder-toont-zich-slechte-verliezer.html HTTP/1.1\" 200 5895\n"
     ]
    },
    {
     "name": "stdout",
     "output_type": "stream",
     "text": [
      "done scraping: https://heerenveen.christenunie.nl/k/n2531/news/view/36887/43700/wethouder-toont-zich-slechte-verliezer.html\n",
      "start scraping: https://heerenveen.christenunie.nl/k/n2531/news/view/36886/43700/wegomlegging-bontebok-eerst-mensen-dan-bomen.html\n"
     ]
    },
    {
     "name": "stderr",
     "output_type": "stream",
     "text": [
      "2019-02-22 10:38:26 [urllib3.connectionpool] DEBUG: https://heerenveen.christenunie.nl:443 \"GET /k/n2531/news/view/36886/43700/wegomlegging-bontebok-eerst-mensen-dan-bomen.html HTTP/1.1\" 200 5774\n"
     ]
    },
    {
     "name": "stdout",
     "output_type": "stream",
     "text": [
      "done scraping: https://heerenveen.christenunie.nl/k/n2531/news/view/36886/43700/wegomlegging-bontebok-eerst-mensen-dan-bomen.html\n",
      "start scraping: https://heerenveen.christenunie.nl/k/n2531/news/view/36885/43700/holland-casino-in-heerenveen-gelukkig-niet.html\n"
     ]
    },
    {
     "name": "stderr",
     "output_type": "stream",
     "text": [
      "2019-02-22 10:38:27 [urllib3.connectionpool] DEBUG: https://heerenveen.christenunie.nl:443 \"GET /k/n2531/news/view/36885/43700/holland-casino-in-heerenveen-gelukkig-niet.html HTTP/1.1\" 200 5533\n"
     ]
    },
    {
     "name": "stdout",
     "output_type": "stream",
     "text": [
      "done scraping: https://heerenveen.christenunie.nl/k/n2531/news/view/36885/43700/holland-casino-in-heerenveen-gelukkig-niet.html\n",
      "start scraping: https://heerenveen.christenunie.nl/k/n2531/news/view/36884/43700/ontsluitingsweg-te-duur.html\n"
     ]
    },
    {
     "name": "stderr",
     "output_type": "stream",
     "text": [
      "2019-02-22 10:38:28 [urllib3.connectionpool] DEBUG: https://heerenveen.christenunie.nl:443 \"GET /k/n2531/news/view/36884/43700/ontsluitingsweg-te-duur.html HTTP/1.1\" 200 5974\n"
     ]
    },
    {
     "name": "stdout",
     "output_type": "stream",
     "text": [
      "done scraping: https://heerenveen.christenunie.nl/k/n2531/news/view/36884/43700/ontsluitingsweg-te-duur.html\n",
      "start scraping: https://heerenveen.christenunie.nl/k/n2531/news/view/36875/43700/begroting-voor-het-eerst-in-nieuwe-opzet.html\n"
     ]
    },
    {
     "name": "stderr",
     "output_type": "stream",
     "text": [
      "2019-02-22 10:38:28 [urllib3.connectionpool] DEBUG: https://heerenveen.christenunie.nl:443 \"GET /k/n2531/news/view/36875/43700/begroting-voor-het-eerst-in-nieuwe-opzet.html HTTP/1.1\" 200 5464\n"
     ]
    },
    {
     "name": "stdout",
     "output_type": "stream",
     "text": [
      "done scraping: https://heerenveen.christenunie.nl/k/n2531/news/view/36875/43700/begroting-voor-het-eerst-in-nieuwe-opzet.html\n",
      "start scraping: https://heerenveen.christenunie.nl/k/n2531/news/view/36874/43700/motie-om-onderzoek-naar-aanpassing-tunnel-aangenomen.html\n"
     ]
    },
    {
     "name": "stderr",
     "output_type": "stream",
     "text": [
      "2019-02-22 10:38:29 [urllib3.connectionpool] DEBUG: https://heerenveen.christenunie.nl:443 \"GET /k/n2531/news/view/36874/43700/motie-om-onderzoek-naar-aanpassing-tunnel-aangenomen.html HTTP/1.1\" 200 5957\n"
     ]
    },
    {
     "name": "stdout",
     "output_type": "stream",
     "text": [
      "done scraping: https://heerenveen.christenunie.nl/k/n2531/news/view/36874/43700/motie-om-onderzoek-naar-aanpassing-tunnel-aangenomen.html\n",
      "start scraping: https://heerenveen.christenunie.nl/k/n2531/news/view/36873/43700/geen-steun-aan-motie-van-wantrouwen.html\n"
     ]
    },
    {
     "name": "stderr",
     "output_type": "stream",
     "text": [
      "2019-02-22 10:38:29 [urllib3.connectionpool] DEBUG: https://heerenveen.christenunie.nl:443 \"GET /k/n2531/news/view/36873/43700/geen-steun-aan-motie-van-wantrouwen.html HTTP/1.1\" 200 5933\n"
     ]
    },
    {
     "name": "stdout",
     "output_type": "stream",
     "text": [
      "done scraping: https://heerenveen.christenunie.nl/k/n2531/news/view/36873/43700/geen-steun-aan-motie-van-wantrouwen.html\n",
      "start scraping: https://heerenveen.christenunie.nl/k/n2531/news/view/36888/43700/feestelijke-presentatie-nieuwe-lijsttrekker-en-verkiezingsprogramma.html\n"
     ]
    },
    {
     "name": "stderr",
     "output_type": "stream",
     "text": [
      "2019-02-22 10:38:30 [urllib3.connectionpool] DEBUG: https://heerenveen.christenunie.nl:443 \"GET /k/n2531/news/view/36888/43700/feestelijke-presentatie-nieuwe-lijsttrekker-en-verkiezingsprogramma.html HTTP/1.1\" 200 6071\n"
     ]
    },
    {
     "name": "stdout",
     "output_type": "stream",
     "text": [
      "done scraping: https://heerenveen.christenunie.nl/k/n2531/news/view/36888/43700/feestelijke-presentatie-nieuwe-lijsttrekker-en-verkiezingsprogramma.html\n",
      "start scraping: https://heerenveen.christenunie.nl/k/n2531/news/archive/43700/2006/2\n"
     ]
    },
    {
     "name": "stderr",
     "output_type": "stream",
     "text": [
      "2019-02-22 10:38:31 [urllib3.connectionpool] DEBUG: https://heerenveen.christenunie.nl:443 \"GET /k/n2531/news/archive/43700/2006/2 HTTP/1.1\" 200 5066\n"
     ]
    },
    {
     "name": "stdout",
     "output_type": "stream",
     "text": [
      "done scraping: https://heerenveen.christenunie.nl/k/n2531/news/archive/43700/2006/2\n",
      "start scraping: https://heerenveen.christenunie.nl/k/n2531/news/view/36889/43700/liever-wij-dan-ik.html\n"
     ]
    },
    {
     "name": "stderr",
     "output_type": "stream",
     "text": [
      "2019-02-22 10:38:31 [urllib3.connectionpool] DEBUG: https://heerenveen.christenunie.nl:443 \"GET /k/n2531/news/view/36889/43700/liever-wij-dan-ik.html HTTP/1.1\" 200 5862\n"
     ]
    },
    {
     "name": "stdout",
     "output_type": "stream",
     "text": [
      "done scraping: https://heerenveen.christenunie.nl/k/n2531/news/view/36889/43700/liever-wij-dan-ik.html\n",
      "start scraping: https://heerenveen.christenunie.nl/k/n2531/news/view/45851/43700/kandidaten-bezoeken-aanloophuis.html\n"
     ]
    },
    {
     "name": "stderr",
     "output_type": "stream",
     "text": [
      "2019-02-22 10:38:32 [urllib3.connectionpool] DEBUG: https://heerenveen.christenunie.nl:443 \"GET /k/n2531/news/view/45851/43700/kandidaten-bezoeken-aanloophuis.html HTTP/1.1\" 200 6622\n"
     ]
    },
    {
     "name": "stdout",
     "output_type": "stream",
     "text": [
      "done scraping: https://heerenveen.christenunie.nl/k/n2531/news/view/45851/43700/kandidaten-bezoeken-aanloophuis.html\n",
      "start scraping: https://heerenveen.christenunie.nl/k/n2531/news/view/36891/43700/kerken-heerenveen-en-christenunie-in-overleg-over-wmo.html\n"
     ]
    },
    {
     "name": "stderr",
     "output_type": "stream",
     "text": [
      "2019-02-22 10:38:32 [urllib3.connectionpool] DEBUG: https://heerenveen.christenunie.nl:443 \"GET /k/n2531/news/view/36891/43700/kerken-heerenveen-en-christenunie-in-overleg-over-wmo.html HTTP/1.1\" 200 6920\n"
     ]
    },
    {
     "name": "stdout",
     "output_type": "stream",
     "text": [
      "done scraping: https://heerenveen.christenunie.nl/k/n2531/news/view/36891/43700/kerken-heerenveen-en-christenunie-in-overleg-over-wmo.html\n",
      "start scraping: https://heerenveen.christenunie.nl/k/n2531/news/archive/43700/2007/1\n"
     ]
    },
    {
     "name": "stderr",
     "output_type": "stream",
     "text": [
      "2019-02-22 10:38:34 [urllib3.connectionpool] DEBUG: https://heerenveen.christenunie.nl:443 \"GET /k/n2531/news/archive/43700/2007/1 HTTP/1.1\" 200 5102\n"
     ]
    },
    {
     "name": "stdout",
     "output_type": "stream",
     "text": [
      "done scraping: https://heerenveen.christenunie.nl/k/n2531/news/archive/43700/2007/1\n",
      "start scraping: https://heerenveen.christenunie.nl/k/n2531/news/view/148114/43700/betere-samenwerking-met-clientenraad-sociale-zaken.html\n"
     ]
    },
    {
     "name": "stderr",
     "output_type": "stream",
     "text": [
      "2019-02-22 10:38:34 [urllib3.connectionpool] DEBUG: https://heerenveen.christenunie.nl:443 \"GET /k/n2531/news/view/148114/43700/betere-samenwerking-met-clientenraad-sociale-zaken.html HTTP/1.1\" 200 5943\n"
     ]
    },
    {
     "name": "stdout",
     "output_type": "stream",
     "text": [
      "done scraping: https://heerenveen.christenunie.nl/k/n2531/news/view/148114/43700/betere-samenwerking-met-clientenraad-sociale-zaken.html\n",
      "start scraping: https://heerenveen.christenunie.nl/k/n2531/news/view/148115/43700/huishoudboekje-begrijpelijker-maken.html\n"
     ]
    },
    {
     "name": "stderr",
     "output_type": "stream",
     "text": [
      "2019-02-22 10:38:35 [urllib3.connectionpool] DEBUG: https://heerenveen.christenunie.nl:443 \"GET /k/n2531/news/view/148115/43700/huishoudboekje-begrijpelijker-maken.html HTTP/1.1\" 200 6203\n"
     ]
    },
    {
     "name": "stdout",
     "output_type": "stream",
     "text": [
      "done scraping: https://heerenveen.christenunie.nl/k/n2531/news/view/148115/43700/huishoudboekje-begrijpelijker-maken.html\n",
      "start scraping: https://heerenveen.christenunie.nl/k/n2531/news/view/36878/43700/iraakse-familie-voorlopig-nog-onderdak.html\n"
     ]
    },
    {
     "name": "stderr",
     "output_type": "stream",
     "text": [
      "2019-02-22 10:38:36 [urllib3.connectionpool] DEBUG: https://heerenveen.christenunie.nl:443 \"GET /k/n2531/news/view/36878/43700/iraakse-familie-voorlopig-nog-onderdak.html HTTP/1.1\" 200 5687\n"
     ]
    },
    {
     "name": "stdout",
     "output_type": "stream",
     "text": [
      "done scraping: https://heerenveen.christenunie.nl/k/n2531/news/view/36878/43700/iraakse-familie-voorlopig-nog-onderdak.html\n",
      "start scraping: https://heerenveen.christenunie.nl/k/n2531/news/view/36877/43700/gemeentelijke-lasten-mogen-in-2006-niet-omhoog.html\n"
     ]
    },
    {
     "name": "stderr",
     "output_type": "stream",
     "text": [
      "2019-02-22 10:38:36 [urllib3.connectionpool] DEBUG: https://heerenveen.christenunie.nl:443 \"GET /k/n2531/news/view/36877/43700/gemeentelijke-lasten-mogen-in-2006-niet-omhoog.html HTTP/1.1\" 200 5682\n"
     ]
    },
    {
     "name": "stdout",
     "output_type": "stream",
     "text": [
      "done scraping: https://heerenveen.christenunie.nl/k/n2531/news/view/36877/43700/gemeentelijke-lasten-mogen-in-2006-niet-omhoog.html\n",
      "start scraping: https://heerenveen.christenunie.nl/k/n2531/news/view/36876/43700/burgemeester-goed-in-gesprek-met-moslims.html\n"
     ]
    },
    {
     "name": "stderr",
     "output_type": "stream",
     "text": [
      "2019-02-22 10:38:37 [urllib3.connectionpool] DEBUG: https://heerenveen.christenunie.nl:443 \"GET /k/n2531/news/view/36876/43700/burgemeester-goed-in-gesprek-met-moslims.html HTTP/1.1\" 200 5624\n"
     ]
    },
    {
     "name": "stdout",
     "output_type": "stream",
     "text": [
      "done scraping: https://heerenveen.christenunie.nl/k/n2531/news/view/36876/43700/burgemeester-goed-in-gesprek-met-moslims.html\n",
      "start scraping: https://heerenveen.christenunie.nl/k/n2531/news/view/148113/43700/christenunie-feliciteert-vrijwilligers-aanloophuis.html\n"
     ]
    },
    {
     "name": "stderr",
     "output_type": "stream",
     "text": [
      "2019-02-22 10:38:37 [urllib3.connectionpool] DEBUG: https://heerenveen.christenunie.nl:443 \"GET /k/n2531/news/view/148113/43700/christenunie-feliciteert-vrijwilligers-aanloophuis.html HTTP/1.1\" 200 5605\n"
     ]
    },
    {
     "name": "stdout",
     "output_type": "stream",
     "text": [
      "done scraping: https://heerenveen.christenunie.nl/k/n2531/news/view/148113/43700/christenunie-feliciteert-vrijwilligers-aanloophuis.html\n",
      "start scraping: https://heerenveen.christenunie.nl/k/n2531/news/archive/43700/2006/3\n"
     ]
    },
    {
     "name": "stderr",
     "output_type": "stream",
     "text": [
      "2019-02-22 10:38:38 [urllib3.connectionpool] DEBUG: https://heerenveen.christenunie.nl:443 \"GET /k/n2531/news/archive/43700/2006/3 HTTP/1.1\" 200 4981\n"
     ]
    },
    {
     "name": "stdout",
     "output_type": "stream",
     "text": [
      "done scraping: https://heerenveen.christenunie.nl/k/n2531/news/archive/43700/2006/3\n",
      "start scraping: https://heerenveen.christenunie.nl/k/n2531/news/view/68086/43700/niet-wesseling-maar-boven-in-de-raad.html\n"
     ]
    },
    {
     "name": "stderr",
     "output_type": "stream",
     "text": [
      "2019-02-22 10:38:39 [urllib3.connectionpool] DEBUG: https://heerenveen.christenunie.nl:443 \"GET /k/n2531/news/view/68086/43700/niet-wesseling-maar-boven-in-de-raad.html HTTP/1.1\" 200 5655\n"
     ]
    },
    {
     "name": "stdout",
     "output_type": "stream",
     "text": [
      "done scraping: https://heerenveen.christenunie.nl/k/n2531/news/view/68086/43700/niet-wesseling-maar-boven-in-de-raad.html\n",
      "start scraping: https://heerenveen.christenunie.nl/k/n2531/news/archive/43700/2012/1\n"
     ]
    },
    {
     "name": "stderr",
     "output_type": "stream",
     "text": [
      "2019-02-22 10:38:39 [urllib3.connectionpool] DEBUG: https://heerenveen.christenunie.nl:443 \"GET /k/n2531/news/archive/43700/2012/1 HTTP/1.1\" 200 4991\n"
     ]
    },
    {
     "name": "stdout",
     "output_type": "stream",
     "text": [
      "done scraping: https://heerenveen.christenunie.nl/k/n2531/news/archive/43700/2012/1\n",
      "start scraping: https://heerenveen.christenunie.nl/k/n2531/news/view/503553/43700/kennismaking-met-zorgboerderij-boerenblij.html\n"
     ]
    },
    {
     "name": "stderr",
     "output_type": "stream",
     "text": [
      "2019-02-22 10:38:39 [urllib3.connectionpool] DEBUG: https://heerenveen.christenunie.nl:443 \"GET /k/n2531/news/view/503553/43700/kennismaking-met-zorgboerderij-boerenblij.html HTTP/1.1\" 200 6347\n"
     ]
    },
    {
     "name": "stdout",
     "output_type": "stream",
     "text": [
      "done scraping: https://heerenveen.christenunie.nl/k/n2531/news/view/503553/43700/kennismaking-met-zorgboerderij-boerenblij.html\n",
      "start scraping: https://heerenveen.christenunie.nl/k/n2531/news/archive/43700/2012/2\n"
     ]
    },
    {
     "name": "stderr",
     "output_type": "stream",
     "text": [
      "2019-02-22 10:38:40 [urllib3.connectionpool] DEBUG: https://heerenveen.christenunie.nl:443 \"GET /k/n2531/news/archive/43700/2012/2 HTTP/1.1\" 200 5066\n"
     ]
    },
    {
     "name": "stdout",
     "output_type": "stream",
     "text": [
      "done scraping: https://heerenveen.christenunie.nl/k/n2531/news/archive/43700/2012/2\n",
      "start scraping: https://heerenveen.christenunie.nl/k/n2531/news/view/506840/43700/provinciale-unie-op-bezoek-bij-het-bestuur-in-heerenveen.html\n"
     ]
    },
    {
     "name": "stderr",
     "output_type": "stream",
     "text": [
      "2019-02-22 10:38:40 [urllib3.connectionpool] DEBUG: https://heerenveen.christenunie.nl:443 \"GET /k/n2531/news/view/506840/43700/provinciale-unie-op-bezoek-bij-het-bestuur-in-heerenveen.html HTTP/1.1\" 200 5862\n"
     ]
    },
    {
     "name": "stdout",
     "output_type": "stream",
     "text": [
      "done scraping: https://heerenveen.christenunie.nl/k/n2531/news/view/506840/43700/provinciale-unie-op-bezoek-bij-het-bestuur-in-heerenveen.html\n",
      "start scraping: https://heerenveen.christenunie.nl/k/n2531/news/view/504357/43700/tryntsje-dijkstra-terug-in-de-raad.html\n"
     ]
    },
    {
     "name": "stderr",
     "output_type": "stream",
     "text": [
      "2019-02-22 10:38:41 [urllib3.connectionpool] DEBUG: https://heerenveen.christenunie.nl:443 \"GET /k/n2531/news/view/504357/43700/tryntsje-dijkstra-terug-in-de-raad.html HTTP/1.1\" 200 6009\n"
     ]
    },
    {
     "name": "stdout",
     "output_type": "stream",
     "text": [
      "done scraping: https://heerenveen.christenunie.nl/k/n2531/news/view/504357/43700/tryntsje-dijkstra-terug-in-de-raad.html\n",
      "start scraping: https://heerenveen.christenunie.nl/k/n2531/news/archive/43700/2012/3\n"
     ]
    },
    {
     "name": "stderr",
     "output_type": "stream",
     "text": [
      "2019-02-22 10:38:41 [urllib3.connectionpool] DEBUG: https://heerenveen.christenunie.nl:443 \"GET /k/n2531/news/archive/43700/2012/3 HTTP/1.1\" 200 5000\n"
     ]
    },
    {
     "name": "stdout",
     "output_type": "stream",
     "text": [
      "done scraping: https://heerenveen.christenunie.nl/k/n2531/news/archive/43700/2012/3\n",
      "start scraping: https://heerenveen.christenunie.nl/k/n2531/news/view/509019/43700/vernieuwbouw-thialf-een-innovatief-en-uitdagend-plan.html\n"
     ]
    },
    {
     "name": "stderr",
     "output_type": "stream",
     "text": [
      "2019-02-22 10:38:42 [urllib3.connectionpool] DEBUG: https://heerenveen.christenunie.nl:443 \"GET /k/n2531/news/view/509019/43700/vernieuwbouw-thialf-een-innovatief-en-uitdagend-plan.html HTTP/1.1\" 200 6711\n"
     ]
    },
    {
     "name": "stdout",
     "output_type": "stream",
     "text": [
      "done scraping: https://heerenveen.christenunie.nl/k/n2531/news/view/509019/43700/vernieuwbouw-thialf-een-innovatief-en-uitdagend-plan.html\n",
      "start scraping: https://heerenveen.christenunie.nl/k/n2531/news/archive/184837/2017/3\n"
     ]
    },
    {
     "name": "stderr",
     "output_type": "stream",
     "text": [
      "2019-02-22 10:38:43 [urllib3.connectionpool] DEBUG: https://heerenveen.christenunie.nl:443 \"GET /k/n2531/news/archive/184837/2017/3 HTTP/1.1\" 200 5061\n"
     ]
    },
    {
     "name": "stdout",
     "output_type": "stream",
     "text": [
      "done scraping: https://heerenveen.christenunie.nl/k/n2531/news/archive/184837/2017/3\n",
      "start scraping: https://heerenveen.christenunie.nl/k/n2531/news/view/1109980/184837/dank-voor-uw-stem.html\n"
     ]
    },
    {
     "name": "stderr",
     "output_type": "stream",
     "text": [
      "2019-02-22 10:38:43 [urllib3.connectionpool] DEBUG: https://heerenveen.christenunie.nl:443 \"GET /k/n2531/news/view/1109980/184837/dank-voor-uw-stem.html HTTP/1.1\" 200 6009\n"
     ]
    },
    {
     "name": "stdout",
     "output_type": "stream",
     "text": [
      "done scraping: https://heerenveen.christenunie.nl/k/n2531/news/view/1109980/184837/dank-voor-uw-stem.html\n",
      "start scraping: https://heerenveen.christenunie.nl/k/n2531/news/view/1109024/184837/lintjes.html\n"
     ]
    },
    {
     "name": "stderr",
     "output_type": "stream",
     "text": [
      "2019-02-22 10:38:44 [urllib3.connectionpool] DEBUG: https://heerenveen.christenunie.nl:443 \"GET /k/n2531/news/view/1109024/184837/lintjes.html HTTP/1.1\" 200 6088\n"
     ]
    },
    {
     "name": "stdout",
     "output_type": "stream",
     "text": [
      "done scraping: https://heerenveen.christenunie.nl/k/n2531/news/view/1109024/184837/lintjes.html\n",
      "start scraping: https://heerenveen.christenunie.nl/k/n2531/news/view/1106421/184837/christenunie-stelt-kamervragen-over-gaswinning-heerenveen.html\n"
     ]
    },
    {
     "name": "stderr",
     "output_type": "stream",
     "text": [
      "2019-02-22 10:38:45 [urllib3.connectionpool] DEBUG: https://heerenveen.christenunie.nl:443 \"GET /k/n2531/news/view/1106421/184837/christenunie-stelt-kamervragen-over-gaswinning-heerenveen.html HTTP/1.1\" 200 6053\n"
     ]
    },
    {
     "name": "stdout",
     "output_type": "stream",
     "text": [
      "done scraping: https://heerenveen.christenunie.nl/k/n2531/news/view/1106421/184837/christenunie-stelt-kamervragen-over-gaswinning-heerenveen.html\n",
      "start scraping: https://heerenveen.christenunie.nl/k/n2531/news/archive/184837/2013/6\n"
     ]
    },
    {
     "name": "stderr",
     "output_type": "stream",
     "text": [
      "2019-02-22 10:38:45 [urllib3.connectionpool] DEBUG: https://heerenveen.christenunie.nl:443 \"GET /k/n2531/news/archive/184837/2013/6 HTTP/1.1\" 200 4966\n"
     ]
    },
    {
     "name": "stdout",
     "output_type": "stream",
     "text": [
      "done scraping: https://heerenveen.christenunie.nl/k/n2531/news/archive/184837/2013/6\n",
      "start scraping: https://heerenveen.christenunie.nl/k/n2531/news/view/560240/184837/leijendekker-lijsttrekker-christenunie.html\n"
     ]
    },
    {
     "name": "stderr",
     "output_type": "stream",
     "text": [
      "2019-02-22 10:38:46 [urllib3.connectionpool] DEBUG: https://heerenveen.christenunie.nl:443 \"GET /k/n2531/news/view/560240/184837/leijendekker-lijsttrekker-christenunie.html HTTP/1.1\" 200 5943\n"
     ]
    },
    {
     "name": "stdout",
     "output_type": "stream",
     "text": [
      "done scraping: https://heerenveen.christenunie.nl/k/n2531/news/view/560240/184837/leijendekker-lijsttrekker-christenunie.html\n",
      "start scraping: https://heerenveen.christenunie.nl/k/n2531/news/archive/184837/2013/3\n"
     ]
    },
    {
     "name": "stderr",
     "output_type": "stream",
     "text": [
      "2019-02-22 10:38:47 [urllib3.connectionpool] DEBUG: https://heerenveen.christenunie.nl:443 \"GET /k/n2531/news/archive/184837/2013/3 HTTP/1.1\" 200 5056\n"
     ]
    },
    {
     "name": "stdout",
     "output_type": "stream",
     "text": [
      "done scraping: https://heerenveen.christenunie.nl/k/n2531/news/archive/184837/2013/3\n",
      "start scraping: https://heerenveen.christenunie.nl/k/n2531/news/view/552700/184837/fractie-in-actie-op-zorgboerderij-boerenblij.html\n"
     ]
    },
    {
     "name": "stderr",
     "output_type": "stream",
     "text": [
      "2019-02-22 10:38:47 [urllib3.connectionpool] DEBUG: https://heerenveen.christenunie.nl:443 \"GET /k/n2531/news/view/552700/184837/fractie-in-actie-op-zorgboerderij-boerenblij.html HTTP/1.1\" 200 6404\n"
     ]
    },
    {
     "name": "stdout",
     "output_type": "stream",
     "text": [
      "done scraping: https://heerenveen.christenunie.nl/k/n2531/news/view/552700/184837/fractie-in-actie-op-zorgboerderij-boerenblij.html\n",
      "start scraping: https://heerenveen.christenunie.nl/k/n2531/news/view/551475/184837/christenunie-en-cda-komen-op-voor-kleine-scholen.html\n"
     ]
    },
    {
     "name": "stderr",
     "output_type": "stream",
     "text": [
      "2019-02-22 10:38:48 [urllib3.connectionpool] DEBUG: https://heerenveen.christenunie.nl:443 \"GET /k/n2531/news/view/551475/184837/christenunie-en-cda-komen-op-voor-kleine-scholen.html HTTP/1.1\" 200 6322\n"
     ]
    },
    {
     "name": "stdout",
     "output_type": "stream",
     "text": [
      "done scraping: https://heerenveen.christenunie.nl/k/n2531/news/view/551475/184837/christenunie-en-cda-komen-op-voor-kleine-scholen.html\n",
      "start scraping: https://heerenveen.christenunie.nl/k/n2531/news/archive/184837/2013/9\n"
     ]
    },
    {
     "name": "stderr",
     "output_type": "stream",
     "text": [
      "2019-02-22 10:38:48 [urllib3.connectionpool] DEBUG: https://heerenveen.christenunie.nl:443 \"GET /k/n2531/news/archive/184837/2013/9 HTTP/1.1\" 200 5314\n"
     ]
    },
    {
     "name": "stdout",
     "output_type": "stream",
     "text": [
      "done scraping: https://heerenveen.christenunie.nl/k/n2531/news/archive/184837/2013/9\n",
      "start scraping: https://heerenveen.christenunie.nl/k/n2531/news/view/573833/184837/lijsttrekker-christenunie-rennend-door-heerenveense-dorpen.html\n"
     ]
    },
    {
     "name": "stderr",
     "output_type": "stream",
     "text": [
      "2019-02-22 10:38:49 [urllib3.connectionpool] DEBUG: https://heerenveen.christenunie.nl:443 \"GET /k/n2531/news/view/573833/184837/lijsttrekker-christenunie-rennend-door-heerenveense-dorpen.html HTTP/1.1\" 200 6767\n"
     ]
    },
    {
     "name": "stdout",
     "output_type": "stream",
     "text": [
      "done scraping: https://heerenveen.christenunie.nl/k/n2531/news/view/573833/184837/lijsttrekker-christenunie-rennend-door-heerenveense-dorpen.html\n",
      "start scraping: https://heerenveen.christenunie.nl/k/n2531/news/view/572961/184837/lia-de-heij-nummer-2-van-de-kanditatenlijst-stelt-zich-voor.html\n"
     ]
    },
    {
     "name": "stderr",
     "output_type": "stream",
     "text": [
      "2019-02-22 10:38:50 [urllib3.connectionpool] DEBUG: https://heerenveen.christenunie.nl:443 \"GET /k/n2531/news/view/572961/184837/lia-de-heij-nummer-2-van-de-kanditatenlijst-stelt-zich-voor.html HTTP/1.1\" 200 6196\n"
     ]
    },
    {
     "name": "stdout",
     "output_type": "stream",
     "text": [
      "done scraping: https://heerenveen.christenunie.nl/k/n2531/news/view/572961/184837/lia-de-heij-nummer-2-van-de-kanditatenlijst-stelt-zich-voor.html\n",
      "start scraping: https://heerenveen.christenunie.nl/k/n2531/news/view/572064/184837/interview-lijstrekker-aris-leijendekker-met-jongerensite-ondertussen-nl.html\n"
     ]
    },
    {
     "name": "stderr",
     "output_type": "stream",
     "text": [
      "2019-02-22 10:38:52 [urllib3.connectionpool] DEBUG: https://heerenveen.christenunie.nl:443 \"GET /k/n2531/news/view/572064/184837/interview-lijstrekker-aris-leijendekker-met-jongerensite-ondertussen-nl.html HTTP/1.1\" 200 6038\n"
     ]
    },
    {
     "name": "stdout",
     "output_type": "stream",
     "text": [
      "done scraping: https://heerenveen.christenunie.nl/k/n2531/news/view/572064/184837/interview-lijstrekker-aris-leijendekker-met-jongerensite-ondertussen-nl.html\n",
      "start scraping: https://heerenveen.christenunie.nl/k/n2531/news/view/571076/184837/de-kandidatenlijst-voor-de-gemeenteraadsverkiezingen-op-13-november-2013.html\n"
     ]
    },
    {
     "name": "stderr",
     "output_type": "stream",
     "text": [
      "2019-02-22 10:38:52 [urllib3.connectionpool] DEBUG: https://heerenveen.christenunie.nl:443 \"GET /k/n2531/news/view/571076/184837/de-kandidatenlijst-voor-de-gemeenteraadsverkiezingen-op-13-november-2013.html HTTP/1.1\" 200 6374\n"
     ]
    },
    {
     "name": "stdout",
     "output_type": "stream",
     "text": [
      "done scraping: https://heerenveen.christenunie.nl/k/n2531/news/view/571076/184837/de-kandidatenlijst-voor-de-gemeenteraadsverkiezingen-op-13-november-2013.html\n",
      "start scraping: https://heerenveen.christenunie.nl/k/n2531/news/view/570601/184837/zaterdag-14-september-speed-d(eb)ate-met-aris-leijendekker.html\n"
     ]
    },
    {
     "name": "stderr",
     "output_type": "stream",
     "text": [
      "2019-02-22 10:38:55 [urllib3.connectionpool] DEBUG: https://heerenveen.christenunie.nl:443 \"GET /k/n2531/news/view/570601/184837/zaterdag-14-september-speed-d(eb)ate-met-aris-leijendekker.html HTTP/1.1\" 200 5962\n"
     ]
    },
    {
     "name": "stdout",
     "output_type": "stream",
     "text": [
      "done scraping: https://heerenveen.christenunie.nl/k/n2531/news/view/570601/184837/zaterdag-14-september-speed-d(eb)ate-met-aris-leijendekker.html\n",
      "start scraping: https://heerenveen.christenunie.nl/k/n2531/news/archive/184837/2017/2\n"
     ]
    },
    {
     "name": "stderr",
     "output_type": "stream",
     "text": [
      "2019-02-22 10:38:55 [urllib3.connectionpool] DEBUG: https://heerenveen.christenunie.nl:443 \"GET /k/n2531/news/archive/184837/2017/2 HTTP/1.1\" 200 4994\n"
     ]
    },
    {
     "name": "stdout",
     "output_type": "stream",
     "text": [
      "done scraping: https://heerenveen.christenunie.nl/k/n2531/news/archive/184837/2017/2\n",
      "start scraping: https://heerenveen.christenunie.nl/k/n2531/news/view/1089391/184837/laat-weten-wat-jouw-school-bijzonder-maakt.html\n"
     ]
    },
    {
     "name": "stderr",
     "output_type": "stream",
     "text": [
      "2019-02-22 10:38:56 [urllib3.connectionpool] DEBUG: https://heerenveen.christenunie.nl:443 \"GET /k/n2531/news/view/1089391/184837/laat-weten-wat-jouw-school-bijzonder-maakt.html HTTP/1.1\" 200 5689\n"
     ]
    },
    {
     "name": "stdout",
     "output_type": "stream",
     "text": [
      "done scraping: https://heerenveen.christenunie.nl/k/n2531/news/view/1089391/184837/laat-weten-wat-jouw-school-bijzonder-maakt.html\n",
      "start scraping: https://heerenveen.christenunie.nl/k/n2531/news/archive/184837/2013/8\n"
     ]
    },
    {
     "name": "stderr",
     "output_type": "stream",
     "text": [
      "2019-02-22 10:38:56 [urllib3.connectionpool] DEBUG: https://heerenveen.christenunie.nl:443 \"GET /k/n2531/news/archive/184837/2013/8 HTTP/1.1\" 200 4965\n"
     ]
    },
    {
     "name": "stdout",
     "output_type": "stream",
     "text": [
      "done scraping: https://heerenveen.christenunie.nl/k/n2531/news/archive/184837/2013/8\n",
      "start scraping: https://heerenveen.christenunie.nl/k/n2531/news/view/566740/184837/het-is-bijna-zover.html\n"
     ]
    },
    {
     "name": "stderr",
     "output_type": "stream",
     "text": [
      "2019-02-22 10:38:57 [urllib3.connectionpool] DEBUG: https://heerenveen.christenunie.nl:443 \"GET /k/n2531/news/view/566740/184837/het-is-bijna-zover.html HTTP/1.1\" 200 5843\n"
     ]
    },
    {
     "name": "stdout",
     "output_type": "stream",
     "text": [
      "done scraping: https://heerenveen.christenunie.nl/k/n2531/news/view/566740/184837/het-is-bijna-zover.html\n",
      "start scraping: https://heerenveen.christenunie.nl/k/n2531/news/archive/184837/2013/2\n"
     ]
    },
    {
     "name": "stderr",
     "output_type": "stream",
     "text": [
      "2019-02-22 10:38:58 [urllib3.connectionpool] DEBUG: https://heerenveen.christenunie.nl:443 \"GET /k/n2531/news/archive/184837/2013/2 HTTP/1.1\" 200 4993\n"
     ]
    },
    {
     "name": "stdout",
     "output_type": "stream",
     "text": [
      "done scraping: https://heerenveen.christenunie.nl/k/n2531/news/archive/184837/2013/2\n",
      "start scraping: https://heerenveen.christenunie.nl/k/n2531/news/view/549952/184837/plaatselijk-belangen-wijkraden-en-eigen-initiatieven.html\n"
     ]
    },
    {
     "name": "stderr",
     "output_type": "stream",
     "text": [
      "2019-02-22 10:38:58 [urllib3.connectionpool] DEBUG: https://heerenveen.christenunie.nl:443 \"GET /k/n2531/news/view/549952/184837/plaatselijk-belangen-wijkraden-en-eigen-initiatieven.html HTTP/1.1\" 200 6015\n"
     ]
    },
    {
     "name": "stdout",
     "output_type": "stream",
     "text": [
      "done scraping: https://heerenveen.christenunie.nl/k/n2531/news/view/549952/184837/plaatselijk-belangen-wijkraden-en-eigen-initiatieven.html\n",
      "start scraping: https://heerenveen.christenunie.nl/k/n2531/news/archive/43700/2012/4\n"
     ]
    },
    {
     "name": "stderr",
     "output_type": "stream",
     "text": [
      "2019-02-22 10:38:59 [urllib3.connectionpool] DEBUG: https://heerenveen.christenunie.nl:443 \"GET /k/n2531/news/archive/43700/2012/4 HTTP/1.1\" 200 5001\n"
     ]
    },
    {
     "name": "stdout",
     "output_type": "stream",
     "text": [
      "done scraping: https://heerenveen.christenunie.nl/k/n2531/news/archive/43700/2012/4\n",
      "start scraping: https://heerenveen.christenunie.nl/k/n2531/news/view/527365/43700/(steun)fractie-en-bestuur-bereiden-zich-voor-op-gemeenteraadsverkiezingen-2013.html\n"
     ]
    },
    {
     "name": "stderr",
     "output_type": "stream",
     "text": [
      "2019-02-22 10:38:59 [urllib3.connectionpool] DEBUG: https://heerenveen.christenunie.nl:443 \"GET /k/n2531/news/view/527365/43700/(steun)fractie-en-bestuur-bereiden-zich-voor-op-gemeenteraadsverkiezingen-2013.html HTTP/1.1\" 200 6000\n"
     ]
    },
    {
     "name": "stdout",
     "output_type": "stream",
     "text": [
      "done scraping: https://heerenveen.christenunie.nl/k/n2531/news/view/527365/43700/(steun)fractie-en-bestuur-bereiden-zich-voor-op-gemeenteraadsverkiezingen-2013.html\n",
      "start scraping: https://heerenveen.christenunie.nl/k/n2531/news/view/577728/184837/campagnevoeren-met-snelheid.html\n"
     ]
    },
    {
     "name": "stderr",
     "output_type": "stream",
     "text": [
      "2019-02-22 10:39:00 [urllib3.connectionpool] DEBUG: https://heerenveen.christenunie.nl:443 \"GET /k/n2531/news/view/577728/184837/campagnevoeren-met-snelheid.html HTTP/1.1\" 200 6851\n"
     ]
    },
    {
     "name": "stdout",
     "output_type": "stream",
     "text": [
      "done scraping: https://heerenveen.christenunie.nl/k/n2531/news/view/577728/184837/campagnevoeren-met-snelheid.html\n",
      "start scraping: https://heerenveen.christenunie.nl/k/n2531/news/view/577173/184837/joukje-akkerman-de-jong-stelt-zich-voor.html\n"
     ]
    },
    {
     "name": "stderr",
     "output_type": "stream",
     "text": [
      "2019-02-22 10:39:01 [urllib3.connectionpool] DEBUG: https://heerenveen.christenunie.nl:443 \"GET /k/n2531/news/view/577173/184837/joukje-akkerman-de-jong-stelt-zich-voor.html HTTP/1.1\" 200 6290\n"
     ]
    },
    {
     "name": "stdout",
     "output_type": "stream",
     "text": [
      "done scraping: https://heerenveen.christenunie.nl/k/n2531/news/view/577173/184837/joukje-akkerman-de-jong-stelt-zich-voor.html\n",
      "start scraping: https://heerenveen.christenunie.nl/k/n2531/news/view/576622/184837/bijzonder-goede-inzet-van-vrijwilligers-in-de-dorpen-valt-op-bij-de-derde-loop.html\n"
     ]
    },
    {
     "name": "stderr",
     "output_type": "stream",
     "text": [
      "2019-02-22 10:39:03 [urllib3.connectionpool] DEBUG: https://heerenveen.christenunie.nl:443 \"GET /k/n2531/news/view/576622/184837/bijzonder-goede-inzet-van-vrijwilligers-in-de-dorpen-valt-op-bij-de-derde-loop.html HTTP/1.1\" 200 6141\n"
     ]
    },
    {
     "name": "stdout",
     "output_type": "stream",
     "text": [
      "done scraping: https://heerenveen.christenunie.nl/k/n2531/news/view/576622/184837/bijzonder-goede-inzet-van-vrijwilligers-in-de-dorpen-valt-op-bij-de-derde-loop.html\n",
      "start scraping: https://heerenveen.christenunie.nl/k/n2531/news/view/574865/184837/start-campagne-christenunie-heerenveen.html\n"
     ]
    },
    {
     "name": "stderr",
     "output_type": "stream",
     "text": [
      "2019-02-22 10:39:03 [urllib3.connectionpool] DEBUG: https://heerenveen.christenunie.nl:443 \"GET /k/n2531/news/view/574865/184837/start-campagne-christenunie-heerenveen.html HTTP/1.1\" 200 6110\n"
     ]
    },
    {
     "name": "stdout",
     "output_type": "stream",
     "text": [
      "done scraping: https://heerenveen.christenunie.nl/k/n2531/news/view/574865/184837/start-campagne-christenunie-heerenveen.html\n",
      "start scraping: https://heerenveen.christenunie.nl/k/n2531/news/view/574156/184837/nummer-3-van-de-kandidatenlijst-klaas-pieter-derks-stelt-zich-voor.html\n"
     ]
    },
    {
     "name": "stderr",
     "output_type": "stream",
     "text": [
      "2019-02-22 10:39:04 [urllib3.connectionpool] DEBUG: https://heerenveen.christenunie.nl:443 \"GET /k/n2531/news/view/574156/184837/nummer-3-van-de-kandidatenlijst-klaas-pieter-derks-stelt-zich-voor.html HTTP/1.1\" 200 6472\n"
     ]
    },
    {
     "name": "stdout",
     "output_type": "stream",
     "text": [
      "done scraping: https://heerenveen.christenunie.nl/k/n2531/news/view/574156/184837/nummer-3-van-de-kandidatenlijst-klaas-pieter-derks-stelt-zich-voor.html\n",
      "start scraping: https://heerenveen.christenunie.nl/k/n2531/news/view/586306/184837/christenunie-behoudt-2-zetels.html\n"
     ]
    },
    {
     "name": "stderr",
     "output_type": "stream",
     "text": [
      "2019-02-22 10:39:05 [urllib3.connectionpool] DEBUG: https://heerenveen.christenunie.nl:443 \"GET /k/n2531/news/view/586306/184837/christenunie-behoudt-2-zetels.html HTTP/1.1\" 200 6215\n"
     ]
    },
    {
     "name": "stdout",
     "output_type": "stream",
     "text": [
      "done scraping: https://heerenveen.christenunie.nl/k/n2531/news/view/586306/184837/christenunie-behoudt-2-zetels.html\n",
      "start scraping: https://heerenveen.christenunie.nl/k/n2531/news/view/585220/184837/lijsttrekker-christenunie-sluit-dorpenmarathon-af-in-heerenveen.html\n"
     ]
    },
    {
     "name": "stderr",
     "output_type": "stream",
     "text": [
      "2019-02-22 10:39:05 [urllib3.connectionpool] DEBUG: https://heerenveen.christenunie.nl:443 \"GET /k/n2531/news/view/585220/184837/lijsttrekker-christenunie-sluit-dorpenmarathon-af-in-heerenveen.html HTTP/1.1\" 200 6656\n"
     ]
    },
    {
     "name": "stdout",
     "output_type": "stream",
     "text": [
      "done scraping: https://heerenveen.christenunie.nl/k/n2531/news/view/585220/184837/lijsttrekker-christenunie-sluit-dorpenmarathon-af-in-heerenveen.html\n",
      "start scraping: https://heerenveen.christenunie.nl/k/n2531/news/view/579897/184837/christenunie-wil-prostitutiebeleid-op-de-agenda.html\n"
     ]
    },
    {
     "name": "stderr",
     "output_type": "stream",
     "text": [
      "2019-02-22 10:39:06 [urllib3.connectionpool] DEBUG: https://heerenveen.christenunie.nl:443 \"GET /k/n2531/news/view/579897/184837/christenunie-wil-prostitutiebeleid-op-de-agenda.html HTTP/1.1\" 200 6800\n"
     ]
    },
    {
     "name": "stdout",
     "output_type": "stream",
     "text": [
      "done scraping: https://heerenveen.christenunie.nl/k/n2531/news/view/579897/184837/christenunie-wil-prostitutiebeleid-op-de-agenda.html\n",
      "start scraping: https://heerenveen.christenunie.nl/k/n2531/news/archive/184837/2012/1\n"
     ]
    },
    {
     "name": "stderr",
     "output_type": "stream",
     "text": [
      "2019-02-22 10:39:07 [urllib3.connectionpool] DEBUG: https://heerenveen.christenunie.nl:443 \"GET /k/n2531/news/archive/184837/2012/1 HTTP/1.1\" 200 4989\n"
     ]
    },
    {
     "name": "stdout",
     "output_type": "stream",
     "text": [
      "done scraping: https://heerenveen.christenunie.nl/k/n2531/news/archive/184837/2012/1\n",
      "start scraping: https://heerenveen.christenunie.nl/k/n2531/news/view/503553/184837/kennismaking-met-zorgboerderij-boerenblij.html\n"
     ]
    },
    {
     "name": "stderr",
     "output_type": "stream",
     "text": [
      "2019-02-22 10:39:09 [urllib3.connectionpool] DEBUG: https://heerenveen.christenunie.nl:443 \"GET /k/n2531/news/view/503553/184837/kennismaking-met-zorgboerderij-boerenblij.html HTTP/1.1\" 200 6346\n",
      "2019-02-22 10:39:09 [urllib3.connectionpool] DEBUG: Resetting dropped connection: heerenveen.christenunie.nl\n"
     ]
    },
    {
     "name": "stdout",
     "output_type": "stream",
     "text": [
      "done scraping: https://heerenveen.christenunie.nl/k/n2531/news/view/503553/184837/kennismaking-met-zorgboerderij-boerenblij.html\n",
      "start scraping: https://heerenveen.christenunie.nl/k/n2531/news/archive/184837/2012/3\n"
     ]
    },
    {
     "name": "stderr",
     "output_type": "stream",
     "text": [
      "2019-02-22 10:39:09 [urllib3.connectionpool] DEBUG: https://heerenveen.christenunie.nl:443 \"GET /k/n2531/news/archive/184837/2012/3 HTTP/1.1\" 200 4995\n"
     ]
    },
    {
     "name": "stdout",
     "output_type": "stream",
     "text": [
      "done scraping: https://heerenveen.christenunie.nl/k/n2531/news/archive/184837/2012/3\n",
      "start scraping: https://heerenveen.christenunie.nl/k/n2531/news/view/509019/184837/vernieuwbouw-thialf-een-innovatief-en-uitdagend-plan.html\n"
     ]
    },
    {
     "name": "stderr",
     "output_type": "stream",
     "text": [
      "2019-02-22 10:39:10 [urllib3.connectionpool] DEBUG: https://heerenveen.christenunie.nl:443 \"GET /k/n2531/news/view/509019/184837/vernieuwbouw-thialf-een-innovatief-en-uitdagend-plan.html HTTP/1.1\" 200 6725\n"
     ]
    },
    {
     "name": "stdout",
     "output_type": "stream",
     "text": [
      "done scraping: https://heerenveen.christenunie.nl/k/n2531/news/view/509019/184837/vernieuwbouw-thialf-een-innovatief-en-uitdagend-plan.html\n",
      "start scraping: https://heerenveen.christenunie.nl/k/n2531/news/archive/43700/2011/1\n"
     ]
    },
    {
     "name": "stderr",
     "output_type": "stream",
     "text": [
      "2019-02-22 10:39:11 [urllib3.connectionpool] DEBUG: https://heerenveen.christenunie.nl:443 \"GET /k/n2531/news/archive/43700/2011/1 HTTP/1.1\" 200 5038\n"
     ]
    },
    {
     "name": "stdout",
     "output_type": "stream",
     "text": [
      "done scraping: https://heerenveen.christenunie.nl/k/n2531/news/archive/43700/2011/1\n",
      "start scraping: https://heerenveen.christenunie.nl/k/n2531/news/view/466709/43700/pre-mediation-in-gemeente-heerenveen-voor-betere-dienstverlening.html\n"
     ]
    },
    {
     "name": "stderr",
     "output_type": "stream",
     "text": [
      "2019-02-22 10:39:12 [urllib3.connectionpool] DEBUG: https://heerenveen.christenunie.nl:443 \"GET /k/n2531/news/view/466709/43700/pre-mediation-in-gemeente-heerenveen-voor-betere-dienstverlening.html HTTP/1.1\" 200 6294\n"
     ]
    },
    {
     "name": "stdout",
     "output_type": "stream",
     "text": [
      "done scraping: https://heerenveen.christenunie.nl/k/n2531/news/view/466709/43700/pre-mediation-in-gemeente-heerenveen-voor-betere-dienstverlening.html\n",
      "start scraping: https://heerenveen.christenunie.nl/k/n2531/news/view/464609/43700/ziektevervanging.html\n"
     ]
    },
    {
     "name": "stderr",
     "output_type": "stream",
     "text": [
      "2019-02-22 10:39:12 [urllib3.connectionpool] DEBUG: https://heerenveen.christenunie.nl:443 \"GET /k/n2531/news/view/464609/43700/ziektevervanging.html HTTP/1.1\" 200 6176\n"
     ]
    },
    {
     "name": "stdout",
     "output_type": "stream",
     "text": [
      "done scraping: https://heerenveen.christenunie.nl/k/n2531/news/view/464609/43700/ziektevervanging.html\n",
      "start scraping: https://heerenveen.christenunie.nl/k/n2531/news/archive/184837/2012/2\n"
     ]
    },
    {
     "name": "stderr",
     "output_type": "stream",
     "text": [
      "2019-02-22 10:39:13 [urllib3.connectionpool] DEBUG: https://heerenveen.christenunie.nl:443 \"GET /k/n2531/news/archive/184837/2012/2 HTTP/1.1\" 200 5060\n"
     ]
    },
    {
     "name": "stdout",
     "output_type": "stream",
     "text": [
      "done scraping: https://heerenveen.christenunie.nl/k/n2531/news/archive/184837/2012/2\n",
      "start scraping: https://heerenveen.christenunie.nl/k/n2531/news/view/506840/184837/provinciale-unie-op-bezoek-bij-het-bestuur-in-heerenveen.html\n"
     ]
    },
    {
     "name": "stderr",
     "output_type": "stream",
     "text": [
      "2019-02-22 10:39:14 [urllib3.connectionpool] DEBUG: https://heerenveen.christenunie.nl:443 \"GET /k/n2531/news/view/506840/184837/provinciale-unie-op-bezoek-bij-het-bestuur-in-heerenveen.html HTTP/1.1\" 200 5866\n"
     ]
    },
    {
     "name": "stdout",
     "output_type": "stream",
     "text": [
      "done scraping: https://heerenveen.christenunie.nl/k/n2531/news/view/506840/184837/provinciale-unie-op-bezoek-bij-het-bestuur-in-heerenveen.html\n",
      "start scraping: https://heerenveen.christenunie.nl/k/n2531/news/view/504357/184837/tryntsje-dijkstra-terug-in-de-raad.html\n"
     ]
    },
    {
     "name": "stderr",
     "output_type": "stream",
     "text": [
      "2019-02-22 10:39:15 [urllib3.connectionpool] DEBUG: https://heerenveen.christenunie.nl:443 \"GET /k/n2531/news/view/504357/184837/tryntsje-dijkstra-terug-in-de-raad.html HTTP/1.1\" 200 6006\n"
     ]
    },
    {
     "name": "stdout",
     "output_type": "stream",
     "text": [
      "done scraping: https://heerenveen.christenunie.nl/k/n2531/news/view/504357/184837/tryntsje-dijkstra-terug-in-de-raad.html\n",
      "start scraping: https://heerenveen.christenunie.nl/k/n2531/news/archive/184837/2012/4\n"
     ]
    },
    {
     "name": "stderr",
     "output_type": "stream",
     "text": [
      "2019-02-22 10:39:16 [urllib3.connectionpool] DEBUG: https://heerenveen.christenunie.nl:443 \"GET /k/n2531/news/archive/184837/2012/4 HTTP/1.1\" 200 5010\n"
     ]
    },
    {
     "name": "stdout",
     "output_type": "stream",
     "text": [
      "done scraping: https://heerenveen.christenunie.nl/k/n2531/news/archive/184837/2012/4\n",
      "start scraping: https://heerenveen.christenunie.nl/k/n2531/news/view/527365/184837/(steun)fractie-en-bestuur-bereiden-zich-voor-op-gemeenteraadsverkiezingen-2013.html\n"
     ]
    },
    {
     "name": "stderr",
     "output_type": "stream",
     "text": [
      "2019-02-22 10:39:17 [urllib3.connectionpool] DEBUG: https://heerenveen.christenunie.nl:443 \"GET /k/n2531/news/view/527365/184837/(steun)fractie-en-bestuur-bereiden-zich-voor-op-gemeenteraadsverkiezingen-2013.html HTTP/1.1\" 200 6009\n"
     ]
    },
    {
     "name": "stdout",
     "output_type": "stream",
     "text": [
      "done scraping: https://heerenveen.christenunie.nl/k/n2531/news/view/527365/184837/(steun)fractie-en-bestuur-bereiden-zich-voor-op-gemeenteraadsverkiezingen-2013.html\n",
      "start scraping: https://heerenveen.christenunie.nl/k/n2531/news/archive/184837/2012/6\n"
     ]
    },
    {
     "name": "stderr",
     "output_type": "stream",
     "text": [
      "2019-02-22 10:39:17 [urllib3.connectionpool] DEBUG: https://heerenveen.christenunie.nl:443 \"GET /k/n2531/news/archive/184837/2012/6 HTTP/1.1\" 200 4983\n"
     ]
    },
    {
     "name": "stdout",
     "output_type": "stream",
     "text": [
      "done scraping: https://heerenveen.christenunie.nl/k/n2531/news/archive/184837/2012/6\n",
      "start scraping: https://heerenveen.christenunie.nl/k/n2531/news/view/527653/184837/verantwoordings-perspectiefnota-2012.html\n"
     ]
    },
    {
     "name": "stderr",
     "output_type": "stream",
     "text": [
      "2019-02-22 10:39:18 [urllib3.connectionpool] DEBUG: https://heerenveen.christenunie.nl:443 \"GET /k/n2531/news/view/527653/184837/verantwoordings-perspectiefnota-2012.html HTTP/1.1\" 200 5558\n"
     ]
    },
    {
     "name": "stdout",
     "output_type": "stream",
     "text": [
      "done scraping: https://heerenveen.christenunie.nl/k/n2531/news/view/527653/184837/verantwoordings-perspectiefnota-2012.html\n",
      "start scraping: https://heerenveen.christenunie.nl/k/n2531/news/archive/43700/2012/6\n"
     ]
    },
    {
     "name": "stderr",
     "output_type": "stream",
     "text": [
      "2019-02-22 10:39:19 [urllib3.connectionpool] DEBUG: https://heerenveen.christenunie.nl:443 \"GET /k/n2531/news/archive/43700/2012/6 HTTP/1.1\" 200 4984\n"
     ]
    },
    {
     "name": "stdout",
     "output_type": "stream",
     "text": [
      "done scraping: https://heerenveen.christenunie.nl/k/n2531/news/archive/43700/2012/6\n",
      "start scraping: https://heerenveen.christenunie.nl/k/n2531/news/view/527653/43700/verantwoordings-perspectiefnota-2012.html\n"
     ]
    },
    {
     "name": "stderr",
     "output_type": "stream",
     "text": [
      "2019-02-22 10:39:21 [urllib3.connectionpool] DEBUG: https://heerenveen.christenunie.nl:443 \"GET /k/n2531/news/view/527653/43700/verantwoordings-perspectiefnota-2012.html HTTP/1.1\" 200 5548\n"
     ]
    },
    {
     "name": "stdout",
     "output_type": "stream",
     "text": [
      "done scraping: https://heerenveen.christenunie.nl/k/n2531/news/view/527653/43700/verantwoordings-perspectiefnota-2012.html\n",
      "start scraping: https://heerenveen.christenunie.nl/k/n2531/news/view/498825/43700/verslag-van-de-jaarlijkse-ledenvergadering.html\n"
     ]
    },
    {
     "name": "stderr",
     "output_type": "stream",
     "text": [
      "2019-02-22 10:39:22 [urllib3.connectionpool] DEBUG: https://heerenveen.christenunie.nl:443 \"GET /k/n2531/news/view/498825/43700/verslag-van-de-jaarlijkse-ledenvergadering.html HTTP/1.1\" 200 6787\n"
     ]
    },
    {
     "name": "stdout",
     "output_type": "stream",
     "text": [
      "done scraping: https://heerenveen.christenunie.nl/k/n2531/news/view/498825/43700/verslag-van-de-jaarlijkse-ledenvergadering.html\n",
      "start scraping: https://heerenveen.christenunie.nl/k/n2531/news/archive/43700/2011/9\n"
     ]
    },
    {
     "name": "stderr",
     "output_type": "stream",
     "text": [
      "2019-02-22 10:39:23 [urllib3.connectionpool] DEBUG: https://heerenveen.christenunie.nl:443 \"GET /k/n2531/news/archive/43700/2011/9 HTTP/1.1\" 200 4980\n"
     ]
    },
    {
     "name": "stdout",
     "output_type": "stream",
     "text": [
      "done scraping: https://heerenveen.christenunie.nl/k/n2531/news/archive/43700/2011/9\n",
      "start scraping: https://heerenveen.christenunie.nl/k/n2531/news/view/493749/43700/christenunie-heerenveen-start-nieuw-politiek-seizoen.html\n"
     ]
    },
    {
     "name": "stderr",
     "output_type": "stream",
     "text": [
      "2019-02-22 10:39:24 [urllib3.connectionpool] DEBUG: https://heerenveen.christenunie.nl:443 \"GET /k/n2531/news/view/493749/43700/christenunie-heerenveen-start-nieuw-politiek-seizoen.html HTTP/1.1\" 200 5760\n"
     ]
    },
    {
     "name": "stdout",
     "output_type": "stream",
     "text": [
      "done scraping: https://heerenveen.christenunie.nl/k/n2531/news/view/493749/43700/christenunie-heerenveen-start-nieuw-politiek-seizoen.html\n",
      "start scraping: https://heerenveen.christenunie.nl/k/n2531/news/view/493622/43700/belevenissen-als-tijdelijk-raadslid-van-lia-de-heij.html\n"
     ]
    },
    {
     "name": "stderr",
     "output_type": "stream",
     "text": [
      "2019-02-22 10:39:24 [urllib3.connectionpool] DEBUG: https://heerenveen.christenunie.nl:443 \"GET /k/n2531/news/view/493622/43700/belevenissen-als-tijdelijk-raadslid-van-lia-de-heij.html HTTP/1.1\" 200 7160\n"
     ]
    },
    {
     "name": "stdout",
     "output_type": "stream",
     "text": [
      "done scraping: https://heerenveen.christenunie.nl/k/n2531/news/view/493622/43700/belevenissen-als-tijdelijk-raadslid-van-lia-de-heij.html\n",
      "start scraping: https://heerenveen.christenunie.nl/k/n2531/news/archive/43700/2009/5\n"
     ]
    },
    {
     "name": "stderr",
     "output_type": "stream",
     "text": [
      "2019-02-22 10:39:25 [urllib3.connectionpool] DEBUG: https://heerenveen.christenunie.nl:443 \"GET /k/n2531/news/archive/43700/2009/5 HTTP/1.1\" 200 4972\n"
     ]
    },
    {
     "name": "stdout",
     "output_type": "stream",
     "text": [
      "done scraping: https://heerenveen.christenunie.nl/k/n2531/news/archive/43700/2009/5\n",
      "start scraping: https://heerenveen.christenunie.nl/k/n2531/news/view/347655/43700/van-europa-naar-friesland.html\n"
     ]
    },
    {
     "name": "stderr",
     "output_type": "stream",
     "text": [
      "2019-02-22 10:39:25 [urllib3.connectionpool] DEBUG: https://heerenveen.christenunie.nl:443 \"GET /k/n2531/news/view/347655/43700/van-europa-naar-friesland.html HTTP/1.1\" 200 6090\n"
     ]
    },
    {
     "name": "stdout",
     "output_type": "stream",
     "text": [
      "done scraping: https://heerenveen.christenunie.nl/k/n2531/news/view/347655/43700/van-europa-naar-friesland.html\n",
      "start scraping: https://heerenveen.christenunie.nl/k/n2531/news/view/498974/43700/betoog-bestuursrapportage-2011-en-themabegroting-2012.html\n"
     ]
    },
    {
     "name": "stderr",
     "output_type": "stream",
     "text": [
      "2019-02-22 10:39:26 [urllib3.connectionpool] DEBUG: https://heerenveen.christenunie.nl:443 \"GET /k/n2531/news/view/498974/43700/betoog-bestuursrapportage-2011-en-themabegroting-2012.html HTTP/1.1\" 200 8954\n"
     ]
    },
    {
     "name": "stdout",
     "output_type": "stream",
     "text": [
      "done scraping: https://heerenveen.christenunie.nl/k/n2531/news/view/498974/43700/betoog-bestuursrapportage-2011-en-themabegroting-2012.html\n",
      "start scraping: https://heerenveen.christenunie.nl/k/n2531/news/archive/43700/2009/3\n"
     ]
    },
    {
     "name": "stderr",
     "output_type": "stream",
     "text": [
      "2019-02-22 10:39:28 [urllib3.connectionpool] DEBUG: https://heerenveen.christenunie.nl:443 \"GET /k/n2531/news/archive/43700/2009/3 HTTP/1.1\" 200 4969\n"
     ]
    },
    {
     "name": "stdout",
     "output_type": "stream",
     "text": [
      "done scraping: https://heerenveen.christenunie.nl/k/n2531/news/archive/43700/2009/3\n",
      "start scraping: https://heerenveen.christenunie.nl/k/n2531/news/view/340709/43700/stichting-present-heerenveen.html\n"
     ]
    },
    {
     "name": "stderr",
     "output_type": "stream",
     "text": [
      "2019-02-22 10:39:29 [urllib3.connectionpool] DEBUG: https://heerenveen.christenunie.nl:443 \"GET /k/n2531/news/view/340709/43700/stichting-present-heerenveen.html HTTP/1.1\" 200 5885\n"
     ]
    },
    {
     "name": "stdout",
     "output_type": "stream",
     "text": [
      "done scraping: https://heerenveen.christenunie.nl/k/n2531/news/view/340709/43700/stichting-present-heerenveen.html\n",
      "start scraping: https://heerenveen.christenunie.nl/k/n2531/news/archive/43700/2009/4\n"
     ]
    },
    {
     "name": "stderr",
     "output_type": "stream",
     "text": [
      "2019-02-22 10:39:30 [urllib3.connectionpool] DEBUG: https://heerenveen.christenunie.nl:443 \"GET /k/n2531/news/archive/43700/2009/4 HTTP/1.1\" 200 5028\n"
     ]
    },
    {
     "name": "stdout",
     "output_type": "stream",
     "text": [
      "done scraping: https://heerenveen.christenunie.nl/k/n2531/news/archive/43700/2009/4\n",
      "start scraping: https://heerenveen.christenunie.nl/k/n2531/news/view/347048/43700/christenunie-gaat-voor-tweedehands.html\n"
     ]
    },
    {
     "name": "stderr",
     "output_type": "stream",
     "text": [
      "2019-02-22 10:39:33 [urllib3.connectionpool] DEBUG: https://heerenveen.christenunie.nl:443 \"GET /k/n2531/news/view/347048/43700/christenunie-gaat-voor-tweedehands.html HTTP/1.1\" 200 5993\n"
     ]
    },
    {
     "name": "stdout",
     "output_type": "stream",
     "text": [
      "done scraping: https://heerenveen.christenunie.nl/k/n2531/news/view/347048/43700/christenunie-gaat-voor-tweedehands.html\n",
      "start scraping: https://heerenveen.christenunie.nl/k/n2531/news/view/346614/43700/centrum-jeugd-en-gezin-heerenveen.html\n"
     ]
    },
    {
     "name": "stderr",
     "output_type": "stream",
     "text": [
      "2019-02-22 10:39:34 [urllib3.connectionpool] DEBUG: https://heerenveen.christenunie.nl:443 \"GET /k/n2531/news/view/346614/43700/centrum-jeugd-en-gezin-heerenveen.html HTTP/1.1\" 200 6173\n"
     ]
    },
    {
     "name": "stdout",
     "output_type": "stream",
     "text": [
      "done scraping: https://heerenveen.christenunie.nl/k/n2531/news/view/346614/43700/centrum-jeugd-en-gezin-heerenveen.html\n",
      "start scraping: https://heerenveen.christenunie.nl/k/n2531/news/archive/43700/2009/6\n"
     ]
    },
    {
     "name": "stderr",
     "output_type": "stream",
     "text": [
      "2019-02-22 10:39:35 [urllib3.connectionpool] DEBUG: https://heerenveen.christenunie.nl:443 \"GET /k/n2531/news/archive/43700/2009/6 HTTP/1.1\" 200 4954\n"
     ]
    },
    {
     "name": "stdout",
     "output_type": "stream",
     "text": [
      "done scraping: https://heerenveen.christenunie.nl/k/n2531/news/archive/43700/2009/6\n",
      "start scraping: https://heerenveen.christenunie.nl/k/n2531/news/view/354449/43700/nieuws-cu-heerenveen.html\n"
     ]
    },
    {
     "name": "stderr",
     "output_type": "stream",
     "text": [
      "2019-02-22 10:39:36 [urllib3.connectionpool] DEBUG: https://heerenveen.christenunie.nl:443 \"GET /k/n2531/news/view/354449/43700/nieuws-cu-heerenveen.html HTTP/1.1\" 200 8271\n"
     ]
    },
    {
     "name": "stdout",
     "output_type": "stream",
     "text": [
      "done scraping: https://heerenveen.christenunie.nl/k/n2531/news/view/354449/43700/nieuws-cu-heerenveen.html\n",
      "start scraping: https://heerenveen.christenunie.nl/k/n2531/news/view/457328/43700/een-kat-in-het-nauw-maakt-rare-sprongen.html\n"
     ]
    },
    {
     "name": "stderr",
     "output_type": "stream",
     "text": [
      "2019-02-22 10:39:37 [urllib3.connectionpool] DEBUG: https://heerenveen.christenunie.nl:443 \"GET /k/n2531/news/view/457328/43700/een-kat-in-het-nauw-maakt-rare-sprongen.html HTTP/1.1\" 200 5660\n"
     ]
    },
    {
     "name": "stdout",
     "output_type": "stream",
     "text": [
      "done scraping: https://heerenveen.christenunie.nl/k/n2531/news/view/457328/43700/een-kat-in-het-nauw-maakt-rare-sprongen.html\n",
      "start scraping: https://heerenveen.christenunie.nl/k/n2531/news/archive/43700/2010/1\n"
     ]
    },
    {
     "name": "stderr",
     "output_type": "stream",
     "text": [
      "2019-02-22 10:39:38 [urllib3.connectionpool] DEBUG: https://heerenveen.christenunie.nl:443 \"GET /k/n2531/news/archive/43700/2010/1 HTTP/1.1\" 200 5157\n"
     ]
    },
    {
     "name": "stdout",
     "output_type": "stream",
     "text": [
      "done scraping: https://heerenveen.christenunie.nl/k/n2531/news/archive/43700/2010/1\n",
      "start scraping: https://heerenveen.christenunie.nl/k/n2531/news/view/403979/43700/werkbezoek-stichting-mee.html\n"
     ]
    },
    {
     "name": "stderr",
     "output_type": "stream",
     "text": [
      "2019-02-22 10:39:38 [urllib3.connectionpool] DEBUG: https://heerenveen.christenunie.nl:443 \"GET /k/n2531/news/view/403979/43700/werkbezoek-stichting-mee.html HTTP/1.1\" 200 6342\n"
     ]
    },
    {
     "name": "stdout",
     "output_type": "stream",
     "text": [
      "done scraping: https://heerenveen.christenunie.nl/k/n2531/news/view/403979/43700/werkbezoek-stichting-mee.html\n",
      "start scraping: https://heerenveen.christenunie.nl/k/n2531/news/view/400828/43700/wat-houdt-de-meeste-mensen-in-heerenveen-bezig.html\n"
     ]
    },
    {
     "name": "stderr",
     "output_type": "stream",
     "text": [
      "2019-02-22 10:39:39 [urllib3.connectionpool] DEBUG: https://heerenveen.christenunie.nl:443 \"GET /k/n2531/news/view/400828/43700/wat-houdt-de-meeste-mensen-in-heerenveen-bezig.html HTTP/1.1\" 200 6246\n"
     ]
    },
    {
     "name": "stdout",
     "output_type": "stream",
     "text": [
      "done scraping: https://heerenveen.christenunie.nl/k/n2531/news/view/400828/43700/wat-houdt-de-meeste-mensen-in-heerenveen-bezig.html\n",
      "start scraping: https://heerenveen.christenunie.nl/k/n2531/news/view/400820/43700/geld-oppotten-en-omtinkers-aanstellen.html\n"
     ]
    },
    {
     "name": "stderr",
     "output_type": "stream",
     "text": [
      "2019-02-22 10:39:40 [urllib3.connectionpool] DEBUG: https://heerenveen.christenunie.nl:443 \"GET /k/n2531/news/view/400820/43700/geld-oppotten-en-omtinkers-aanstellen.html HTTP/1.1\" 200 6406\n"
     ]
    },
    {
     "name": "stdout",
     "output_type": "stream",
     "text": [
      "done scraping: https://heerenveen.christenunie.nl/k/n2531/news/view/400820/43700/geld-oppotten-en-omtinkers-aanstellen.html\n",
      "start scraping: https://heerenveen.christenunie.nl/k/n2531/news/view/399092/43700/grondaankoop-tjalleberter-krite-dure-misser.html\n"
     ]
    },
    {
     "name": "stderr",
     "output_type": "stream",
     "text": [
      "2019-02-22 10:39:40 [urllib3.connectionpool] DEBUG: https://heerenveen.christenunie.nl:443 \"GET /k/n2531/news/view/399092/43700/grondaankoop-tjalleberter-krite-dure-misser.html HTTP/1.1\" 200 6339\n"
     ]
    },
    {
     "name": "stdout",
     "output_type": "stream",
     "text": [
      "done scraping: https://heerenveen.christenunie.nl/k/n2531/news/view/399092/43700/grondaankoop-tjalleberter-krite-dure-misser.html\n",
      "start scraping: https://heerenveen.christenunie.nl/k/n2531/news/archive/43700/2010/2\n"
     ]
    },
    {
     "name": "stderr",
     "output_type": "stream",
     "text": [
      "2019-02-22 10:39:42 [urllib3.connectionpool] DEBUG: https://heerenveen.christenunie.nl:443 \"GET /k/n2531/news/archive/43700/2010/2 HTTP/1.1\" 200 5084\n"
     ]
    },
    {
     "name": "stdout",
     "output_type": "stream",
     "text": [
      "done scraping: https://heerenveen.christenunie.nl/k/n2531/news/archive/43700/2010/2\n",
      "start scraping: https://heerenveen.christenunie.nl/k/n2531/news/view/415664/43700/christenunie-steekt-de-handen-uit-de-mouwen.html\n"
     ]
    },
    {
     "name": "stderr",
     "output_type": "stream",
     "text": [
      "2019-02-22 10:39:43 [urllib3.connectionpool] DEBUG: https://heerenveen.christenunie.nl:443 \"GET /k/n2531/news/view/415664/43700/christenunie-steekt-de-handen-uit-de-mouwen.html HTTP/1.1\" 200 5899\n"
     ]
    },
    {
     "name": "stdout",
     "output_type": "stream",
     "text": [
      "done scraping: https://heerenveen.christenunie.nl/k/n2531/news/view/415664/43700/christenunie-steekt-de-handen-uit-de-mouwen.html\n",
      "start scraping: https://heerenveen.christenunie.nl/k/n2531/news/view/409870/43700/christenunie-wil-meebesturen-in-heerenveen.html\n"
     ]
    },
    {
     "name": "stderr",
     "output_type": "stream",
     "text": [
      "2019-02-22 10:39:44 [urllib3.connectionpool] DEBUG: https://heerenveen.christenunie.nl:443 \"GET /k/n2531/news/view/409870/43700/christenunie-wil-meebesturen-in-heerenveen.html HTTP/1.1\" 200 6332\n"
     ]
    },
    {
     "name": "stdout",
     "output_type": "stream",
     "text": [
      "done scraping: https://heerenveen.christenunie.nl/k/n2531/news/view/409870/43700/christenunie-wil-meebesturen-in-heerenveen.html\n",
      "start scraping: https://heerenveen.christenunie.nl/k/n2531/news/view/406213/43700/heerenveen-stad-van-sport-wie-let-er-op-de-kleintjes.html\n"
     ]
    },
    {
     "name": "stderr",
     "output_type": "stream",
     "text": [
      "2019-02-22 10:39:44 [urllib3.connectionpool] DEBUG: https://heerenveen.christenunie.nl:443 \"GET /k/n2531/news/view/406213/43700/heerenveen-stad-van-sport-wie-let-er-op-de-kleintjes.html HTTP/1.1\" 200 6610\n"
     ]
    },
    {
     "name": "stdout",
     "output_type": "stream",
     "text": [
      "done scraping: https://heerenveen.christenunie.nl/k/n2531/news/view/406213/43700/heerenveen-stad-van-sport-wie-let-er-op-de-kleintjes.html\n",
      "start scraping: https://heerenveen.christenunie.nl/k/n2531/news/view/454425/43700/ziekte-fractievoorzitter.html\n"
     ]
    },
    {
     "name": "stderr",
     "output_type": "stream",
     "text": [
      "2019-02-22 10:39:45 [urllib3.connectionpool] DEBUG: https://heerenveen.christenunie.nl:443 \"GET /k/n2531/news/view/454425/43700/ziekte-fractievoorzitter.html HTTP/1.1\" 200 5650\n"
     ]
    },
    {
     "name": "stdout",
     "output_type": "stream",
     "text": [
      "done scraping: https://heerenveen.christenunie.nl/k/n2531/news/view/454425/43700/ziekte-fractievoorzitter.html\n",
      "start scraping: https://heerenveen.christenunie.nl/k/n2531/news/archive/43700/2008/1\n"
     ]
    },
    {
     "name": "stderr",
     "output_type": "stream",
     "text": [
      "2019-02-22 10:39:45 [urllib3.connectionpool] DEBUG: https://heerenveen.christenunie.nl:443 \"GET /k/n2531/news/archive/43700/2008/1 HTTP/1.1\" 200 5129\n"
     ]
    },
    {
     "name": "stdout",
     "output_type": "stream",
     "text": [
      "done scraping: https://heerenveen.christenunie.nl/k/n2531/news/archive/43700/2008/1\n",
      "start scraping: https://heerenveen.christenunie.nl/k/n2531/news/view/194053/43700/werkgroep-millenniumgemeente.html\n"
     ]
    },
    {
     "name": "stderr",
     "output_type": "stream",
     "text": [
      "2019-02-22 10:39:46 [urllib3.connectionpool] DEBUG: https://heerenveen.christenunie.nl:443 \"GET /k/n2531/news/view/194053/43700/werkgroep-millenniumgemeente.html HTTP/1.1\" 200 6911\n"
     ]
    },
    {
     "name": "stdout",
     "output_type": "stream",
     "text": [
      "done scraping: https://heerenveen.christenunie.nl/k/n2531/news/view/194053/43700/werkgroep-millenniumgemeente.html\n",
      "start scraping: https://heerenveen.christenunie.nl/k/n2531/news/view/194055/43700/impressie-van-de-ledenvergadering.html\n"
     ]
    },
    {
     "name": "stderr",
     "output_type": "stream",
     "text": [
      "2019-02-22 10:39:47 [urllib3.connectionpool] DEBUG: https://heerenveen.christenunie.nl:443 \"GET /k/n2531/news/view/194055/43700/impressie-van-de-ledenvergadering.html HTTP/1.1\" 200 6493\n"
     ]
    },
    {
     "name": "stdout",
     "output_type": "stream",
     "text": [
      "done scraping: https://heerenveen.christenunie.nl/k/n2531/news/view/194055/43700/impressie-van-de-ledenvergadering.html\n",
      "start scraping: https://heerenveen.christenunie.nl/k/n2531/news/view/194054/43700/rouvoet-wie-geloof-en-politiek-wil-scheiden-heeft-van-beide-niets-begrepen.html\n"
     ]
    },
    {
     "name": "stderr",
     "output_type": "stream",
     "text": [
      "2019-02-22 10:39:47 [urllib3.connectionpool] DEBUG: https://heerenveen.christenunie.nl:443 \"GET /k/n2531/news/view/194054/43700/rouvoet-wie-geloof-en-politiek-wil-scheiden-heeft-van-beide-niets-begrepen.html HTTP/1.1\" 200 7598\n"
     ]
    },
    {
     "name": "stdout",
     "output_type": "stream",
     "text": [
      "done scraping: https://heerenveen.christenunie.nl/k/n2531/news/view/194054/43700/rouvoet-wie-geloof-en-politiek-wil-scheiden-heeft-van-beide-niets-begrepen.html\n",
      "start scraping: https://heerenveen.christenunie.nl/k/n2531/news/view/373340/43700/fusie-eerst-naar-de-burgers.html\n"
     ]
    },
    {
     "name": "stderr",
     "output_type": "stream",
     "text": [
      "2019-02-22 10:39:48 [urllib3.connectionpool] DEBUG: https://heerenveen.christenunie.nl:443 \"GET /k/n2531/news/view/373340/43700/fusie-eerst-naar-de-burgers.html HTTP/1.1\" 200 6141\n"
     ]
    },
    {
     "name": "stdout",
     "output_type": "stream",
     "text": [
      "done scraping: https://heerenveen.christenunie.nl/k/n2531/news/view/373340/43700/fusie-eerst-naar-de-burgers.html\n",
      "start scraping: https://heerenveen.christenunie.nl/k/n2531/news/view/370318/43700/centrum-voor-de-kunsten-a7.html\n"
     ]
    },
    {
     "name": "stderr",
     "output_type": "stream",
     "text": [
      "2019-02-22 10:39:49 [urllib3.connectionpool] DEBUG: https://heerenveen.christenunie.nl:443 \"GET /k/n2531/news/view/370318/43700/centrum-voor-de-kunsten-a7.html HTTP/1.1\" 200 6240\n"
     ]
    },
    {
     "name": "stdout",
     "output_type": "stream",
     "text": [
      "done scraping: https://heerenveen.christenunie.nl/k/n2531/news/view/370318/43700/centrum-voor-de-kunsten-a7.html\n",
      "start scraping: https://heerenveen.christenunie.nl/k/n2531/news/view/368793/43700/thialf-discovery.html\n"
     ]
    },
    {
     "name": "stderr",
     "output_type": "stream",
     "text": [
      "2019-02-22 10:39:49 [urllib3.connectionpool] DEBUG: https://heerenveen.christenunie.nl:443 \"GET /k/n2531/news/view/368793/43700/thialf-discovery.html HTTP/1.1\" 200 6251\n"
     ]
    },
    {
     "name": "stdout",
     "output_type": "stream",
     "text": [
      "done scraping: https://heerenveen.christenunie.nl/k/n2531/news/view/368793/43700/thialf-discovery.html\n",
      "start scraping: https://heerenveen.christenunie.nl/k/n2531/news/view/368788/43700/ondernemersfonds-voor-het-centrum.html\n"
     ]
    },
    {
     "name": "stderr",
     "output_type": "stream",
     "text": [
      "2019-02-22 10:39:50 [urllib3.connectionpool] DEBUG: https://heerenveen.christenunie.nl:443 \"GET /k/n2531/news/view/368788/43700/ondernemersfonds-voor-het-centrum.html HTTP/1.1\" 200 6472\n"
     ]
    },
    {
     "name": "stdout",
     "output_type": "stream",
     "text": [
      "done scraping: https://heerenveen.christenunie.nl/k/n2531/news/view/368788/43700/ondernemersfonds-voor-het-centrum.html\n",
      "start scraping: https://heerenveen.christenunie.nl/k/n2531/news/view/388109/43700/tryntsje-dijkstra-opnieuw-lijsttrekker-christenunie-heerenveen.html\n"
     ]
    },
    {
     "name": "stderr",
     "output_type": "stream",
     "text": [
      "2019-02-22 10:39:50 [urllib3.connectionpool] DEBUG: https://heerenveen.christenunie.nl:443 \"GET /k/n2531/news/view/388109/43700/tryntsje-dijkstra-opnieuw-lijsttrekker-christenunie-heerenveen.html HTTP/1.1\" 200 6434\n"
     ]
    },
    {
     "name": "stdout",
     "output_type": "stream",
     "text": [
      "done scraping: https://heerenveen.christenunie.nl/k/n2531/news/view/388109/43700/tryntsje-dijkstra-opnieuw-lijsttrekker-christenunie-heerenveen.html\n",
      "start scraping: https://heerenveen.christenunie.nl/k/n2531/news/view/388108/43700/tien-belangrijke-boodschappen-van-de-christenunie-voor-heerenveen-in-2010.html\n"
     ]
    },
    {
     "name": "stderr",
     "output_type": "stream",
     "text": [
      "2019-02-22 10:39:51 [urllib3.connectionpool] DEBUG: https://heerenveen.christenunie.nl:443 \"GET /k/n2531/news/view/388108/43700/tien-belangrijke-boodschappen-van-de-christenunie-voor-heerenveen-in-2010.html HTTP/1.1\" 200 10555\n"
     ]
    },
    {
     "name": "stdout",
     "output_type": "stream",
     "text": [
      "done scraping: https://heerenveen.christenunie.nl/k/n2531/news/view/388108/43700/tien-belangrijke-boodschappen-van-de-christenunie-voor-heerenveen-in-2010.html\n",
      "start scraping: https://heerenveen.christenunie.nl/k/n2531/news/view/385643/43700/jan-boven-ontvangt-zilveren-speld.html\n"
     ]
    },
    {
     "name": "stderr",
     "output_type": "stream",
     "text": [
      "2019-02-22 10:39:51 [urllib3.connectionpool] DEBUG: https://heerenveen.christenunie.nl:443 \"GET /k/n2531/news/view/385643/43700/jan-boven-ontvangt-zilveren-speld.html HTTP/1.1\" 200 6019\n"
     ]
    },
    {
     "name": "stdout",
     "output_type": "stream",
     "text": [
      "done scraping: https://heerenveen.christenunie.nl/k/n2531/news/view/385643/43700/jan-boven-ontvangt-zilveren-speld.html\n",
      "start scraping: https://heerenveen.christenunie.nl/k/n2531/news/archive/43700/2008/3\n"
     ]
    },
    {
     "name": "stderr",
     "output_type": "stream",
     "text": [
      "2019-02-22 10:39:52 [urllib3.connectionpool] DEBUG: https://heerenveen.christenunie.nl:443 \"GET /k/n2531/news/archive/43700/2008/3 HTTP/1.1\" 200 4960\n"
     ]
    },
    {
     "name": "stdout",
     "output_type": "stream",
     "text": [
      "done scraping: https://heerenveen.christenunie.nl/k/n2531/news/archive/43700/2008/3\n",
      "start scraping: https://heerenveen.christenunie.nl/k/n2531/news/view/199554/43700/wisseling-in-de-fractie.html\n"
     ]
    },
    {
     "name": "stderr",
     "output_type": "stream",
     "text": [
      "2019-02-22 10:39:52 [urllib3.connectionpool] DEBUG: https://heerenveen.christenunie.nl:443 \"GET /k/n2531/news/view/199554/43700/wisseling-in-de-fractie.html HTTP/1.1\" 200 6128\n"
     ]
    },
    {
     "name": "stdout",
     "output_type": "stream",
     "text": [
      "done scraping: https://heerenveen.christenunie.nl/k/n2531/news/view/199554/43700/wisseling-in-de-fractie.html\n",
      "start scraping: https://heerenveen.christenunie.nl/k/n2531/news/view/316462/43700/heerenveen-stad-van-sport.html\n"
     ]
    },
    {
     "name": "stderr",
     "output_type": "stream",
     "text": [
      "2019-02-22 10:39:53 [urllib3.connectionpool] DEBUG: https://heerenveen.christenunie.nl:443 \"GET /k/n2531/news/view/316462/43700/heerenveen-stad-van-sport.html HTTP/1.1\" 200 6681\n"
     ]
    },
    {
     "name": "stdout",
     "output_type": "stream",
     "text": [
      "done scraping: https://heerenveen.christenunie.nl/k/n2531/news/view/316462/43700/heerenveen-stad-van-sport.html\n",
      "start scraping: https://heerenveen.christenunie.nl/k/n2531/news/archive/43700/2008/9\n"
     ]
    },
    {
     "name": "stderr",
     "output_type": "stream",
     "text": [
      "2019-02-22 10:39:53 [urllib3.connectionpool] DEBUG: https://heerenveen.christenunie.nl:443 \"GET /k/n2531/news/archive/43700/2008/9 HTTP/1.1\" 200 5087\n"
     ]
    },
    {
     "name": "stdout",
     "output_type": "stream",
     "text": [
      "done scraping: https://heerenveen.christenunie.nl/k/n2531/news/archive/43700/2008/9\n",
      "start scraping: https://heerenveen.christenunie.nl/k/n2531/news/view/306300/43700/nog-geen-streep-onder-slepende-kwestie.html\n"
     ]
    },
    {
     "name": "stderr",
     "output_type": "stream",
     "text": [
      "2019-02-22 10:39:54 [urllib3.connectionpool] DEBUG: https://heerenveen.christenunie.nl:443 \"GET /k/n2531/news/view/306300/43700/nog-geen-streep-onder-slepende-kwestie.html HTTP/1.1\" 200 6091\n"
     ]
    },
    {
     "name": "stdout",
     "output_type": "stream",
     "text": [
      "done scraping: https://heerenveen.christenunie.nl/k/n2531/news/view/306300/43700/nog-geen-streep-onder-slepende-kwestie.html\n",
      "start scraping: https://heerenveen.christenunie.nl/k/n2531/news/view/302646/43700/vluchtelingenwerk-druk-met-coaching-van-de-pardonners.html\n"
     ]
    },
    {
     "name": "stderr",
     "output_type": "stream",
     "text": [
      "2019-02-22 10:39:56 [urllib3.connectionpool] DEBUG: https://heerenveen.christenunie.nl:443 \"GET /k/n2531/news/view/302646/43700/vluchtelingenwerk-druk-met-coaching-van-de-pardonners.html HTTP/1.1\" 200 6850\n"
     ]
    },
    {
     "name": "stdout",
     "output_type": "stream",
     "text": [
      "done scraping: https://heerenveen.christenunie.nl/k/n2531/news/view/302646/43700/vluchtelingenwerk-druk-met-coaching-van-de-pardonners.html\n",
      "start scraping: https://heerenveen.christenunie.nl/k/n2531/news/archive/43700/2008/5\n"
     ]
    },
    {
     "name": "stderr",
     "output_type": "stream",
     "text": [
      "2019-02-22 10:39:56 [urllib3.connectionpool] DEBUG: https://heerenveen.christenunie.nl:443 \"GET /k/n2531/news/archive/43700/2008/5 HTTP/1.1\" 200 4979\n"
     ]
    },
    {
     "name": "stdout",
     "output_type": "stream",
     "text": [
      "done scraping: https://heerenveen.christenunie.nl/k/n2531/news/archive/43700/2008/5\n",
      "start scraping: https://heerenveen.christenunie.nl/k/n2531/news/view/289766/43700/beediging-aris-leijendekker.html\n"
     ]
    },
    {
     "name": "stderr",
     "output_type": "stream",
     "text": [
      "2019-02-22 10:39:57 [urllib3.connectionpool] DEBUG: https://heerenveen.christenunie.nl:443 \"GET /k/n2531/news/view/289766/43700/beediging-aris-leijendekker.html HTTP/1.1\" 200 5259\n"
     ]
    },
    {
     "name": "stdout",
     "output_type": "stream",
     "text": [
      "done scraping: https://heerenveen.christenunie.nl/k/n2531/news/view/289766/43700/beediging-aris-leijendekker.html\n"
     ]
    }
   ],
   "source": [
    "texts = []\n",
    "titles = []\n",
    "dates =[]\n",
    "for url in urls:\n",
    "    print(\"start scraping:\", url)\n",
    "    try: \n",
    "        \n",
    "        article = g.extract(url=url)\n",
    "        texts.append(article.cleaned_text)\n",
    "        titles.append(article.title)\n",
    "        dates.append(article.publish_date)\n",
    "        print(\"done scraping:\", url)\n",
    "    except MissingSchema: \n",
    "        print('Error scraping')\n",
    "g.close()\n",
    "\n",
    "url_list['body'] = texts\n",
    "url_list['title'] = titles\n",
    "url_list['publish_dates'] = dates"
   ]
  },
  {
   "cell_type": "code",
   "execution_count": 10,
   "metadata": {},
   "outputs": [
    {
     "data": {
      "text/html": [
       "<div>\n",
       "<style scoped>\n",
       "    .dataframe tbody tr th:only-of-type {\n",
       "        vertical-align: middle;\n",
       "    }\n",
       "\n",
       "    .dataframe tbody tr th {\n",
       "        vertical-align: top;\n",
       "    }\n",
       "\n",
       "    .dataframe thead th {\n",
       "        text-align: right;\n",
       "    }\n",
       "</style>\n",
       "<table border=\"1\" class=\"dataframe\">\n",
       "  <thead>\n",
       "    <tr style=\"text-align: right;\">\n",
       "      <th></th>\n",
       "      <th>html</th>\n",
       "      <th>url</th>\n",
       "      <th>body</th>\n",
       "      <th>title</th>\n",
       "      <th>publish_dates</th>\n",
       "    </tr>\n",
       "  </thead>\n",
       "  <tbody>\n",
       "    <tr>\n",
       "      <th>1</th>\n",
       "      <td>&lt;200 https://heerenveen.christenunie.nl/nieuws&gt;</td>\n",
       "      <td>https://heerenveen.christenunie.nl/k/n2531/new...</td>\n",
       "      <td>Op woensdag 21 maart zijn er in de gemeente He...</td>\n",
       "      <td>Politieke debatten in Jubbega, Akkrum en Heere...</td>\n",
       "      <td>2018-03-03T08:31:00+00:00</td>\n",
       "    </tr>\n",
       "    <tr>\n",
       "      <th>3</th>\n",
       "      <td>&lt;200 https://heerenveen.christenunie.nl/nieuws&gt;</td>\n",
       "      <td>https://heerenveen.christenunie.nl/k/n2531/new...</td>\n",
       "      <td>Alle stemmen zijn geteld. Ongeveer 60.000 mens...</td>\n",
       "      <td>Dank voor uw stem!</td>\n",
       "      <td>2017-03-23T12:10:00+00:00</td>\n",
       "    </tr>\n",
       "    <tr>\n",
       "      <th>4</th>\n",
       "      <td>&lt;200 https://heerenveen.christenunie.nl/nieuws&gt;</td>\n",
       "      <td>https://heerenveen.christenunie.nl/k/n2531/new...</td>\n",
       "      <td>Afgelopen zaterdag hebben onze raadsleden Lia ...</td>\n",
       "      <td>Lintjes</td>\n",
       "      <td>2017-03-17T11:36:00+00:00</td>\n",
       "    </tr>\n",
       "    <tr>\n",
       "      <th>5</th>\n",
       "      <td>&lt;200 https://heerenveen.christenunie.nl/nieuws&gt;</td>\n",
       "      <td>https://heerenveen.christenunie.nl/k/n2531/new...</td>\n",
       "      <td>Carla Dik-Faber wil van de minister weten hoe ...</td>\n",
       "      <td>ChristenUnie stelt Kamervragen over gaswinning...</td>\n",
       "      <td>2017-03-06T12:52:00+00:00</td>\n",
       "    </tr>\n",
       "    <tr>\n",
       "      <th>6</th>\n",
       "      <td>&lt;200 https://heerenveen.christenunie.nl/nieuws&gt;</td>\n",
       "      <td>https://heerenveen.christenunie.nl/k/n2531/new...</td>\n",
       "      <td>Juist nu de toekomst van het bijzonder onderwi...</td>\n",
       "      <td>Laat weten wat jouw school bijzonder maakt</td>\n",
       "      <td>2017-02-27T20:43:00+00:00</td>\n",
       "    </tr>\n",
       "    <tr>\n",
       "      <th>7</th>\n",
       "      <td>&lt;200 https://heerenveen.christenunie.nl/k/n253...</td>\n",
       "      <td>https://heerenveen.christenunie.nl/k/n2531/new...</td>\n",
       "      <td>Op woensdag 21 maart zijn er in de gemeente He...</td>\n",
       "      <td>Politieke debatten in Jubbega, Akkrum en Heere...</td>\n",
       "      <td>2018-03-03T08:31:00+00:00</td>\n",
       "    </tr>\n",
       "    <tr>\n",
       "      <th>8</th>\n",
       "      <td>&lt;200 https://heerenveen.christenunie.nl/nieuws&gt;</td>\n",
       "      <td>https://heerenveen.christenunie.nl/k/n2531/new...</td>\n",
       "      <td>Na een intensieve campagneperiode en een spann...</td>\n",
       "      <td>ChristenUnie behoudt 2 zetels</td>\n",
       "      <td>2013-11-15T18:00:00+00:00</td>\n",
       "    </tr>\n",
       "    <tr>\n",
       "      <th>12</th>\n",
       "      <td>&lt;200 https://heerenveen.christenunie.nl/k/n253...</td>\n",
       "      <td>https://heerenveen.christenunie.nl/k/n2531/new...</td>\n",
       "      <td>Op maandag 19 maart vindt in Heerenveen een po...</td>\n",
       "      <td>Politiek debat in Heerenveen</td>\n",
       "      <td>2018-03-03T08:19:00+00:00</td>\n",
       "    </tr>\n",
       "    <tr>\n",
       "      <th>13</th>\n",
       "      <td>&lt;200 https://heerenveen.christenunie.nl/k/n253...</td>\n",
       "      <td>https://heerenveen.christenunie.nl/k/n2531/new...</td>\n",
       "      <td>Op woensdag 14 maart vindt in Akkrum een polit...</td>\n",
       "      <td>Politiek debat in Akkrum</td>\n",
       "      <td>2018-03-03T08:16:00+00:00</td>\n",
       "    </tr>\n",
       "    <tr>\n",
       "      <th>14</th>\n",
       "      <td>&lt;200 https://heerenveen.christenunie.nl/k/n253...</td>\n",
       "      <td>https://heerenveen.christenunie.nl/k/n2531/new...</td>\n",
       "      <td>Op maandag 5 maart vindt in Jubbega een politi...</td>\n",
       "      <td>Politiek debat in Jubbega</td>\n",
       "      <td>2018-03-03T08:15:00+00:00</td>\n",
       "    </tr>\n",
       "    <tr>\n",
       "      <th>20</th>\n",
       "      <td>&lt;200 https://heerenveen.christenunie.nl/k/n253...</td>\n",
       "      <td>https://heerenveen.christenunie.nl/k/n2531/new...</td>\n",
       "      <td>Aris is fervent hardloper en maakte tijdens zi...</td>\n",
       "      <td>Lijsttrekker ChristenUnie sluit dorpenmarathon...</td>\n",
       "      <td>2013-11-12T11:02:00+00:00</td>\n",
       "    </tr>\n",
       "    <tr>\n",
       "      <th>21</th>\n",
       "      <td>&lt;200 https://heerenveen.christenunie.nl/k/n253...</td>\n",
       "      <td>https://heerenveen.christenunie.nl/k/n2531/new...</td>\n",
       "      <td>Omdat het prostitutieprobleem in Heerenveen gr...</td>\n",
       "      <td>ChristenUnie wil prostitutiebeleid op de agenda</td>\n",
       "      <td>2013-11-01T11:13:00+00:00</td>\n",
       "    </tr>\n",
       "    <tr>\n",
       "      <th>92</th>\n",
       "      <td>&lt;200 https://heerenveen.christenunie.nl/k/n253...</td>\n",
       "      <td>https://heerenveen.christenunie.nl/k/n2531/new...</td>\n",
       "      <td>Zaterdag ontving Boerenblij maar liefst 14 oud...</td>\n",
       "      <td>Fractie in actie op Zorgboerderij Boerenblij</td>\n",
       "      <td>2013-03-11T14:15:00+00:00</td>\n",
       "    </tr>\n",
       "    <tr>\n",
       "      <th>93</th>\n",
       "      <td>&lt;200 https://heerenveen.christenunie.nl/k/n253...</td>\n",
       "      <td>https://heerenveen.christenunie.nl/k/n2531/new...</td>\n",
       "      <td>De ChristenUnie en het CDA in Heerenveen zijn ...</td>\n",
       "      <td>ChristenUnie en CDA komen op voor kleine scholen</td>\n",
       "      <td>2013-03-01T08:05:00+00:00</td>\n",
       "    </tr>\n",
       "    <tr>\n",
       "      <th>95</th>\n",
       "      <td>&lt;200 https://heerenveen.christenunie.nl/k/n253...</td>\n",
       "      <td>https://heerenveen.christenunie.nl/k/n2531/new...</td>\n",
       "      <td>De ChristenUnie Heerenveen is klaar voor de he...</td>\n",
       "      <td>Leijendekker lijsttrekker ChristenUnie</td>\n",
       "      <td>2013-06-03T09:11:00+00:00</td>\n",
       "    </tr>\n",
       "    <tr>\n",
       "      <th>99</th>\n",
       "      <td>&lt;200 https://heerenveen.christenunie.nl/k/n253...</td>\n",
       "      <td>https://heerenveen.christenunie.nl/k/n2531/new...</td>\n",
       "      <td>Aris Leijendekker, lijsttrekker voor de Christ...</td>\n",
       "      <td>Lijsttrekker ChristenUnie rennend door Heerenv...</td>\n",
       "      <td>2013-09-30T14:53:00+00:00</td>\n",
       "    </tr>\n",
       "    <tr>\n",
       "      <th>100</th>\n",
       "      <td>&lt;200 https://heerenveen.christenunie.nl/k/n253...</td>\n",
       "      <td>https://heerenveen.christenunie.nl/k/n2531/new...</td>\n",
       "      <td>Mijn naam is Lia de Heij; ik ben getrouwd met ...</td>\n",
       "      <td>Lia de Heij, nummer 2 van de kanditatenlijst, ...</td>\n",
       "      <td>2013-09-28T10:04:00+00:00</td>\n",
       "    </tr>\n",
       "    <tr>\n",
       "      <th>101</th>\n",
       "      <td>&lt;200 https://heerenveen.christenunie.nl/k/n253...</td>\n",
       "      <td>https://heerenveen.christenunie.nl/k/n2531/new...</td>\n",
       "      <td>Lijsttrekker Aris Leijendekker van de Christen...</td>\n",
       "      <td>Interview Lijstrekker Aris Leijendekker met jo...</td>\n",
       "      <td>2013-09-23T09:50:00+00:00</td>\n",
       "    </tr>\n",
       "    <tr>\n",
       "      <th>102</th>\n",
       "      <td>&lt;200 https://heerenveen.christenunie.nl/k/n253...</td>\n",
       "      <td>https://heerenveen.christenunie.nl/k/n2531/new...</td>\n",
       "      <td></td>\n",
       "      <td>De kandidatenlijst voor de gemeenteraadsverkie...</td>\n",
       "      <td>2013-09-16T09:18:00+00:00</td>\n",
       "    </tr>\n",
       "    <tr>\n",
       "      <th>103</th>\n",
       "      <td>&lt;200 https://heerenveen.christenunie.nl/k/n253...</td>\n",
       "      <td>https://heerenveen.christenunie.nl/k/n2531/new...</td>\n",
       "      <td>Zaterdag 14 september is het open Monumentenda...</td>\n",
       "      <td>Zaterdag 14 september speed d(eb)ate met Aris ...</td>\n",
       "      <td>2013-09-11T07:55:00+00:00</td>\n",
       "    </tr>\n",
       "    <tr>\n",
       "      <th>113</th>\n",
       "      <td>&lt;200 https://heerenveen.christenunie.nl/k/n253...</td>\n",
       "      <td>https://heerenveen.christenunie.nl/k/n2531/new...</td>\n",
       "      <td>De programmabegroting, ofwel het huishoudboekj...</td>\n",
       "      <td>Huishoudboekje begrijpelijker maken</td>\n",
       "      <td>2007-01-21T21:10:00+00:00</td>\n",
       "    </tr>\n",
       "    <tr>\n",
       "      <th>133</th>\n",
       "      <td>&lt;200 https://heerenveen.christenunie.nl/k/n253...</td>\n",
       "      <td>https://heerenveen.christenunie.nl/k/n2531/new...</td>\n",
       "      <td>De gemeente Heerenveen is in april 2007 op voo...</td>\n",
       "      <td>Werkgroep Millenniumgemeente</td>\n",
       "      <td>2008-01-28T19:50:00+00:00</td>\n",
       "    </tr>\n",
       "    <tr>\n",
       "      <th>134</th>\n",
       "      <td>&lt;200 https://heerenveen.christenunie.nl/k/n253...</td>\n",
       "      <td>https://heerenveen.christenunie.nl/k/n2531/new...</td>\n",
       "      <td>In november 2007 hielden we onze jaarlijkse le...</td>\n",
       "      <td>Impressie van de ledenvergadering</td>\n",
       "      <td>2008-01-28T19:39:00+00:00</td>\n",
       "    </tr>\n",
       "    <tr>\n",
       "      <th>135</th>\n",
       "      <td>&lt;200 https://heerenveen.christenunie.nl/k/n253...</td>\n",
       "      <td>https://heerenveen.christenunie.nl/k/n2531/new...</td>\n",
       "      <td>dinsdag 15 januari 2008 10:37 Geloof en Politi...</td>\n",
       "      <td>Rouvoet: 'Wie geloof en politiek wil scheiden ...</td>\n",
       "      <td>2008-01-20T19:18:00+00:00</td>\n",
       "    </tr>\n",
       "    <tr>\n",
       "      <th>137</th>\n",
       "      <td>&lt;200 https://heerenveen.christenunie.nl/k/n253...</td>\n",
       "      <td>https://heerenveen.christenunie.nl/k/n2531/new...</td>\n",
       "      <td>Tryntsje Dijkstra en Jolanda Mosselaar van de ...</td>\n",
       "      <td>Werkbezoek Stichting MEE</td>\n",
       "      <td>2010-01-30T10:19:00+00:00</td>\n",
       "    </tr>\n",
       "    <tr>\n",
       "      <th>138</th>\n",
       "      <td>&lt;200 https://heerenveen.christenunie.nl/k/n253...</td>\n",
       "      <td>https://heerenveen.christenunie.nl/k/n2531/new...</td>\n",
       "      <td>Een interessante en moeilijk te beantwoorden v...</td>\n",
       "      <td>Wat houdt de meeste mensen in Heerenveen bezig?</td>\n",
       "      <td>2010-01-28T07:12:00+00:00</td>\n",
       "    </tr>\n",
       "    <tr>\n",
       "      <th>139</th>\n",
       "      <td>&lt;200 https://heerenveen.christenunie.nl/k/n253...</td>\n",
       "      <td>https://heerenveen.christenunie.nl/k/n2531/new...</td>\n",
       "      <td>De afgelopen raadsperiode is de WMO (Wet Maats...</td>\n",
       "      <td>Geld oppotten en Omtinkers aanstellen</td>\n",
       "      <td>2010-01-25T15:01:00+00:00</td>\n",
       "    </tr>\n",
       "    <tr>\n",
       "      <th>140</th>\n",
       "      <td>&lt;200 https://heerenveen.christenunie.nl/k/n253...</td>\n",
       "      <td>https://heerenveen.christenunie.nl/k/n2531/new...</td>\n",
       "      <td>De ChristenUnie vindt het besluit om luxe woni...</td>\n",
       "      <td>Grondaankoop Tjalleberter Krite dure misser</td>\n",
       "      <td>2010-01-22T13:21:00+00:00</td>\n",
       "    </tr>\n",
       "    <tr>\n",
       "      <th>142</th>\n",
       "      <td>&lt;200 https://heerenveen.christenunie.nl/k/n253...</td>\n",
       "      <td>https://heerenveen.christenunie.nl/k/n2531/new...</td>\n",
       "      <td>Per 1 mei wordt Aris Leijendekker uit Tjallebe...</td>\n",
       "      <td>Wisseling in de fractie</td>\n",
       "      <td>2008-03-17T03:58:00+00:00</td>\n",
       "    </tr>\n",
       "    <tr>\n",
       "      <th>144</th>\n",
       "      <td>&lt;200 https://heerenveen.christenunie.nl/k/n253...</td>\n",
       "      <td>https://heerenveen.christenunie.nl/k/n2531/new...</td>\n",
       "      <td>De ChristenUnie wil dat de gemeente Heerenveen...</td>\n",
       "      <td>Pre mediation in gemeente Heerenveen voor bete...</td>\n",
       "      <td>2011-01-24T15:51:00+00:00</td>\n",
       "    </tr>\n",
       "    <tr>\n",
       "      <th>...</th>\n",
       "      <td>...</td>\n",
       "      <td>...</td>\n",
       "      <td>...</td>\n",
       "      <td>...</td>\n",
       "      <td>...</td>\n",
       "    </tr>\n",
       "    <tr>\n",
       "      <th>306</th>\n",
       "      <td>&lt;200 https://heerenveen.christenunie.nl/k/n253...</td>\n",
       "      <td>https://heerenveen.christenunie.nl/k/n2531/new...</td>\n",
       "      <td>Donderdag 16 februari waren 2 vertegenwoordige...</td>\n",
       "      <td>Provinciale Unie op bezoek bij het bestuur in ...</td>\n",
       "      <td>2012-02-17T13:23:00+00:00</td>\n",
       "    </tr>\n",
       "    <tr>\n",
       "      <th>307</th>\n",
       "      <td>&lt;200 https://heerenveen.christenunie.nl/k/n253...</td>\n",
       "      <td>https://heerenveen.christenunie.nl/k/n2531/new...</td>\n",
       "      <td>Na ruim een jaar ziek te zijn geweest, is Tryn...</td>\n",
       "      <td>Tryntsje Dijkstra terug in de raad</td>\n",
       "      <td>2012-02-02T08:09:00+00:00</td>\n",
       "    </tr>\n",
       "    <tr>\n",
       "      <th>309</th>\n",
       "      <td>&lt;200 https://heerenveen.christenunie.nl/k/n253...</td>\n",
       "      <td>https://heerenveen.christenunie.nl/k/n2531/new...</td>\n",
       "      <td>Zaterdag 14 april zijn we als (steun-) fractie...</td>\n",
       "      <td>(steun)fractie en bestuur bereiden zich voor o...</td>\n",
       "      <td>2012-04-16T13:16:00+00:00</td>\n",
       "    </tr>\n",
       "    <tr>\n",
       "      <th>314</th>\n",
       "      <td>&lt;200 https://heerenveen.christenunie.nl/k/n253...</td>\n",
       "      <td>https://heerenveen.christenunie.nl/k/n2531/new...</td>\n",
       "      <td>23 november jl. hebben we onze jaarlijkse lede...</td>\n",
       "      <td>Verslag van de jaarlijkse ledenvergadering</td>\n",
       "      <td>2011-12-05T10:41:00+00:00</td>\n",
       "    </tr>\n",
       "    <tr>\n",
       "      <th>316</th>\n",
       "      <td>&lt;200 https://heerenveen.christenunie.nl/k/n253...</td>\n",
       "      <td>https://heerenveen.christenunie.nl/k/n2531/new...</td>\n",
       "      <td>Op zaterdag 17 september kwam de ChristenUnie ...</td>\n",
       "      <td>ChristenUnie Heerenveen start nieuw politiek s...</td>\n",
       "      <td>2011-09-17T08:31:00+00:00</td>\n",
       "    </tr>\n",
       "    <tr>\n",
       "      <th>317</th>\n",
       "      <td>&lt;200 https://heerenveen.christenunie.nl/k/n253...</td>\n",
       "      <td>https://heerenveen.christenunie.nl/k/n2531/new...</td>\n",
       "      <td>In de gemeenteraadsvergadering van 26 septembe...</td>\n",
       "      <td>belevenissen als tijdelijk raadslid van Lia de...</td>\n",
       "      <td>2011-10-19T13:51:00+00:00</td>\n",
       "    </tr>\n",
       "    <tr>\n",
       "      <th>319</th>\n",
       "      <td>&lt;200 https://heerenveen.christenunie.nl/k/n253...</td>\n",
       "      <td>https://heerenveen.christenunie.nl/k/n2531/new...</td>\n",
       "      <td>De start van de regiotour Friesland is 13 mei ...</td>\n",
       "      <td>Van Europa naar Friesland</td>\n",
       "      <td>2009-05-07T17:02:00+00:00</td>\n",
       "    </tr>\n",
       "    <tr>\n",
       "      <th>320</th>\n",
       "      <td>&lt;200 https://heerenveen.christenunie.nl/k/n253...</td>\n",
       "      <td>https://heerenveen.christenunie.nl/k/n2531/new...</td>\n",
       "      <td>Bestuursrapportage 2011 \\n\\nHet voorstel is da...</td>\n",
       "      <td>Betoog bestuursrapportage 2011 en themabegroti...</td>\n",
       "      <td>2011-12-06T16:10:00+00:00</td>\n",
       "    </tr>\n",
       "    <tr>\n",
       "      <th>324</th>\n",
       "      <td>&lt;200 https://heerenveen.christenunie.nl/k/n253...</td>\n",
       "      <td>https://heerenveen.christenunie.nl/k/n2531/new...</td>\n",
       "      <td>Het wordt steeds ingewikkelder om kleding in t...</td>\n",
       "      <td>ChristenUnie gaat voor tweedehands</td>\n",
       "      <td>2009-04-17T13:18:00+00:00</td>\n",
       "    </tr>\n",
       "    <tr>\n",
       "      <th>330</th>\n",
       "      <td>&lt;200 https://heerenveen.christenunie.nl/k/n253...</td>\n",
       "      <td>https://heerenveen.christenunie.nl/k/n2531/new...</td>\n",
       "      <td>Tryntsje Dijkstra en Jolanda Mosselaar van de ...</td>\n",
       "      <td>Werkbezoek Stichting MEE</td>\n",
       "      <td>2010-01-30T10:19:00+00:00</td>\n",
       "    </tr>\n",
       "    <tr>\n",
       "      <th>331</th>\n",
       "      <td>&lt;200 https://heerenveen.christenunie.nl/k/n253...</td>\n",
       "      <td>https://heerenveen.christenunie.nl/k/n2531/new...</td>\n",
       "      <td>Een interessante en moeilijk te beantwoorden v...</td>\n",
       "      <td>Wat houdt de meeste mensen in Heerenveen bezig?</td>\n",
       "      <td>2010-01-28T07:12:00+00:00</td>\n",
       "    </tr>\n",
       "    <tr>\n",
       "      <th>332</th>\n",
       "      <td>&lt;200 https://heerenveen.christenunie.nl/k/n253...</td>\n",
       "      <td>https://heerenveen.christenunie.nl/k/n2531/new...</td>\n",
       "      <td>De afgelopen raadsperiode is de WMO (Wet Maats...</td>\n",
       "      <td>Geld oppotten en Omtinkers aanstellen</td>\n",
       "      <td>2010-01-25T15:01:00+00:00</td>\n",
       "    </tr>\n",
       "    <tr>\n",
       "      <th>333</th>\n",
       "      <td>&lt;200 https://heerenveen.christenunie.nl/k/n253...</td>\n",
       "      <td>https://heerenveen.christenunie.nl/k/n2531/new...</td>\n",
       "      <td>De ChristenUnie vindt het besluit om luxe woni...</td>\n",
       "      <td>Grondaankoop Tjalleberter Krite dure misser</td>\n",
       "      <td>2010-01-22T13:21:00+00:00</td>\n",
       "    </tr>\n",
       "    <tr>\n",
       "      <th>335</th>\n",
       "      <td>&lt;200 https://heerenveen.christenunie.nl/k/n253...</td>\n",
       "      <td>https://heerenveen.christenunie.nl/k/n2531/new...</td>\n",
       "      <td>Vrijwilligers zijn broodnodig, maar ze zijn sc...</td>\n",
       "      <td>ChristenUnie steekt de handen uit de mouwen.</td>\n",
       "      <td>2010-02-18T07:24:00+00:00</td>\n",
       "    </tr>\n",
       "    <tr>\n",
       "      <th>336</th>\n",
       "      <td>&lt;200 https://heerenveen.christenunie.nl/k/n253...</td>\n",
       "      <td>https://heerenveen.christenunie.nl/k/n2531/new...</td>\n",
       "      <td>Drie partijen in Heerenveen proberen de kiezer...</td>\n",
       "      <td>ChristenUnie wil meebesturen in Heerenveen</td>\n",
       "      <td>2010-02-09T07:24:00+00:00</td>\n",
       "    </tr>\n",
       "    <tr>\n",
       "      <th>337</th>\n",
       "      <td>&lt;200 https://heerenveen.christenunie.nl/k/n253...</td>\n",
       "      <td>https://heerenveen.christenunie.nl/k/n2531/new...</td>\n",
       "      <td>Ons gemeentebestuur wil met topsportvoorzienin...</td>\n",
       "      <td>Heerenveen Stad van Sport Wie let er op de kle...</td>\n",
       "      <td>2010-02-03T06:52:00+00:00</td>\n",
       "    </tr>\n",
       "    <tr>\n",
       "      <th>338</th>\n",
       "      <td>&lt;200 https://heerenveen.christenunie.nl/k/n253...</td>\n",
       "      <td>https://heerenveen.christenunie.nl/k/n2531/new...</td>\n",
       "      <td>Onze fractievoorzitter, Tryntsje Dijkstra, is ...</td>\n",
       "      <td>Ziekte fractievoorzitter</td>\n",
       "      <td>2010-10-27T18:15:00+00:00</td>\n",
       "    </tr>\n",
       "    <tr>\n",
       "      <th>340</th>\n",
       "      <td>&lt;200 https://heerenveen.christenunie.nl/k/n253...</td>\n",
       "      <td>https://heerenveen.christenunie.nl/k/n2531/new...</td>\n",
       "      <td>De gemeente Heerenveen is in april 2007 op voo...</td>\n",
       "      <td>Werkgroep Millenniumgemeente</td>\n",
       "      <td>2008-01-28T19:50:00+00:00</td>\n",
       "    </tr>\n",
       "    <tr>\n",
       "      <th>341</th>\n",
       "      <td>&lt;200 https://heerenveen.christenunie.nl/k/n253...</td>\n",
       "      <td>https://heerenveen.christenunie.nl/k/n2531/new...</td>\n",
       "      <td>In november 2007 hielden we onze jaarlijkse le...</td>\n",
       "      <td>Impressie van de ledenvergadering</td>\n",
       "      <td>2008-01-28T19:39:00+00:00</td>\n",
       "    </tr>\n",
       "    <tr>\n",
       "      <th>342</th>\n",
       "      <td>&lt;200 https://heerenveen.christenunie.nl/k/n253...</td>\n",
       "      <td>https://heerenveen.christenunie.nl/k/n2531/new...</td>\n",
       "      <td>dinsdag 15 januari 2008 10:37 Geloof en Politi...</td>\n",
       "      <td>Rouvoet: 'Wie geloof en politiek wil scheiden ...</td>\n",
       "      <td>2008-01-20T19:18:00+00:00</td>\n",
       "    </tr>\n",
       "    <tr>\n",
       "      <th>343</th>\n",
       "      <td>&lt;200 https://heerenveen.christenunie.nl/k/n253...</td>\n",
       "      <td>https://heerenveen.christenunie.nl/k/n2531/new...</td>\n",
       "      <td>De ChristenUnie in Heerenveen is steeds zeer t...</td>\n",
       "      <td>Fusie? Eerst naar de burgers!</td>\n",
       "      <td>2009-11-03T20:39:00+00:00</td>\n",
       "    </tr>\n",
       "    <tr>\n",
       "      <th>344</th>\n",
       "      <td>&lt;200 https://heerenveen.christenunie.nl/k/n253...</td>\n",
       "      <td>https://heerenveen.christenunie.nl/k/n2531/new...</td>\n",
       "      <td>Tijdens een spoeddebat, aangevraagd door de pv...</td>\n",
       "      <td>Centrum voor de Kunsten A7</td>\n",
       "      <td>2009-10-18T12:55:00+00:00</td>\n",
       "    </tr>\n",
       "    <tr>\n",
       "      <th>345</th>\n",
       "      <td>&lt;200 https://heerenveen.christenunie.nl/k/n253...</td>\n",
       "      <td>https://heerenveen.christenunie.nl/k/n2531/new...</td>\n",
       "      <td>Op 12 november is de jaarlijkse begrotingsverg...</td>\n",
       "      <td>Thialf Discovery!</td>\n",
       "      <td>2009-10-12T18:25:00+00:00</td>\n",
       "    </tr>\n",
       "    <tr>\n",
       "      <th>346</th>\n",
       "      <td>&lt;200 https://heerenveen.christenunie.nl/k/n253...</td>\n",
       "      <td>https://heerenveen.christenunie.nl/k/n2531/new...</td>\n",
       "      <td>(Een ondernemer betaalt geen belasting als hij...</td>\n",
       "      <td>Ondernemersfonds voor het centrum</td>\n",
       "      <td>2009-10-12T18:15:00+00:00</td>\n",
       "    </tr>\n",
       "    <tr>\n",
       "      <th>347</th>\n",
       "      <td>&lt;200 https://heerenveen.christenunie.nl/k/n253...</td>\n",
       "      <td>https://heerenveen.christenunie.nl/k/n2531/new...</td>\n",
       "      <td>De ledenvergadering van de ChristenUnie in Hee...</td>\n",
       "      <td>Tryntsje Dijkstra opnieuw lijsttrekker Christe...</td>\n",
       "      <td>2009-12-28T14:29:00+00:00</td>\n",
       "    </tr>\n",
       "    <tr>\n",
       "      <th>348</th>\n",
       "      <td>&lt;200 https://heerenveen.christenunie.nl/k/n253...</td>\n",
       "      <td>https://heerenveen.christenunie.nl/k/n2531/new...</td>\n",
       "      <td>Voorzitter, met deze tekst uit de Bijbel geef ...</td>\n",
       "      <td>Tien belangrijke boodschappen van de ChristenU...</td>\n",
       "      <td>2009-12-28T14:16:00+00:00</td>\n",
       "    </tr>\n",
       "    <tr>\n",
       "      <th>349</th>\n",
       "      <td>&lt;200 https://heerenveen.christenunie.nl/k/n253...</td>\n",
       "      <td>https://heerenveen.christenunie.nl/k/n2531/new...</td>\n",
       "      <td>Jan Boven (68) heeft zich jarenlang ingezet vo...</td>\n",
       "      <td>Jan Boven ontvangt zilveren speld</td>\n",
       "      <td>2009-12-18T16:30:00+00:00</td>\n",
       "    </tr>\n",
       "    <tr>\n",
       "      <th>351</th>\n",
       "      <td>&lt;200 https://heerenveen.christenunie.nl/k/n253...</td>\n",
       "      <td>https://heerenveen.christenunie.nl/k/n2531/new...</td>\n",
       "      <td>Per 1 mei wordt Aris Leijendekker uit Tjallebe...</td>\n",
       "      <td>Wisseling in de fractie</td>\n",
       "      <td>2008-03-17T03:58:00+00:00</td>\n",
       "    </tr>\n",
       "    <tr>\n",
       "      <th>352</th>\n",
       "      <td>&lt;200 https://heerenveen.christenunie.nl/k/n253...</td>\n",
       "      <td>https://heerenveen.christenunie.nl/k/n2531/new...</td>\n",
       "      <td>De fractie van de ChristenUnie heeft bij de be...</td>\n",
       "      <td>Heerenveen Stad van Sport</td>\n",
       "      <td>2008-11-19T09:02:00+00:00</td>\n",
       "    </tr>\n",
       "    <tr>\n",
       "      <th>355</th>\n",
       "      <td>&lt;200 https://heerenveen.christenunie.nl/k/n253...</td>\n",
       "      <td>https://heerenveen.christenunie.nl/k/n2531/new...</td>\n",
       "      <td>Vluchtelingenwerk Heerenveen heeft de handen v...</td>\n",
       "      <td>Vluchtelingenwerk druk met coaching van de ‘pa...</td>\n",
       "      <td>2008-09-06T15:30:00+00:00</td>\n",
       "    </tr>\n",
       "  </tbody>\n",
       "</table>\n",
       "<p>115 rows × 5 columns</p>\n",
       "</div>"
      ],
      "text/plain": [
       "                                                  html  \\\n",
       "1      <200 https://heerenveen.christenunie.nl/nieuws>   \n",
       "3      <200 https://heerenveen.christenunie.nl/nieuws>   \n",
       "4      <200 https://heerenveen.christenunie.nl/nieuws>   \n",
       "5      <200 https://heerenveen.christenunie.nl/nieuws>   \n",
       "6      <200 https://heerenveen.christenunie.nl/nieuws>   \n",
       "7    <200 https://heerenveen.christenunie.nl/k/n253...   \n",
       "8      <200 https://heerenveen.christenunie.nl/nieuws>   \n",
       "12   <200 https://heerenveen.christenunie.nl/k/n253...   \n",
       "13   <200 https://heerenveen.christenunie.nl/k/n253...   \n",
       "14   <200 https://heerenveen.christenunie.nl/k/n253...   \n",
       "20   <200 https://heerenveen.christenunie.nl/k/n253...   \n",
       "21   <200 https://heerenveen.christenunie.nl/k/n253...   \n",
       "92   <200 https://heerenveen.christenunie.nl/k/n253...   \n",
       "93   <200 https://heerenveen.christenunie.nl/k/n253...   \n",
       "95   <200 https://heerenveen.christenunie.nl/k/n253...   \n",
       "99   <200 https://heerenveen.christenunie.nl/k/n253...   \n",
       "100  <200 https://heerenveen.christenunie.nl/k/n253...   \n",
       "101  <200 https://heerenveen.christenunie.nl/k/n253...   \n",
       "102  <200 https://heerenveen.christenunie.nl/k/n253...   \n",
       "103  <200 https://heerenveen.christenunie.nl/k/n253...   \n",
       "113  <200 https://heerenveen.christenunie.nl/k/n253...   \n",
       "133  <200 https://heerenveen.christenunie.nl/k/n253...   \n",
       "134  <200 https://heerenveen.christenunie.nl/k/n253...   \n",
       "135  <200 https://heerenveen.christenunie.nl/k/n253...   \n",
       "137  <200 https://heerenveen.christenunie.nl/k/n253...   \n",
       "138  <200 https://heerenveen.christenunie.nl/k/n253...   \n",
       "139  <200 https://heerenveen.christenunie.nl/k/n253...   \n",
       "140  <200 https://heerenveen.christenunie.nl/k/n253...   \n",
       "142  <200 https://heerenveen.christenunie.nl/k/n253...   \n",
       "144  <200 https://heerenveen.christenunie.nl/k/n253...   \n",
       "..                                                 ...   \n",
       "306  <200 https://heerenveen.christenunie.nl/k/n253...   \n",
       "307  <200 https://heerenveen.christenunie.nl/k/n253...   \n",
       "309  <200 https://heerenveen.christenunie.nl/k/n253...   \n",
       "314  <200 https://heerenveen.christenunie.nl/k/n253...   \n",
       "316  <200 https://heerenveen.christenunie.nl/k/n253...   \n",
       "317  <200 https://heerenveen.christenunie.nl/k/n253...   \n",
       "319  <200 https://heerenveen.christenunie.nl/k/n253...   \n",
       "320  <200 https://heerenveen.christenunie.nl/k/n253...   \n",
       "324  <200 https://heerenveen.christenunie.nl/k/n253...   \n",
       "330  <200 https://heerenveen.christenunie.nl/k/n253...   \n",
       "331  <200 https://heerenveen.christenunie.nl/k/n253...   \n",
       "332  <200 https://heerenveen.christenunie.nl/k/n253...   \n",
       "333  <200 https://heerenveen.christenunie.nl/k/n253...   \n",
       "335  <200 https://heerenveen.christenunie.nl/k/n253...   \n",
       "336  <200 https://heerenveen.christenunie.nl/k/n253...   \n",
       "337  <200 https://heerenveen.christenunie.nl/k/n253...   \n",
       "338  <200 https://heerenveen.christenunie.nl/k/n253...   \n",
       "340  <200 https://heerenveen.christenunie.nl/k/n253...   \n",
       "341  <200 https://heerenveen.christenunie.nl/k/n253...   \n",
       "342  <200 https://heerenveen.christenunie.nl/k/n253...   \n",
       "343  <200 https://heerenveen.christenunie.nl/k/n253...   \n",
       "344  <200 https://heerenveen.christenunie.nl/k/n253...   \n",
       "345  <200 https://heerenveen.christenunie.nl/k/n253...   \n",
       "346  <200 https://heerenveen.christenunie.nl/k/n253...   \n",
       "347  <200 https://heerenveen.christenunie.nl/k/n253...   \n",
       "348  <200 https://heerenveen.christenunie.nl/k/n253...   \n",
       "349  <200 https://heerenveen.christenunie.nl/k/n253...   \n",
       "351  <200 https://heerenveen.christenunie.nl/k/n253...   \n",
       "352  <200 https://heerenveen.christenunie.nl/k/n253...   \n",
       "355  <200 https://heerenveen.christenunie.nl/k/n253...   \n",
       "\n",
       "                                                   url  \\\n",
       "1    https://heerenveen.christenunie.nl/k/n2531/new...   \n",
       "3    https://heerenveen.christenunie.nl/k/n2531/new...   \n",
       "4    https://heerenveen.christenunie.nl/k/n2531/new...   \n",
       "5    https://heerenveen.christenunie.nl/k/n2531/new...   \n",
       "6    https://heerenveen.christenunie.nl/k/n2531/new...   \n",
       "7    https://heerenveen.christenunie.nl/k/n2531/new...   \n",
       "8    https://heerenveen.christenunie.nl/k/n2531/new...   \n",
       "12   https://heerenveen.christenunie.nl/k/n2531/new...   \n",
       "13   https://heerenveen.christenunie.nl/k/n2531/new...   \n",
       "14   https://heerenveen.christenunie.nl/k/n2531/new...   \n",
       "20   https://heerenveen.christenunie.nl/k/n2531/new...   \n",
       "21   https://heerenveen.christenunie.nl/k/n2531/new...   \n",
       "92   https://heerenveen.christenunie.nl/k/n2531/new...   \n",
       "93   https://heerenveen.christenunie.nl/k/n2531/new...   \n",
       "95   https://heerenveen.christenunie.nl/k/n2531/new...   \n",
       "99   https://heerenveen.christenunie.nl/k/n2531/new...   \n",
       "100  https://heerenveen.christenunie.nl/k/n2531/new...   \n",
       "101  https://heerenveen.christenunie.nl/k/n2531/new...   \n",
       "102  https://heerenveen.christenunie.nl/k/n2531/new...   \n",
       "103  https://heerenveen.christenunie.nl/k/n2531/new...   \n",
       "113  https://heerenveen.christenunie.nl/k/n2531/new...   \n",
       "133  https://heerenveen.christenunie.nl/k/n2531/new...   \n",
       "134  https://heerenveen.christenunie.nl/k/n2531/new...   \n",
       "135  https://heerenveen.christenunie.nl/k/n2531/new...   \n",
       "137  https://heerenveen.christenunie.nl/k/n2531/new...   \n",
       "138  https://heerenveen.christenunie.nl/k/n2531/new...   \n",
       "139  https://heerenveen.christenunie.nl/k/n2531/new...   \n",
       "140  https://heerenveen.christenunie.nl/k/n2531/new...   \n",
       "142  https://heerenveen.christenunie.nl/k/n2531/new...   \n",
       "144  https://heerenveen.christenunie.nl/k/n2531/new...   \n",
       "..                                                 ...   \n",
       "306  https://heerenveen.christenunie.nl/k/n2531/new...   \n",
       "307  https://heerenveen.christenunie.nl/k/n2531/new...   \n",
       "309  https://heerenveen.christenunie.nl/k/n2531/new...   \n",
       "314  https://heerenveen.christenunie.nl/k/n2531/new...   \n",
       "316  https://heerenveen.christenunie.nl/k/n2531/new...   \n",
       "317  https://heerenveen.christenunie.nl/k/n2531/new...   \n",
       "319  https://heerenveen.christenunie.nl/k/n2531/new...   \n",
       "320  https://heerenveen.christenunie.nl/k/n2531/new...   \n",
       "324  https://heerenveen.christenunie.nl/k/n2531/new...   \n",
       "330  https://heerenveen.christenunie.nl/k/n2531/new...   \n",
       "331  https://heerenveen.christenunie.nl/k/n2531/new...   \n",
       "332  https://heerenveen.christenunie.nl/k/n2531/new...   \n",
       "333  https://heerenveen.christenunie.nl/k/n2531/new...   \n",
       "335  https://heerenveen.christenunie.nl/k/n2531/new...   \n",
       "336  https://heerenveen.christenunie.nl/k/n2531/new...   \n",
       "337  https://heerenveen.christenunie.nl/k/n2531/new...   \n",
       "338  https://heerenveen.christenunie.nl/k/n2531/new...   \n",
       "340  https://heerenveen.christenunie.nl/k/n2531/new...   \n",
       "341  https://heerenveen.christenunie.nl/k/n2531/new...   \n",
       "342  https://heerenveen.christenunie.nl/k/n2531/new...   \n",
       "343  https://heerenveen.christenunie.nl/k/n2531/new...   \n",
       "344  https://heerenveen.christenunie.nl/k/n2531/new...   \n",
       "345  https://heerenveen.christenunie.nl/k/n2531/new...   \n",
       "346  https://heerenveen.christenunie.nl/k/n2531/new...   \n",
       "347  https://heerenveen.christenunie.nl/k/n2531/new...   \n",
       "348  https://heerenveen.christenunie.nl/k/n2531/new...   \n",
       "349  https://heerenveen.christenunie.nl/k/n2531/new...   \n",
       "351  https://heerenveen.christenunie.nl/k/n2531/new...   \n",
       "352  https://heerenveen.christenunie.nl/k/n2531/new...   \n",
       "355  https://heerenveen.christenunie.nl/k/n2531/new...   \n",
       "\n",
       "                                                  body  \\\n",
       "1    Op woensdag 21 maart zijn er in de gemeente He...   \n",
       "3    Alle stemmen zijn geteld. Ongeveer 60.000 mens...   \n",
       "4    Afgelopen zaterdag hebben onze raadsleden Lia ...   \n",
       "5    Carla Dik-Faber wil van de minister weten hoe ...   \n",
       "6    Juist nu de toekomst van het bijzonder onderwi...   \n",
       "7    Op woensdag 21 maart zijn er in de gemeente He...   \n",
       "8    Na een intensieve campagneperiode en een spann...   \n",
       "12   Op maandag 19 maart vindt in Heerenveen een po...   \n",
       "13   Op woensdag 14 maart vindt in Akkrum een polit...   \n",
       "14   Op maandag 5 maart vindt in Jubbega een politi...   \n",
       "20   Aris is fervent hardloper en maakte tijdens zi...   \n",
       "21   Omdat het prostitutieprobleem in Heerenveen gr...   \n",
       "92   Zaterdag ontving Boerenblij maar liefst 14 oud...   \n",
       "93   De ChristenUnie en het CDA in Heerenveen zijn ...   \n",
       "95   De ChristenUnie Heerenveen is klaar voor de he...   \n",
       "99   Aris Leijendekker, lijsttrekker voor de Christ...   \n",
       "100  Mijn naam is Lia de Heij; ik ben getrouwd met ...   \n",
       "101  Lijsttrekker Aris Leijendekker van de Christen...   \n",
       "102                                                      \n",
       "103  Zaterdag 14 september is het open Monumentenda...   \n",
       "113  De programmabegroting, ofwel het huishoudboekj...   \n",
       "133  De gemeente Heerenveen is in april 2007 op voo...   \n",
       "134  In november 2007 hielden we onze jaarlijkse le...   \n",
       "135  dinsdag 15 januari 2008 10:37 Geloof en Politi...   \n",
       "137  Tryntsje Dijkstra en Jolanda Mosselaar van de ...   \n",
       "138  Een interessante en moeilijk te beantwoorden v...   \n",
       "139  De afgelopen raadsperiode is de WMO (Wet Maats...   \n",
       "140  De ChristenUnie vindt het besluit om luxe woni...   \n",
       "142  Per 1 mei wordt Aris Leijendekker uit Tjallebe...   \n",
       "144  De ChristenUnie wil dat de gemeente Heerenveen...   \n",
       "..                                                 ...   \n",
       "306  Donderdag 16 februari waren 2 vertegenwoordige...   \n",
       "307  Na ruim een jaar ziek te zijn geweest, is Tryn...   \n",
       "309  Zaterdag 14 april zijn we als (steun-) fractie...   \n",
       "314  23 november jl. hebben we onze jaarlijkse lede...   \n",
       "316  Op zaterdag 17 september kwam de ChristenUnie ...   \n",
       "317  In de gemeenteraadsvergadering van 26 septembe...   \n",
       "319  De start van de regiotour Friesland is 13 mei ...   \n",
       "320  Bestuursrapportage 2011 \\n\\nHet voorstel is da...   \n",
       "324  Het wordt steeds ingewikkelder om kleding in t...   \n",
       "330  Tryntsje Dijkstra en Jolanda Mosselaar van de ...   \n",
       "331  Een interessante en moeilijk te beantwoorden v...   \n",
       "332  De afgelopen raadsperiode is de WMO (Wet Maats...   \n",
       "333  De ChristenUnie vindt het besluit om luxe woni...   \n",
       "335  Vrijwilligers zijn broodnodig, maar ze zijn sc...   \n",
       "336  Drie partijen in Heerenveen proberen de kiezer...   \n",
       "337  Ons gemeentebestuur wil met topsportvoorzienin...   \n",
       "338  Onze fractievoorzitter, Tryntsje Dijkstra, is ...   \n",
       "340  De gemeente Heerenveen is in april 2007 op voo...   \n",
       "341  In november 2007 hielden we onze jaarlijkse le...   \n",
       "342  dinsdag 15 januari 2008 10:37 Geloof en Politi...   \n",
       "343  De ChristenUnie in Heerenveen is steeds zeer t...   \n",
       "344  Tijdens een spoeddebat, aangevraagd door de pv...   \n",
       "345  Op 12 november is de jaarlijkse begrotingsverg...   \n",
       "346  (Een ondernemer betaalt geen belasting als hij...   \n",
       "347  De ledenvergadering van de ChristenUnie in Hee...   \n",
       "348  Voorzitter, met deze tekst uit de Bijbel geef ...   \n",
       "349  Jan Boven (68) heeft zich jarenlang ingezet vo...   \n",
       "351  Per 1 mei wordt Aris Leijendekker uit Tjallebe...   \n",
       "352  De fractie van de ChristenUnie heeft bij de be...   \n",
       "355  Vluchtelingenwerk Heerenveen heeft de handen v...   \n",
       "\n",
       "                                                 title  \\\n",
       "1    Politieke debatten in Jubbega, Akkrum en Heere...   \n",
       "3                                   Dank voor uw stem!   \n",
       "4                                              Lintjes   \n",
       "5    ChristenUnie stelt Kamervragen over gaswinning...   \n",
       "6           Laat weten wat jouw school bijzonder maakt   \n",
       "7    Politieke debatten in Jubbega, Akkrum en Heere...   \n",
       "8                        ChristenUnie behoudt 2 zetels   \n",
       "12                        Politiek debat in Heerenveen   \n",
       "13                            Politiek debat in Akkrum   \n",
       "14                           Politiek debat in Jubbega   \n",
       "20   Lijsttrekker ChristenUnie sluit dorpenmarathon...   \n",
       "21     ChristenUnie wil prostitutiebeleid op de agenda   \n",
       "92        Fractie in actie op Zorgboerderij Boerenblij   \n",
       "93    ChristenUnie en CDA komen op voor kleine scholen   \n",
       "95              Leijendekker lijsttrekker ChristenUnie   \n",
       "99   Lijsttrekker ChristenUnie rennend door Heerenv...   \n",
       "100  Lia de Heij, nummer 2 van de kanditatenlijst, ...   \n",
       "101  Interview Lijstrekker Aris Leijendekker met jo...   \n",
       "102  De kandidatenlijst voor de gemeenteraadsverkie...   \n",
       "103  Zaterdag 14 september speed d(eb)ate met Aris ...   \n",
       "113                Huishoudboekje begrijpelijker maken   \n",
       "133                       Werkgroep Millenniumgemeente   \n",
       "134                  Impressie van de ledenvergadering   \n",
       "135  Rouvoet: 'Wie geloof en politiek wil scheiden ...   \n",
       "137                           Werkbezoek Stichting MEE   \n",
       "138    Wat houdt de meeste mensen in Heerenveen bezig?   \n",
       "139              Geld oppotten en Omtinkers aanstellen   \n",
       "140        Grondaankoop Tjalleberter Krite dure misser   \n",
       "142                            Wisseling in de fractie   \n",
       "144  Pre mediation in gemeente Heerenveen voor bete...   \n",
       "..                                                 ...   \n",
       "306  Provinciale Unie op bezoek bij het bestuur in ...   \n",
       "307                 Tryntsje Dijkstra terug in de raad   \n",
       "309  (steun)fractie en bestuur bereiden zich voor o...   \n",
       "314         Verslag van de jaarlijkse ledenvergadering   \n",
       "316  ChristenUnie Heerenveen start nieuw politiek s...   \n",
       "317  belevenissen als tijdelijk raadslid van Lia de...   \n",
       "319                          Van Europa naar Friesland   \n",
       "320  Betoog bestuursrapportage 2011 en themabegroti...   \n",
       "324                 ChristenUnie gaat voor tweedehands   \n",
       "330                           Werkbezoek Stichting MEE   \n",
       "331    Wat houdt de meeste mensen in Heerenveen bezig?   \n",
       "332              Geld oppotten en Omtinkers aanstellen   \n",
       "333        Grondaankoop Tjalleberter Krite dure misser   \n",
       "335       ChristenUnie steekt de handen uit de mouwen.   \n",
       "336         ChristenUnie wil meebesturen in Heerenveen   \n",
       "337  Heerenveen Stad van Sport Wie let er op de kle...   \n",
       "338                           Ziekte fractievoorzitter   \n",
       "340                       Werkgroep Millenniumgemeente   \n",
       "341                  Impressie van de ledenvergadering   \n",
       "342  Rouvoet: 'Wie geloof en politiek wil scheiden ...   \n",
       "343                      Fusie? Eerst naar de burgers!   \n",
       "344                         Centrum voor de Kunsten A7   \n",
       "345                                  Thialf Discovery!   \n",
       "346                  Ondernemersfonds voor het centrum   \n",
       "347  Tryntsje Dijkstra opnieuw lijsttrekker Christe...   \n",
       "348  Tien belangrijke boodschappen van de ChristenU...   \n",
       "349                  Jan Boven ontvangt zilveren speld   \n",
       "351                            Wisseling in de fractie   \n",
       "352                          Heerenveen Stad van Sport   \n",
       "355  Vluchtelingenwerk druk met coaching van de ‘pa...   \n",
       "\n",
       "                 publish_dates  \n",
       "1    2018-03-03T08:31:00+00:00  \n",
       "3    2017-03-23T12:10:00+00:00  \n",
       "4    2017-03-17T11:36:00+00:00  \n",
       "5    2017-03-06T12:52:00+00:00  \n",
       "6    2017-02-27T20:43:00+00:00  \n",
       "7    2018-03-03T08:31:00+00:00  \n",
       "8    2013-11-15T18:00:00+00:00  \n",
       "12   2018-03-03T08:19:00+00:00  \n",
       "13   2018-03-03T08:16:00+00:00  \n",
       "14   2018-03-03T08:15:00+00:00  \n",
       "20   2013-11-12T11:02:00+00:00  \n",
       "21   2013-11-01T11:13:00+00:00  \n",
       "92   2013-03-11T14:15:00+00:00  \n",
       "93   2013-03-01T08:05:00+00:00  \n",
       "95   2013-06-03T09:11:00+00:00  \n",
       "99   2013-09-30T14:53:00+00:00  \n",
       "100  2013-09-28T10:04:00+00:00  \n",
       "101  2013-09-23T09:50:00+00:00  \n",
       "102  2013-09-16T09:18:00+00:00  \n",
       "103  2013-09-11T07:55:00+00:00  \n",
       "113  2007-01-21T21:10:00+00:00  \n",
       "133  2008-01-28T19:50:00+00:00  \n",
       "134  2008-01-28T19:39:00+00:00  \n",
       "135  2008-01-20T19:18:00+00:00  \n",
       "137  2010-01-30T10:19:00+00:00  \n",
       "138  2010-01-28T07:12:00+00:00  \n",
       "139  2010-01-25T15:01:00+00:00  \n",
       "140  2010-01-22T13:21:00+00:00  \n",
       "142  2008-03-17T03:58:00+00:00  \n",
       "144  2011-01-24T15:51:00+00:00  \n",
       "..                         ...  \n",
       "306  2012-02-17T13:23:00+00:00  \n",
       "307  2012-02-02T08:09:00+00:00  \n",
       "309  2012-04-16T13:16:00+00:00  \n",
       "314  2011-12-05T10:41:00+00:00  \n",
       "316  2011-09-17T08:31:00+00:00  \n",
       "317  2011-10-19T13:51:00+00:00  \n",
       "319  2009-05-07T17:02:00+00:00  \n",
       "320  2011-12-06T16:10:00+00:00  \n",
       "324  2009-04-17T13:18:00+00:00  \n",
       "330  2010-01-30T10:19:00+00:00  \n",
       "331  2010-01-28T07:12:00+00:00  \n",
       "332  2010-01-25T15:01:00+00:00  \n",
       "333  2010-01-22T13:21:00+00:00  \n",
       "335  2010-02-18T07:24:00+00:00  \n",
       "336  2010-02-09T07:24:00+00:00  \n",
       "337  2010-02-03T06:52:00+00:00  \n",
       "338  2010-10-27T18:15:00+00:00  \n",
       "340  2008-01-28T19:50:00+00:00  \n",
       "341  2008-01-28T19:39:00+00:00  \n",
       "342  2008-01-20T19:18:00+00:00  \n",
       "343  2009-11-03T20:39:00+00:00  \n",
       "344  2009-10-18T12:55:00+00:00  \n",
       "345  2009-10-12T18:25:00+00:00  \n",
       "346  2009-10-12T18:15:00+00:00  \n",
       "347  2009-12-28T14:29:00+00:00  \n",
       "348  2009-12-28T14:16:00+00:00  \n",
       "349  2009-12-18T16:30:00+00:00  \n",
       "351  2008-03-17T03:58:00+00:00  \n",
       "352  2008-11-19T09:02:00+00:00  \n",
       "355  2008-09-06T15:30:00+00:00  \n",
       "\n",
       "[115 rows x 5 columns]"
      ]
     },
     "execution_count": 10,
     "metadata": {},
     "output_type": "execute_result"
    }
   ],
   "source": [
    "url_list.dropna(inplace=True)\n",
    "url_list"
   ]
  },
  {
   "cell_type": "code",
   "execution_count": 11,
   "metadata": {},
   "outputs": [],
   "source": [
    "url_list.to_csv('output.csv')"
   ]
  },
  {
   "cell_type": "code",
   "execution_count": null,
   "metadata": {},
   "outputs": [],
   "source": []
  }
 ],
 "metadata": {
  "kernelspec": {
   "display_name": "Python 3",
   "language": "python",
   "name": "python3"
  },
  "language_info": {
   "codemirror_mode": {
    "name": "ipython",
    "version": 3
   },
   "file_extension": ".py",
   "mimetype": "text/x-python",
   "name": "python",
   "nbconvert_exporter": "python",
   "pygments_lexer": "ipython3",
   "version": "3.6.7"
  }
 },
 "nbformat": 4,
 "nbformat_minor": 2
}
